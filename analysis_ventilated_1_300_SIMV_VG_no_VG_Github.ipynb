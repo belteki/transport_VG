{
 "cells": [
  {
   "cell_type": "markdown",
   "metadata": {},
   "source": [
    "![alt text](./Cerny_logo_1.jpg)"
   ]
  },
  {
   "cell_type": "markdown",
   "metadata": {},
   "source": [
    "# Analysis of Cerny ventilation recordings - SIMV-VG versus SIMV\n",
    "\n",
    "The data processed and analysed in this Notebook were collected by the **Neonatal Emergency and Transport Service of the Peter Cerny Foundation**, Budapest, Hungary\n",
    "\n",
    "**Author: Dr Gusztav Belteki**\n",
    "\n",
    "## Analysis of mechanically ventilated cases among `AL000001-AL000300`\n",
    "\n",
    "Analysis of ventilated babies comparing ventilator parameters during volume targeted ventilation versus non volume targeted ventilation (VTV).\n",
    "\n",
    "This notebook compares SIMV-VG ventilation with SIMV ventilation without VG.\n",
    "\n",
    "- It starts from 145 ventilated cases\n",
    "- 13 cases with >46 week CGA are excluded - 132 remaining\n",
    "- 48 cases are excluded as it was not SIMV or SIMV was not the dominant mode in them - 84 remaining \n",
    "- For 1 case VG info was missing - 83 remaining: 49 VG, 34 no-VG\n",
    "- 6 cases removed as they contained >15 minutes of the other ventilator mode (VG or no-VG): **77 cases remaining (45 VG, 32 noVG**)\n",
    "\n",
    "For cases where SIMV was the dominant mode but had other modes, parts of the recording containing modes have been removed.\n",
    "\n",
    "Imported: \n",
    "\n",
    "- data_pars_measurements_ventilated_1_300.pickle,  \n",
    "- data_pars_settings_ventilated_1_300.pickle, \n",
    "- data_pars_alarms_ventilated_1_300.pickle, \n",
    "- vent_modes_ventilated_1_300_plus.pickle, \n",
    "- clin_df_pickle_1_300.pickle, \n",
    "- blood_gases_1_300.pickle,\n",
    "- Fabian_parameters.xlsx\n",
    "\n",
    "Exported: \n",
    "\n",
    "- Excel files and graphs about statistics regarding clinical data, ventilator modes and ventilator parameters  are exported to **/Users/guszti/ventilation_fabian/Analyses/analysis_ventilated_1_300_SIMV_VG_noVG** folder\n",
    "- Time series graphs on ventilator parameters are exported to the **/Volumes/GUSZTI/data_dump/fabian/fabian_cases** folder into individual subfolders named after the recording\n",
    "- Tables and figures of the manuscript\n"
   ]
  },
  {
   "cell_type": "markdown",
   "metadata": {},
   "source": [
    "### Importing the necessary libraries and setting options"
   ]
  },
  {
   "cell_type": "code",
   "execution_count": null,
   "metadata": {},
   "outputs": [],
   "source": [
    "import IPython\n",
    "import pandas as pd\n",
    "import numpy as np\n",
    "import scipy as sp\n",
    "import matplotlib\n",
    "import matplotlib.pyplot as plt\n",
    "import seaborn as sns\n",
    "import sklearn as sk\n",
    "\n",
    "import os\n",
    "import sys\n",
    "import re\n",
    "import pickle\n",
    "\n",
    "from scipy import stats\n",
    "from pandas import Series, DataFrame\n",
    "from datetime import datetime, timedelta\n",
    "\n",
    "%matplotlib inline\n",
    "matplotlib.style.use('classic')\n",
    "matplotlib.rcParams['figure.facecolor'] = 'w'\n",
    "\n",
    "pd.set_option('display.max_rows', 500)\n",
    "pd.set_option('display.max_columns', 100)\n",
    "# pd.set_option('mode.chained_assignment', None) "
   ]
  },
  {
   "cell_type": "code",
   "execution_count": null,
   "metadata": {},
   "outputs": [],
   "source": [
    "print(\"Python version: {}\".format(sys.version))\n",
    "print(\"pandas version: {}\".format(pd.__version__))\n",
    "print(\"matplotlib version: {}\".format(matplotlib.__version__))\n",
    "print(\"NumPy version: {}\".format(np.__version__))\n",
    "print(\"SciPy version: {}\".format(sp.__version__))\n",
    "print(\"IPython version: {}\".format(IPython.__version__))\n",
    "print(\"scikit-learn version: {}\".format(sk.__version__))"
   ]
  },
  {
   "cell_type": "markdown",
   "metadata": {},
   "source": [
    "### List and set the working directory and the directory to write out data"
   ]
  },
  {
   "cell_type": "code",
   "execution_count": null,
   "metadata": {},
   "outputs": [],
   "source": [
    "# Topic of the Notebook which will also be the name of the subfolder containing results\n",
    "TOPIC = 'fabian'\n",
    "\n",
    "# Name of the external hard drive\n",
    "DRIVE = 'GUSZTI'\n",
    "\n",
    "# Directory containing clinical and blood gas data\n",
    "CWD = '/Users/guszti/ventilation_fabian'\n",
    "\n",
    "# Directory on external drive to read the ventilation data from\n",
    "DIR_READ = '/Volumes/%s/Fabian/fabian_data' % DRIVE\n",
    "\n",
    "DIR_WRITE = '%s/%s/%s' % (CWD, 'Analyses', 'analysis_ventilated_1_300_SIMV_VG_noVG')\n",
    "if not os.path.isdir(DIR_WRITE):\n",
    "    os.makedirs(DIR_WRITE)\n",
    "\n",
    "# Images and raw data will be written on an external hard drive\n",
    "if not os.path.isdir('/Volumes/%s/data_dump/%s' % (DRIVE, TOPIC)):\n",
    "    os.makedirs('/Volumes/%s/data_dump/%s' % (DRIVE, TOPIC))\n",
    "DATA_DUMP = '/Volumes/%s/data_dump/%s' % (DRIVE, TOPIC)"
   ]
  },
  {
   "cell_type": "code",
   "execution_count": null,
   "metadata": {},
   "outputs": [],
   "source": [
    "os.chdir(CWD)\n",
    "os.getcwd()"
   ]
  },
  {
   "cell_type": "code",
   "execution_count": null,
   "metadata": {},
   "outputs": [],
   "source": [
    "DIR_READ"
   ]
  },
  {
   "cell_type": "code",
   "execution_count": null,
   "metadata": {},
   "outputs": [],
   "source": [
    "DIR_WRITE"
   ]
  },
  {
   "cell_type": "code",
   "execution_count": null,
   "metadata": {},
   "outputs": [],
   "source": [
    "DATA_DUMP"
   ]
  },
  {
   "cell_type": "markdown",
   "metadata": {},
   "source": [
    "### Import pickle archives"
   ]
  },
  {
   "cell_type": "code",
   "execution_count": null,
   "metadata": {},
   "outputs": [],
   "source": [
    "# Import ventilator parameters, settings and alarms\n",
    "\n",
    "with open('%s/%s.pickle' % (DATA_DUMP, 'clin_df_1_300'), 'rb') as handle:\n",
    "    clin_df = pickle.load(handle)\n",
    "    \n",
    "with open('%s/%s.pickle' % (DATA_DUMP, 'data_pars_measurements_ventilated_1_300'), 'rb') as handle:\n",
    "    data_pars_measurements_ventilated = pickle.load(handle)\n",
    "    \n",
    "with open('%s/%s.pickle' % (DATA_DUMP, 'data_pars_settings_ventilated_1_300'), 'rb') as handle:\n",
    "    data_pars_settings_ventilated = pickle.load(handle)\n",
    "    \n",
    "with open('%s/%s.pickle' % (DATA_DUMP, 'data_pars_alarms_ventilated_1_300'), 'rb') as handle:\n",
    "    data_pars_alarms_ventilated = pickle.load(handle)"
   ]
  },
  {
   "cell_type": "code",
   "execution_count": null,
   "metadata": {},
   "outputs": [],
   "source": [
    "### Import blood gases\n",
    "with open('%s/%s.pickle' % (DATA_DUMP, 'blood_gases_1_300'), 'rb') as handle:\n",
    "    blood_gases = pickle.load(handle)"
   ]
  },
  {
   "cell_type": "code",
   "execution_count": null,
   "metadata": {},
   "outputs": [],
   "source": [
    "# Import DataFrame with ventilation modes\n",
    "\n",
    "with open('%s/%s.pickle' % (DATA_DUMP, 'vent_modes_ventilated_1_300_plus'), 'rb') as handle:\n",
    "    vent_modes_ventilated = pickle.load(handle)"
   ]
  },
  {
   "cell_type": "code",
   "execution_count": null,
   "metadata": {},
   "outputs": [],
   "source": [
    "cases = sorted(data_pars_measurements_ventilated.keys())"
   ]
  },
  {
   "cell_type": "code",
   "execution_count": null,
   "metadata": {
    "scrolled": true
   },
   "outputs": [],
   "source": [
    "len(data_pars_measurements_ventilated)"
   ]
  },
  {
   "cell_type": "markdown",
   "metadata": {},
   "source": [
    "### Import table for interpreting ventilator parameters"
   ]
  },
  {
   "cell_type": "code",
   "execution_count": null,
   "metadata": {
    "scrolled": false
   },
   "outputs": [],
   "source": [
    "par_key_table = pd.read_excel('Fabian_parameters.xlsx')\n",
    "par_key_table;"
   ]
  },
  {
   "cell_type": "markdown",
   "metadata": {},
   "source": [
    "### Exclude those cases whose corrected age was over Term + 6 weeks"
   ]
  },
  {
   "cell_type": "code",
   "execution_count": null,
   "metadata": {},
   "outputs": [],
   "source": [
    "cases_old = [case for case in cases if clin_df.loc[case]['Corrected gestational Age (weeks)'] > 46]\n",
    "len(cases_old)"
   ]
  },
  {
   "cell_type": "code",
   "execution_count": null,
   "metadata": {},
   "outputs": [],
   "source": [
    "cases = [case for case in cases if clin_df.loc[case]['Corrected gestational Age (weeks)'] <= 46]\n",
    "len(cases)"
   ]
  },
  {
   "cell_type": "code",
   "execution_count": null,
   "metadata": {},
   "outputs": [],
   "source": [
    "vent_modes_ventilated = vent_modes_ventilated.loc[cases]\n",
    "len(vent_modes_ventilated)"
   ]
  },
  {
   "cell_type": "markdown",
   "metadata": {},
   "source": [
    "### Consider only cases that are completely or predominantly SIMV ventilation"
   ]
  },
  {
   "cell_type": "code",
   "execution_count": null,
   "metadata": {},
   "outputs": [],
   "source": [
    "vent_modes_ventilated_has_simv = vent_modes_ventilated[vent_modes_ventilated[['SIMV']].sum(axis = 1) > 0]\n",
    "vent_modes_ventilated_has_simv.sort_index(inplace = True)\n",
    "cases = sorted(vent_modes_ventilated_has_simv.index)                                         "
   ]
  },
  {
   "cell_type": "code",
   "execution_count": null,
   "metadata": {
    "scrolled": false
   },
   "outputs": [],
   "source": [
    "vent_modes_ventilated_has_simv.head()"
   ]
  },
  {
   "cell_type": "code",
   "execution_count": null,
   "metadata": {
    "scrolled": false
   },
   "outputs": [],
   "source": [
    "len(vent_modes_ventilated_has_simv), len(cases)"
   ]
  },
  {
   "cell_type": "code",
   "execution_count": null,
   "metadata": {
    "scrolled": false
   },
   "outputs": [],
   "source": [
    "# How many has multiple modes\n",
    "has_multiple_modes = vent_modes_ventilated_has_simv[vent_modes_ventilated_has_simv['multiple_mode'] == 'Yes']\n",
    "len(has_multiple_modes)"
   ]
  },
  {
   "cell_type": "code",
   "execution_count": null,
   "metadata": {},
   "outputs": [],
   "source": [
    "has_multiple_modes"
   ]
  },
  {
   "cell_type": "code",
   "execution_count": null,
   "metadata": {},
   "outputs": [],
   "source": [
    "# Which are the ones where SIMV / SIMV-PSV are predominant modes\n",
    "a = has_multiple_modes\n",
    "simv_dominant = a[(a['SIMV'] / a['total']) > 0.5]\n",
    "simv_dominant"
   ]
  },
  {
   "cell_type": "code",
   "execution_count": null,
   "metadata": {},
   "outputs": [],
   "source": [
    "len(simv_dominant)"
   ]
  },
  {
   "cell_type": "code",
   "execution_count": null,
   "metadata": {},
   "outputs": [],
   "source": [
    "a = has_multiple_modes\n",
    "simv_not_dominant = a[(a['SIMV'] / a['total']) <= 0.5]\n",
    "simv_not_dominant"
   ]
  },
  {
   "cell_type": "markdown",
   "metadata": {},
   "source": [
    "### Remove those recordings completely where the dominant mode is not simv"
   ]
  },
  {
   "cell_type": "code",
   "execution_count": null,
   "metadata": {},
   "outputs": [],
   "source": [
    "cases_simv = [case for case in cases if case not in simv_not_dominant.index]\n",
    "vent_modes_simv = vent_modes_ventilated_has_simv.loc[cases_simv]\n",
    "vent_modes_simv['VG_off'] = vent_modes_simv['total'] - vent_modes_simv['VG_on']\n",
    "len(cases_simv), len(vent_modes_simv)"
   ]
  },
  {
   "cell_type": "markdown",
   "metadata": {},
   "source": [
    "### Remove recording(s) where VG info is not available"
   ]
  },
  {
   "cell_type": "code",
   "execution_count": null,
   "metadata": {
    "scrolled": false
   },
   "outputs": [],
   "source": [
    "vent_modes_simv.dropna(how = 'all', subset = ['VG_on'], inplace = True)\n",
    "\n",
    "cases_simv = [case for case in cases if case in vent_modes_simv.index]\n",
    "len(cases_simv), len(vent_modes_simv)"
   ]
  },
  {
   "cell_type": "markdown",
   "metadata": {},
   "source": [
    "### For the mixed recordings remove those parts that are not SIMV"
   ]
  },
  {
   "cell_type": "code",
   "execution_count": null,
   "metadata": {},
   "outputs": [],
   "source": [
    "before = {}\n",
    "for recording in sorted(data_pars_measurements_ventilated.keys()):\n",
    "    before[recording] = len(data_pars_measurements_ventilated[recording])"
   ]
  },
  {
   "cell_type": "code",
   "execution_count": null,
   "metadata": {},
   "outputs": [],
   "source": [
    "for case in sorted(simv_dominant.index):\n",
    "    a = data_pars_settings_ventilated[case]\n",
    "    data_pars_settings_ventilated[case] = a[a['Ventilator_mode'] == 'SIMV']\n",
    "    data_pars_measurements_ventilated[case] = \\\n",
    "        data_pars_measurements_ventilated[case].reindex(index = data_pars_settings_ventilated[case].index)\n",
    "    data_pars_alarms_ventilated[case] = \\\n",
    "        data_pars_alarms_ventilated[case].reindex(index = data_pars_settings_ventilated[case].index)"
   ]
  },
  {
   "cell_type": "code",
   "execution_count": null,
   "metadata": {},
   "outputs": [],
   "source": [
    "after = {}\n",
    "for recording in sorted(data_pars_measurements_ventilated.keys()):\n",
    "    after[recording] = len(data_pars_measurements_ventilated[recording])"
   ]
  },
  {
   "cell_type": "code",
   "execution_count": null,
   "metadata": {
    "scrolled": false
   },
   "outputs": [],
   "source": [
    "# how much data was removed?\n",
    "for recording in sorted(before.keys()):\n",
    "    if (before[recording] - after[recording]) > 0:\n",
    "        print(recording, 'removed %d seconds' % (2 * (before[recording] - after[recording])))"
   ]
  },
  {
   "cell_type": "markdown",
   "metadata": {},
   "source": [
    "### Identify cases who received mechanical ventilation with or without VG"
   ]
  },
  {
   "cell_type": "code",
   "execution_count": null,
   "metadata": {},
   "outputs": [],
   "source": [
    "len(vent_modes_simv)"
   ]
  },
  {
   "cell_type": "code",
   "execution_count": null,
   "metadata": {
    "scrolled": false
   },
   "outputs": [],
   "source": [
    "vent_modes_simv.head()"
   ]
  },
  {
   "cell_type": "code",
   "execution_count": null,
   "metadata": {},
   "outputs": [],
   "source": [
    "vent_modes_simv_vg = vent_modes_simv[vent_modes_simv['VG_on'] > vent_modes_simv['VG_off']]\n",
    "cases_simv_vg = sorted(vent_modes_simv_vg.index)\n",
    "len(cases_simv_vg)"
   ]
  },
  {
   "cell_type": "code",
   "execution_count": null,
   "metadata": {},
   "outputs": [],
   "source": [
    "vent_modes_simv_no_vg = vent_modes_simv[vent_modes_simv['VG_on'] < vent_modes_simv['VG_off']]\n",
    "cases_simv_no_vg = sorted(vent_modes_simv_no_vg.index)\n",
    "len(cases_simv_no_vg)"
   ]
  },
  {
   "cell_type": "markdown",
   "metadata": {},
   "source": [
    "### Remove those recordings that have more than 15 minutes (900 seconds) of the other ventilator mode"
   ]
  },
  {
   "cell_type": "code",
   "execution_count": null,
   "metadata": {},
   "outputs": [],
   "source": [
    "cases_simv_vg = [case for case in cases_simv_vg if vent_modes_simv_vg.loc[case]['VG_off'] < 900]\n",
    "vent_modes_simv_vg = vent_modes_simv_vg.loc[cases_simv_vg]\n",
    "len(cases_simv_vg), len(vent_modes_simv_vg.index)"
   ]
  },
  {
   "cell_type": "code",
   "execution_count": null,
   "metadata": {},
   "outputs": [],
   "source": [
    "cases_simv_no_vg = [case for case in cases_simv_no_vg if vent_modes_simv_no_vg.loc[case]['VG_on'] < 900]\n",
    "vent_modes_simv_no_vg = vent_modes_simv_no_vg.loc[cases_simv_no_vg]\n",
    "len(cases_simv_no_vg), len(vent_modes_simv_no_vg.index)"
   ]
  },
  {
   "cell_type": "code",
   "execution_count": null,
   "metadata": {
    "scrolled": false
   },
   "outputs": [],
   "source": [
    "vent_modes_simv;"
   ]
  },
  {
   "cell_type": "markdown",
   "metadata": {},
   "source": [
    "### Remove non-VG parts of VG recordings and vice versa"
   ]
  },
  {
   "cell_type": "code",
   "execution_count": null,
   "metadata": {},
   "outputs": [],
   "source": [
    "data_pars_settings_vg = {}\n",
    "data_pars_measurements_vg = {}\n",
    "data_pars_alarms_vg = {}\n",
    "\n",
    "for case in cases_simv_vg:\n",
    "    a = data_pars_settings_ventilated[case]\n",
    "    data_pars_settings_vg[case] = a[a['VG_state'] == 'on'].copy()\n",
    "    data_pars_measurements_vg[case] = \\\n",
    "        data_pars_measurements_ventilated[case].reindex(index = data_pars_settings_vg[case].index)\n",
    "    data_pars_alarms_vg[case] = \\\n",
    "        data_pars_alarms_ventilated[case].reindex(index = data_pars_settings_vg[case].index)"
   ]
  },
  {
   "cell_type": "code",
   "execution_count": null,
   "metadata": {},
   "outputs": [],
   "source": [
    "data_pars_settings_no_vg = {}\n",
    "data_pars_measurements_no_vg = {}\n",
    "data_pars_alarms_no_vg = {}\n",
    "\n",
    "for case in cases_simv_no_vg:\n",
    "\n",
    "    try:\n",
    "        a = data_pars_settings_ventilated[case]\n",
    "        data_pars_settings_no_vg[case] = a[a['VG_state'] != 'on']\n",
    "        \n",
    "    except KeyError:\n",
    "        data_pars_settings_no_vg[case] = \\\n",
    "            data_pars_settings_ventilated[case].copy()\n",
    "            \n",
    "   \n",
    "    data_pars_measurements_no_vg[case] = \\\n",
    "        data_pars_measurements_ventilated[case].reindex(index = data_pars_settings_no_vg[case].index)\n",
    "    data_pars_alarms_no_vg[case] = \\\n",
    "        data_pars_alarms_ventilated[case].reindex(index = data_pars_settings_no_vg[case].index)"
   ]
  },
  {
   "cell_type": "code",
   "execution_count": null,
   "metadata": {},
   "outputs": [],
   "source": [
    "len(data_pars_settings_vg)"
   ]
  },
  {
   "cell_type": "code",
   "execution_count": null,
   "metadata": {},
   "outputs": [],
   "source": [
    "len(data_pars_settings_no_vg)"
   ]
  },
  {
   "cell_type": "code",
   "execution_count": null,
   "metadata": {},
   "outputs": [],
   "source": [
    "# How many rows (= 2 sec each) were removed\n",
    "for case in cases_simv_vg:\n",
    "    if len(data_pars_measurements_ventilated[case]) - len(data_pars_measurements_vg[case]) > 0:\n",
    "        print(case, '%d seconds were removed' % (2 * (len(data_pars_measurements_ventilated[case]) -\\\n",
    "           len(data_pars_measurements_vg[case]))))"
   ]
  },
  {
   "cell_type": "code",
   "execution_count": null,
   "metadata": {},
   "outputs": [],
   "source": [
    "# How many rows (= 2 sec each) were removed\n",
    "for case in cases_simv_no_vg:\n",
    "    if len(data_pars_measurements_ventilated[case]) - len(data_pars_measurements_no_vg[case]) > 0:\n",
    "        print(case, '%d seconds were removed' % (2* (len(data_pars_measurements_ventilated[case]) -\\\n",
    "           len(data_pars_measurements_no_vg[case]))))"
   ]
  },
  {
   "cell_type": "markdown",
   "metadata": {},
   "source": [
    "### Duration of the final set of SIMV-VG and SIMV-no-VG recordings"
   ]
  },
  {
   "cell_type": "code",
   "execution_count": null,
   "metadata": {},
   "outputs": [],
   "source": [
    "recording_durations_vg = {}\n",
    "for rec in data_pars_measurements_vg:\n",
    "    # As sampling rate was 0.5 Hz, the length is seconds is the number or rows * 2\n",
    "    recording_durations_vg[rec] = len(data_pars_measurements_vg[rec]) * 2\n",
    "\n",
    "recording_durations_vg = DataFrame(recording_durations_vg, index = ['recording_duration']).T\n",
    "    \n",
    "recording_durations_no_vg = {}\n",
    "for rec in data_pars_measurements_no_vg:\n",
    "    # As sampling rate was 0.5 Hz, the length is seconds is the number or rows * 2\n",
    "    recording_durations_no_vg[rec] = len(data_pars_measurements_no_vg[rec]) * 2\n",
    "\n",
    "recording_durations_no_vg = DataFrame(recording_durations_no_vg, index = ['recording_duration']).T"
   ]
  },
  {
   "cell_type": "code",
   "execution_count": null,
   "metadata": {},
   "outputs": [],
   "source": [
    "recording_durations_vg.sort_values(by = 'recording_duration');"
   ]
  },
  {
   "cell_type": "code",
   "execution_count": null,
   "metadata": {},
   "outputs": [],
   "source": [
    "recording_durations_no_vg.sort_values(by = 'recording_duration');"
   ]
  },
  {
   "cell_type": "code",
   "execution_count": null,
   "metadata": {},
   "outputs": [],
   "source": [
    "recording_durations_vg['recording_duration'].describe() / 60"
   ]
  },
  {
   "cell_type": "code",
   "execution_count": null,
   "metadata": {},
   "outputs": [],
   "source": [
    "recording_durations_vg['recording_duration'].sum(), recording_durations_vg['recording_duration'].sum()/60"
   ]
  },
  {
   "cell_type": "code",
   "execution_count": null,
   "metadata": {},
   "outputs": [],
   "source": [
    "recording_durations_no_vg['recording_duration'].describe() / 60"
   ]
  },
  {
   "cell_type": "code",
   "execution_count": null,
   "metadata": {},
   "outputs": [],
   "source": [
    "recording_durations_no_vg['recording_duration'].sum(), recording_durations_no_vg['recording_duration'].sum()/ 60"
   ]
  },
  {
   "cell_type": "code",
   "execution_count": null,
   "metadata": {},
   "outputs": [],
   "source": [
    "stats.mannwhitneyu(recording_durations_vg['recording_duration'], recording_durations_no_vg['recording_duration'])"
   ]
  },
  {
   "cell_type": "markdown",
   "metadata": {},
   "source": [
    "### Comparative statistics on clinical details between VG and no VG"
   ]
  },
  {
   "cell_type": "code",
   "execution_count": null,
   "metadata": {},
   "outputs": [],
   "source": [
    "clin_df_VG = clin_df.loc[cases_simv_vg]\n",
    "clin_df_no_VG = clin_df.loc[cases_simv_no_vg]"
   ]
  },
  {
   "cell_type": "code",
   "execution_count": null,
   "metadata": {},
   "outputs": [],
   "source": [
    "fig, ax = plt.subplots(figsize = (3, 4))\n",
    "dpi = 300\n",
    "filetype = 'jpg'\n",
    "xticklabels = ['VG', 'no VG' ]\n",
    "\n",
    "# Define styling for each boxplot component\n",
    "medianprops = {'color': 'black', 'linewidth': 2}\n",
    "boxprops = {'color': 'black', 'linestyle': '-'}\n",
    "whiskerprops = {'color': 'black', 'linestyle': '-'}\n",
    "capprops = {'color': 'black', 'linestyle': '-'}\n",
    "flierprops = {'color': 'black', 'marker': '.'}\n",
    "\n",
    "plt.boxplot([clin_df_VG['Gestational Age (weeks)'] , \n",
    "             clin_df_no_VG['Gestational Age (weeks)'] ], widths = 0.5, \n",
    "        whis = [5, 95], showfliers = True,showmeans = True, medianprops=medianprops, boxprops=boxprops, \n",
    "        whiskerprops=whiskerprops, capprops=capprops, flierprops = flierprops)\n",
    "\n",
    "ax.set_ylim(0, 48)\n",
    "ax.set_xlabel('ventilation mode', size = 14)\n",
    "ax.set_ylabel('weeks', size = 14)\n",
    "ax.tick_params(axis='both', which='major', labelsize=14)\n",
    "ax.set_xticklabels(xticklabels)\n",
    "ax.set_title('Gestational age')\n",
    "plt.grid(True)\n",
    "\n",
    "fig.savefig('%s/%s.%s' % (DIR_WRITE, 'ventilated_gest_age_VG_no_VG', filetype),\n",
    "    dpi = dpi, facecolor='w', edgecolor='w', orientation='portrait', papertype=None, format = filetype,\n",
    "    transparent=False, bbox_inches='tight', pad_inches=0.1, frameon=True);"
   ]
  },
  {
   "cell_type": "code",
   "execution_count": null,
   "metadata": {},
   "outputs": [],
   "source": [
    "fig, ax = plt.subplots(figsize = (3, 4))\n",
    "dpi = 300\n",
    "filetype = 'jpg'\n",
    "xticklabels = ['VG', 'no VG' ]\n",
    "\n",
    "# Define styling for each boxplot component\n",
    "medianprops = {'color': 'black', 'linewidth': 2}\n",
    "boxprops = {'color': 'black', 'linestyle': '-'}\n",
    "whiskerprops = {'color': 'black', 'linestyle': '-'}\n",
    "capprops = {'color': 'black', 'linestyle': '-'}\n",
    "flierprops = {'color': 'black', 'marker': '.'}\n",
    "\n",
    "plt.boxplot([clin_df_VG['Corrected gestational Age (weeks)'] , \n",
    "             clin_df_no_VG['Corrected gestational Age (weeks)']], widths = 0.5, \n",
    "        whis = [5, 95], showfliers = True,showmeans = True, medianprops=medianprops, boxprops=boxprops, \n",
    "        whiskerprops=whiskerprops, capprops=capprops, flierprops = flierprops)\n",
    "\n",
    "ax.set_ylim(0, 58)\n",
    "ax.set_xlabel('ventilation mode', size = 14)\n",
    "ax.set_ylabel('weeks', size = 14)\n",
    "ax.set_title('Corrected gestational age')\n",
    "ax.tick_params(axis='both', which='major', labelsize=14)\n",
    "ax.set_xticklabels(xticklabels)\n",
    "plt.grid(True)\n",
    "\n",
    "fig.savefig('%s/%s.%s' % (DIR_WRITE, 'ventilated_corr_gest_age_VG_no_VG', filetype),\n",
    "    dpi = dpi, facecolor='w', edgecolor='w', orientation='portrait', papertype=None, format = filetype,\n",
    "    transparent=False, bbox_inches='tight', pad_inches=0.1, frameon=True);"
   ]
  },
  {
   "cell_type": "code",
   "execution_count": null,
   "metadata": {},
   "outputs": [],
   "source": [
    "fig, ax = plt.subplots(figsize = (3, 4))\n",
    "dpi = 300\n",
    "filetype = 'jpg'\n",
    "xticklabels = ['VG', 'no VG' ]\n",
    "\n",
    "# Define styling for each boxplot component\n",
    "medianprops = {'color': 'black', 'linewidth': 2}\n",
    "boxprops = {'color': 'black', 'linestyle': '-'}\n",
    "whiskerprops = {'color': 'black', 'linestyle': '-'}\n",
    "capprops = {'color': 'black', 'linestyle': '-'}\n",
    "flierprops = {'color': 'black', 'marker': '.'}\n",
    "\n",
    "plt.boxplot([clin_df_VG['Birth Weight'], \n",
    "             clin_df_no_VG['Birth Weight']], widths = 0.5, \n",
    "        whis = [5, 95], showfliers = True,showmeans = True, medianprops=medianprops, boxprops=boxprops, \n",
    "        whiskerprops=whiskerprops, capprops=capprops, flierprops = flierprops)\n",
    "ax.set_ylim(0, 5800)\n",
    "ax.set_xlabel('ventilation mode', size = 14)\n",
    "ax.set_ylabel('birth weight (grams)', size = 14)\n",
    "ax.set_title('Birth weight')\n",
    "ax.tick_params(axis='both', which='major', labelsize=14)\n",
    "ax.set_xticklabels(xticklabels)\n",
    "plt.grid(True)\n",
    "\n",
    "fig.savefig('%s/%s.%s' % (DIR_WRITE, 'ventilated_birth_weight_VG_no_VG', filetype),\n",
    "    dpi = dpi, facecolor='w', edgecolor='w', orientation='portrait', papertype=None, format = filetype,\n",
    "    transparent=False, bbox_inches='tight', pad_inches=0.1, frameon=True);"
   ]
  },
  {
   "cell_type": "code",
   "execution_count": null,
   "metadata": {},
   "outputs": [],
   "source": [
    "fig, ax = plt.subplots(figsize = (3, 4))\n",
    "dpi = 300\n",
    "filetype = 'jpg'\n",
    "xticklabels = ['VG', 'no VG' ]\n",
    "\n",
    "# Define styling for each boxplot component\n",
    "medianprops = {'color': 'black', 'linewidth': 2}\n",
    "boxprops = {'color': 'black', 'linestyle': '-'}\n",
    "whiskerprops = {'color': 'black', 'linestyle': '-'}\n",
    "capprops = {'color': 'black', 'linestyle': '-'}\n",
    "flierprops = {'color': 'black', 'marker': '.'}\n",
    "\n",
    "plt.boxplot([clin_df_VG['Weight'],\n",
    "             clin_df_no_VG['Weight']], widths = 0.5, \n",
    "        whis = [5, 95], showfliers = True,showmeans = True, medianprops=medianprops, boxprops=boxprops, \n",
    "        whiskerprops=whiskerprops, capprops=capprops, flierprops = flierprops)\n",
    "\n",
    "ax.set_ylim(0, 5800)\n",
    "ax.set_xlabel('ventilation mode', size = 14)\n",
    "ax.set_ylabel('actual weight (grams)', size = 14)\n",
    "ax.set_title('Actual weight')\n",
    "ax.tick_params(axis='both', which='major', labelsize=14)\n",
    "ax.set_xticklabels(xticklabels)\n",
    "plt.grid(True)\n",
    "\n",
    "fig.savefig('%s/%s.%s' % (DIR_WRITE, 'ventilated_actual_weight_VG_no_VG', filetype),\n",
    "    dpi = dpi, facecolor='w', edgecolor='w', orientation='portrait', papertype=None, format = filetype,\n",
    "    transparent=False, bbox_inches='tight', pad_inches=0.1, frameon=True);"
   ]
  },
  {
   "cell_type": "markdown",
   "metadata": {},
   "source": [
    "### Comparative statistics between clinical details, VG versus no VG"
   ]
  },
  {
   "cell_type": "markdown",
   "metadata": {},
   "source": [
    "##### Using parametric statistics"
   ]
  },
  {
   "cell_type": "code",
   "execution_count": null,
   "metadata": {},
   "outputs": [],
   "source": [
    "pars = ['Gestational Age (weeks)', 'Corrected gestational Age (weeks)', 'Birth Weight', 'Weight']\n",
    "\n",
    "clin_df_stats_VG = round(DataFrame([clin_df_VG[pars].mean(), \n",
    "                                    clin_df_VG[pars].std()]).T, 2)\n",
    "clin_df_stats_VG.columns = ['mean', 'SD']\n",
    "\n",
    "clin_df_stats_no_VG = round(DataFrame([clin_df_no_VG[pars].mean(), \n",
    "                                       clin_df_no_VG[pars].std()]).T, 2)\n",
    "clin_df_stats_no_VG.columns = ['mean', 'SD']\n",
    "\n",
    "clin_df_stats_VG_no_VG = pd.concat([clin_df_stats_VG, clin_df_stats_no_VG], axis = 1,\n",
    "                              keys = ['VG', 'no VG'])"
   ]
  },
  {
   "cell_type": "code",
   "execution_count": null,
   "metadata": {},
   "outputs": [],
   "source": [
    "ttest_stat = []\n",
    "ttest_p = []\n",
    "for par in pars:\n",
    "    ttest_stat.append(stats.ttest_ind(clin_df_VG[par], clin_df_no_VG[par])[0])\n",
    "    ttest_p.append(stats.ttest_ind(clin_df_VG[par],  clin_df_no_VG[par])[1])\n",
    "\n",
    "clin_df_stats_VG_no_VG['p'] = ttest_p  "
   ]
  },
  {
   "cell_type": "code",
   "execution_count": null,
   "metadata": {
    "scrolled": true
   },
   "outputs": [],
   "source": [
    "clin_df_stats_VG_no_VG"
   ]
  },
  {
   "cell_type": "markdown",
   "metadata": {},
   "source": [
    "##### Using non-parametric statistics"
   ]
  },
  {
   "cell_type": "code",
   "execution_count": null,
   "metadata": {},
   "outputs": [],
   "source": [
    "pars = ['Gestational Age (weeks)', 'Corrected gestational Age (weeks)', 'Birth Weight', 'Weight']\n",
    "\n",
    "clin_df_stats_VG_nonpar = round(DataFrame([clin_df_VG[pars].median(), \n",
    "                                    clin_df_VG[pars].apply(lambda x: np.percentile(x, 25)),\n",
    "                                    clin_df_VG[pars].apply(lambda x: np.percentile(x, 75))]).T, 2)\n",
    "clin_df_stats_VG_nonpar.columns = ['median', '25pc', '75pc']\n",
    "\n",
    "clin_df_stats_no_VG_nonpar = round(DataFrame([clin_df_no_VG[pars].median(), \n",
    "                                    clin_df_no_VG[pars].apply(lambda x: np.percentile(x, 25)),\n",
    "                                    clin_df_no_VG[pars].apply(lambda x: np.percentile(x, 75))]).T, 2)\n",
    "clin_df_stats_no_VG_nonpar.columns = ['median', '25pc', '75pc']\n",
    "\n",
    "clin_df_stats_VG_no_VG_nonpar = pd.concat([clin_df_stats_VG_nonpar, clin_df_stats_no_VG_nonpar], axis = 1,\n",
    "                              keys = ['VG', 'no VG'])"
   ]
  },
  {
   "cell_type": "code",
   "execution_count": null,
   "metadata": {},
   "outputs": [],
   "source": [
    "ttest_stat_nonpar = []\n",
    "ttest_p_nonpar = []\n",
    "for par in pars:\n",
    "    ttest_stat_nonpar.append(stats.mannwhitneyu(clin_df_VG[par], clin_df_no_VG[par])[0])\n",
    "    ttest_p_nonpar.append(stats.mannwhitneyu(clin_df_VG[par],  clin_df_no_VG[par])[1])\n",
    "\n",
    "clin_df_stats_VG_no_VG_nonpar['p'] = ttest_p_nonpar "
   ]
  },
  {
   "cell_type": "code",
   "execution_count": null,
   "metadata": {
    "scrolled": true
   },
   "outputs": [],
   "source": [
    "clin_df_stats_VG_no_VG_nonpar"
   ]
  },
  {
   "cell_type": "code",
   "execution_count": null,
   "metadata": {},
   "outputs": [],
   "source": [
    "writer = pd.ExcelWriter('%s/%s' % (DIR_WRITE, 'clin_df_stats_VG_no_VG.xlsx'))\n",
    "clin_df_stats_VG_no_VG.to_excel(writer, 'VG_no_VG')\n",
    "clin_df_stats_VG_no_VG_nonpar.to_excel(writer, 'VG_no_VG_nonpar')\n",
    "writer.save()"
   ]
  },
  {
   "cell_type": "code",
   "execution_count": null,
   "metadata": {
    "scrolled": false
   },
   "outputs": [],
   "source": [
    "clin_df_VG;"
   ]
  },
  {
   "cell_type": "raw",
   "metadata": {},
   "source": [
    "for index, *item in clin_df_VG[['Gestational Age (weeks)', 'Corrected gestational Age (weeks)', 'Pathology']].itertuples():\n",
    "    print(index, item, '\\n')"
   ]
  },
  {
   "cell_type": "code",
   "execution_count": null,
   "metadata": {
    "scrolled": false
   },
   "outputs": [],
   "source": [
    "clin_df_no_VG;"
   ]
  },
  {
   "cell_type": "raw",
   "metadata": {},
   "source": [
    "for index, *item in clin_df_no_VG[['Gestational Age (weeks)', 'Corrected gestational Age (weeks)', 'Pathology']].itertuples():\n",
    "    print(index, item, '\\n')"
   ]
  },
  {
   "cell_type": "markdown",
   "metadata": {},
   "source": [
    "### Calculate respiratory severity score for the first and last five minutes of the transport"
   ]
  },
  {
   "cell_type": "code",
   "execution_count": null,
   "metadata": {},
   "outputs": [],
   "source": [
    "# 5 minutes = 150 data points with 0.5 Hz sampling rate\n",
    "\n",
    "rss_start_vg = {}\n",
    "\n",
    "for case in cases_simv_vg:\n",
    "    rss_start_vg[case] = round((data_pars_settings_vg[case]['FiO2_set'][0:150] * \n",
    "                              data_pars_measurements_vg[case]['MAP'][0:150] / 100).mean(), 2)\n",
    "    \n",
    "rss_end_vg = {}\n",
    "\n",
    "for case in cases_simv_vg:\n",
    "    rss_end_vg[case] = round((data_pars_settings_vg[case]['FiO2_set'][-150:] * \n",
    "                              data_pars_measurements_vg[case]['MAP'][-150:] / 100).mean(), 2)\n",
    "    \n",
    "rss_vg_frame = DataFrame([rss_start_vg, rss_end_vg]).T\n",
    "rss_vg_frame.columns = ['start', 'end']"
   ]
  },
  {
   "cell_type": "code",
   "execution_count": null,
   "metadata": {},
   "outputs": [],
   "source": [
    "rss_start_no_vg = {}\n",
    "\n",
    "for case in cases_simv_no_vg:\n",
    "    rss_start_no_vg[case] = round((data_pars_settings_no_vg[case]['FiO2_set'][0:150] * \n",
    "                              data_pars_measurements_no_vg[case]['MAP'][0:150] / 100).mean(), 2)\n",
    "rss_end_no_vg = {}\n",
    "\n",
    "for case in cases_simv_no_vg:\n",
    "    rss_end_no_vg[case] = round((data_pars_settings_no_vg[case]['FiO2_set'][-150:] * \n",
    "                              data_pars_measurements_no_vg[case]['MAP'][-150:] / 100).mean(), 2)\n",
    "    \n",
    "rss_no_vg_frame = DataFrame([rss_start_no_vg, rss_end_no_vg]).T\n",
    "rss_no_vg_frame.columns = ['start', 'end']"
   ]
  },
  {
   "cell_type": "code",
   "execution_count": null,
   "metadata": {},
   "outputs": [],
   "source": [
    "rss_vg_frame.head()"
   ]
  },
  {
   "cell_type": "code",
   "execution_count": null,
   "metadata": {},
   "outputs": [],
   "source": [
    "rss_no_vg_frame.head()"
   ]
  },
  {
   "cell_type": "code",
   "execution_count": null,
   "metadata": {},
   "outputs": [],
   "source": [
    "round(rss_vg_frame.describe(), 1)"
   ]
  },
  {
   "cell_type": "code",
   "execution_count": null,
   "metadata": {},
   "outputs": [],
   "source": [
    "round(rss_no_vg_frame.describe(), 1)"
   ]
  },
  {
   "cell_type": "code",
   "execution_count": null,
   "metadata": {},
   "outputs": [],
   "source": [
    "stats.mannwhitneyu(rss_vg_frame['start'], rss_no_vg_frame['start'])"
   ]
  },
  {
   "cell_type": "code",
   "execution_count": null,
   "metadata": {},
   "outputs": [],
   "source": [
    "stats.mannwhitneyu(rss_vg_frame['end'], rss_no_vg_frame['end'])"
   ]
  },
  {
   "cell_type": "code",
   "execution_count": null,
   "metadata": {},
   "outputs": [],
   "source": [
    "stats.wilcoxon(rss_vg_frame['start'], rss_vg_frame['end'])"
   ]
  },
  {
   "cell_type": "code",
   "execution_count": null,
   "metadata": {},
   "outputs": [],
   "source": [
    "stats.wilcoxon(rss_no_vg_frame['start'], rss_no_vg_frame['end'])"
   ]
  },
  {
   "cell_type": "markdown",
   "metadata": {},
   "source": [
    "## Compare the aggregate statistics `mean` and `sd` of the recordings between the VG and no VG groups\n",
    "\n",
    "### Calculate descriptive statistics for selected ventilator parameters and settings in each recording"
   ]
  },
  {
   "cell_type": "markdown",
   "metadata": {},
   "source": [
    "##### RR data are missing in SIMV cases !!\n",
    "\n",
    "This is because for SIMV recordings the `RR` values are 0 or missing. There is, however `RR`reading for SIPPV and SIMVPSV recordings. See the script below to test it.\n",
    "\n",
    "`for key in sorted(data_pars_measurements_ventilated.keys()):\n",
    "    try:\n",
    "        print(key, '   ', data_pars_measurements_ventilated[key]['RR'].unique())\n",
    "    except KeyError:\n",
    "        print('No data for %s' % key)`"
   ]
  },
  {
   "cell_type": "markdown",
   "metadata": {},
   "source": [
    "###### `VTemand_pat` has been wrongly labeled. This is the VT of the spontaneous breaths. Name should be `VEspon_pat`"
   ]
  },
  {
   "cell_type": "code",
   "execution_count": null,
   "metadata": {},
   "outputs": [],
   "source": [
    "selected_parameters = ['Leak', 'MAP', 'MV_kg', 'MVresp', 'PEEP', 'PIP', 'VTimand_kg', 'VTemand_kg', \n",
    "                       'VTespon_pat_kg', 'VTemand_resp_kg',  ]\n",
    "\n",
    "stats_pars_measurements_vg = {} \n",
    "for case in cases_simv_vg:\n",
    "    stats_pars_measurements_vg[case] = \\\n",
    "        round(data_pars_measurements_vg[case][selected_parameters].describe(percentiles = \n",
    "                                                                            (0.05, 0.25, 0.5, 0.75, 0.95)), 2)\n",
    "    stats_pars_measurements_vg[case].index = ['data_points', 'mean', 'SD', 'min', '5pc', \n",
    "                                     '25pc', 'median', '75pc', '95pc', 'max']\n",
    "    \n",
    "stats_pars_measurements_no_vg = {} \n",
    "for case in cases_simv_no_vg:\n",
    "    stats_pars_measurements_no_vg[case] = \\\n",
    "        round(data_pars_measurements_no_vg[case][selected_parameters].describe(percentiles = \n",
    "                                                                               (0.05, 0.25, 0.5, 0.75, 0.95)), 2)\n",
    "    stats_pars_measurements_no_vg[case].index = ['data_points', 'mean', 'SD', 'min', '5pc', \n",
    "                                     '25pc', 'median', '75pc', '95pc', 'max']"
   ]
  },
  {
   "cell_type": "code",
   "execution_count": null,
   "metadata": {},
   "outputs": [],
   "source": [
    "stats_pars_measurements_vg_frame = pd.concat(stats_pars_measurements_vg)\n",
    "stats_pars_measurements_no_vg_frame = pd.concat(stats_pars_measurements_no_vg)"
   ]
  },
  {
   "cell_type": "code",
   "execution_count": null,
   "metadata": {},
   "outputs": [],
   "source": [
    "selected_settings_vg = ['FiO2_set', 'PIP_set', 'PEEP_set', 'VG_set_kg', 'RR_set', 'Ti_set']\n",
    "selected_settings_no_vg = ['FiO2_set', 'PIP_set', 'PEEP_set', 'RR_set', 'Ti_set']\n",
    "\n",
    "stats_pars_settings_vg = {} \n",
    "for case in cases_simv_vg:\n",
    "    stats_pars_settings_vg[case] = round(data_pars_settings_vg[case][selected_settings_vg].describe(percentiles \n",
    "                                                                         = (0.05, 0.25, 0.5, 0.75, 0.95)), 2)\n",
    "    stats_pars_settings_vg[case].index = ['data_points', 'mean', 'SD', 'min', '5pc', \n",
    "                                     '25pc', 'median', '75pc', '95pc', 'max']\n",
    "\n",
    "stats_pars_settings_no_vg = {} \n",
    "for case in cases_simv_no_vg:\n",
    "    stats_pars_settings_no_vg[case] = round(data_pars_settings_no_vg[case][selected_settings_no_vg].describe(percentiles\n",
    "                                                                        = (0.05, 0.25, 0.5, 0.75, 0.95)), 2)\n",
    "    stats_pars_settings_no_vg[case].index = ['data_points', 'mean', 'SD', 'min', '5pc', \n",
    "                                     '25pc', 'median', '75pc', '95pc', 'max']"
   ]
  },
  {
   "cell_type": "code",
   "execution_count": null,
   "metadata": {},
   "outputs": [],
   "source": [
    "stats_pars_settings_vg_frame = pd.concat(stats_pars_settings_vg)\n",
    "stats_pars_settings_no_vg_frame = pd.concat(stats_pars_settings_no_vg)"
   ]
  },
  {
   "cell_type": "code",
   "execution_count": null,
   "metadata": {},
   "outputs": [],
   "source": [
    "stats_pars_all_vg_frame = pd.concat([stats_pars_measurements_vg_frame, stats_pars_settings_vg_frame], axis = 1)\n",
    "stats_pars_all_no_vg_frame = pd.concat([stats_pars_measurements_no_vg_frame, stats_pars_settings_no_vg_frame], axis = 1)\n",
    "\n",
    "stats_pars_all_vg_frame_2 = stats_pars_all_vg_frame.unstack()\n",
    "stats_pars_all_no_vg_frame_2 = stats_pars_all_no_vg_frame.unstack()"
   ]
  },
  {
   "cell_type": "code",
   "execution_count": null,
   "metadata": {},
   "outputs": [],
   "source": [
    "stats_pars_all_vg_frame.head()"
   ]
  },
  {
   "cell_type": "code",
   "execution_count": null,
   "metadata": {},
   "outputs": [],
   "source": [
    "stats_pars_all_vg_frame_2.head()"
   ]
  },
  {
   "cell_type": "code",
   "execution_count": null,
   "metadata": {},
   "outputs": [],
   "source": [
    "stats_pars_all_no_vg_frame.head()"
   ]
  },
  {
   "cell_type": "code",
   "execution_count": null,
   "metadata": {},
   "outputs": [],
   "source": [
    "stats_pars_all_no_vg_frame_2.head()"
   ]
  },
  {
   "cell_type": "code",
   "execution_count": null,
   "metadata": {},
   "outputs": [],
   "source": [
    "stats_pars_all_vg_frame_2['Leak'].sort_values('mean')"
   ]
  },
  {
   "cell_type": "code",
   "execution_count": null,
   "metadata": {},
   "outputs": [],
   "source": [
    "stats_pars_all_vg_frame_2['Leak']['mean'].describe()"
   ]
  },
  {
   "cell_type": "code",
   "execution_count": null,
   "metadata": {},
   "outputs": [],
   "source": [
    "stats_pars_all_no_vg_frame_2['Leak'].sort_values('mean')"
   ]
  },
  {
   "cell_type": "code",
   "execution_count": null,
   "metadata": {},
   "outputs": [],
   "source": [
    "stats_pars_all_no_vg_frame_2['Leak']['mean'].describe()"
   ]
  },
  {
   "cell_type": "code",
   "execution_count": null,
   "metadata": {},
   "outputs": [],
   "source": [
    "writer = pd.ExcelWriter('%s/%s' % (DIR_WRITE, 'stats_leak.xlsx'))\n",
    "stats_pars_all_vg_frame_2['Leak'].sort_values('mean').to_excel(writer, 'SIMV_VG')\n",
    "stats_pars_all_no_vg_frame_2['Leak'].sort_values('mean').to_excel(writer, 'SIMV_noVG')\n",
    "writer.save()"
   ]
  },
  {
   "cell_type": "code",
   "execution_count": null,
   "metadata": {},
   "outputs": [],
   "source": [
    "writer = pd.ExcelWriter('%s/%s' % (DIR_WRITE, 'stats_all.xlsx'))\n",
    "stats_pars_all_vg_frame.to_excel(writer, 'SIMV_VG_parameters_1')\n",
    "stats_pars_all_vg_frame_2.to_excel(writer, 'SIMV_VG_parameters_2')\n",
    "stats_pars_all_no_vg_frame.to_excel(writer, 'SIMV_no_VG_parameters_1')\n",
    "stats_pars_all_no_vg_frame_2.to_excel(writer, 'SIMV_no_VG_parameters_2')\n",
    "writer.save()"
   ]
  },
  {
   "cell_type": "markdown",
   "metadata": {},
   "source": [
    "### The `arithmetic mean` of the selected ventilator parameters and settings in the individual recordings"
   ]
  },
  {
   "cell_type": "code",
   "execution_count": null,
   "metadata": {},
   "outputs": [],
   "source": [
    "vg_mean = {}\n",
    "for case in cases_simv_vg:\n",
    "    vg_mean[case] = stats_pars_measurements_vg[case].loc['mean']\n",
    "vg_mean_frame = DataFrame(vg_mean)\n",
    "\n",
    "no_vg_mean = {}\n",
    "for case in cases_simv_no_vg:\n",
    "    no_vg_mean[case] = stats_pars_measurements_no_vg[case].loc['mean']\n",
    "no_vg_mean_frame = DataFrame(no_vg_mean)"
   ]
  },
  {
   "cell_type": "code",
   "execution_count": null,
   "metadata": {
    "scrolled": false
   },
   "outputs": [],
   "source": [
    "vg_mean_2 = {}\n",
    "for case in cases_simv_vg:\n",
    "    vg_mean_2[case] = stats_pars_settings_vg[case].loc['mean']\n",
    "vg_mean_frame_2 = DataFrame(vg_mean_2)\n",
    "\n",
    "no_vg_mean_2 = {}\n",
    "for case in cases_simv_no_vg:\n",
    "    no_vg_mean_2[case] = stats_pars_settings_no_vg[case].loc['mean']\n",
    "no_vg_mean_frame_2 = DataFrame(no_vg_mean_2)"
   ]
  },
  {
   "cell_type": "code",
   "execution_count": null,
   "metadata": {},
   "outputs": [],
   "source": [
    "vg_mean_frame = pd.concat([vg_mean_frame, vg_mean_frame_2])\n",
    "no_vg_mean_frame = pd.concat([no_vg_mean_frame, no_vg_mean_frame_2])"
   ]
  },
  {
   "cell_type": "code",
   "execution_count": null,
   "metadata": {},
   "outputs": [],
   "source": [
    "vg_mean_frame.T.head()"
   ]
  },
  {
   "cell_type": "code",
   "execution_count": null,
   "metadata": {},
   "outputs": [],
   "source": [
    "no_vg_mean_frame.T.head()"
   ]
  },
  {
   "cell_type": "markdown",
   "metadata": {},
   "source": [
    "### `SDs` of the various ventilator parameters in the individual recordings"
   ]
  },
  {
   "cell_type": "code",
   "execution_count": null,
   "metadata": {},
   "outputs": [],
   "source": [
    "vg_sd = {}\n",
    "for case in cases_simv_vg:\n",
    "    vg_sd[case] = stats_pars_measurements_vg[case].loc['SD']\n",
    "vg_sd_frame = DataFrame(vg_sd)\n",
    "\n",
    "no_vg_sd = {}\n",
    "for case in cases_simv_no_vg:\n",
    "    no_vg_sd[case] = stats_pars_measurements_no_vg[case].loc['SD']\n",
    "no_vg_sd_frame = DataFrame(no_vg_sd)"
   ]
  },
  {
   "cell_type": "code",
   "execution_count": null,
   "metadata": {},
   "outputs": [],
   "source": [
    "vg_sd_2 = {}\n",
    "for case in cases_simv_vg:\n",
    "    vg_sd_2[case] = stats_pars_settings_vg[case].loc['SD']\n",
    "vg_sd_frame_2 = DataFrame(vg_sd_2)\n",
    "\n",
    "no_vg_sd_2 = {}\n",
    "for case in cases_simv_no_vg:\n",
    "    no_vg_sd_2[case] = stats_pars_settings_no_vg[case].loc['SD']\n",
    "no_vg_sd_frame_2 = DataFrame(no_vg_sd_2)"
   ]
  },
  {
   "cell_type": "code",
   "execution_count": null,
   "metadata": {},
   "outputs": [],
   "source": [
    "vg_sd_frame = pd.concat([vg_sd_frame, vg_sd_frame_2])\n",
    "no_vg_sd_frame = pd.concat([no_vg_sd_frame, no_vg_sd_frame_2])"
   ]
  },
  {
   "cell_type": "code",
   "execution_count": null,
   "metadata": {},
   "outputs": [],
   "source": [
    "vg_sd_frame.T.head()"
   ]
  },
  {
   "cell_type": "code",
   "execution_count": null,
   "metadata": {
    "scrolled": true
   },
   "outputs": [],
   "source": [
    "no_vg_sd_frame.T.head()"
   ]
  },
  {
   "cell_type": "markdown",
   "metadata": {},
   "source": [
    "### The `median` of the selected ventilator parameters and settings in the individual recordings"
   ]
  },
  {
   "cell_type": "code",
   "execution_count": null,
   "metadata": {},
   "outputs": [],
   "source": [
    "vg_median = {}\n",
    "for case in cases_simv_vg:\n",
    "    vg_median[case] = stats_pars_measurements_vg[case].loc['median']\n",
    "vg_median_frame = DataFrame(vg_median)\n",
    "\n",
    "no_vg_median = {}\n",
    "for case in cases_simv_no_vg:\n",
    "    no_vg_median[case] = stats_pars_measurements_no_vg[case].loc['median']\n",
    "no_vg_median_frame = DataFrame(no_vg_median)"
   ]
  },
  {
   "cell_type": "code",
   "execution_count": null,
   "metadata": {
    "scrolled": false
   },
   "outputs": [],
   "source": [
    "vg_median_2 = {}\n",
    "for case in cases_simv_vg:\n",
    "    vg_median_2[case] = stats_pars_settings_vg[case].loc['median']\n",
    "vg_median_frame_2 = DataFrame(vg_median_2)\n",
    "\n",
    "no_vg_median_2 = {}\n",
    "for case in cases_simv_no_vg:\n",
    "    no_vg_median_2[case] = stats_pars_settings_no_vg[case].loc['median']\n",
    "no_vg_median_frame_2 = DataFrame(no_vg_median_2)"
   ]
  },
  {
   "cell_type": "code",
   "execution_count": null,
   "metadata": {},
   "outputs": [],
   "source": [
    "vg_median_frame = pd.concat([vg_median_frame, vg_median_frame_2])\n",
    "no_vg_median_frame = pd.concat([no_vg_median_frame, no_vg_median_frame_2])"
   ]
  },
  {
   "cell_type": "code",
   "execution_count": null,
   "metadata": {},
   "outputs": [],
   "source": [
    "vg_median_frame.T.head()"
   ]
  },
  {
   "cell_type": "code",
   "execution_count": null,
   "metadata": {},
   "outputs": [],
   "source": [
    "no_vg_median_frame.T.head()"
   ]
  },
  {
   "cell_type": "markdown",
   "metadata": {},
   "source": [
    "### `SDs` of the various ventilator parameters in the individual recordings"
   ]
  },
  {
   "cell_type": "code",
   "execution_count": null,
   "metadata": {},
   "outputs": [],
   "source": [
    "vg_sd = {}\n",
    "for case in cases_simv_vg:\n",
    "    vg_sd[case] = stats_pars_measurements_vg[case].loc['SD']\n",
    "vg_sd_frame = DataFrame(vg_sd)\n",
    "\n",
    "no_vg_sd = {}\n",
    "for case in cases_simv_no_vg:\n",
    "    no_vg_sd[case] = stats_pars_measurements_no_vg[case].loc['SD']\n",
    "no_vg_sd_frame = DataFrame(no_vg_sd)"
   ]
  },
  {
   "cell_type": "code",
   "execution_count": null,
   "metadata": {},
   "outputs": [],
   "source": [
    "vg_sd_2 = {}\n",
    "for case in cases_simv_vg:\n",
    "    vg_sd_2[case] = stats_pars_settings_vg[case].loc['SD']\n",
    "vg_sd_frame_2 = DataFrame(vg_sd_2)\n",
    "\n",
    "no_vg_sd_2 = {}\n",
    "for case in cases_simv_no_vg:\n",
    "    no_vg_sd_2[case] = stats_pars_settings_no_vg[case].loc['SD']\n",
    "no_vg_sd_frame_2 = DataFrame(no_vg_sd_2)"
   ]
  },
  {
   "cell_type": "code",
   "execution_count": null,
   "metadata": {},
   "outputs": [],
   "source": [
    "vg_sd_frame = pd.concat([vg_sd_frame, vg_sd_frame_2])\n",
    "no_vg_sd_frame = pd.concat([no_vg_sd_frame, no_vg_sd_frame_2])"
   ]
  },
  {
   "cell_type": "code",
   "execution_count": null,
   "metadata": {},
   "outputs": [],
   "source": [
    "vg_sd_frame.T.head()"
   ]
  },
  {
   "cell_type": "code",
   "execution_count": null,
   "metadata": {},
   "outputs": [],
   "source": [
    "no_vg_sd_frame.T.head()"
   ]
  },
  {
   "cell_type": "code",
   "execution_count": null,
   "metadata": {},
   "outputs": [],
   "source": [
    "writer = pd.ExcelWriter('%s/%s' % (DIR_WRITE, 'stats_vg_no_vg.xlsx'))\n",
    "vg_mean_frame.to_excel(writer, 'vg_mean_frame')\n",
    "no_vg_mean_frame.to_excel(writer, 'no_vg_mean_frame')\n",
    "vg_sd_frame.to_excel(writer, 'vg_sd_frame')\n",
    "no_vg_sd_frame.to_excel(writer, 'no_vg_sd_frame')\n",
    "writer.save()"
   ]
  },
  {
   "cell_type": "markdown",
   "metadata": {},
   "source": [
    "### Inferential statistics of comparing ` group medians`  of `mean ventilator parameters` between  VG and no VG groups"
   ]
  },
  {
   "cell_type": "code",
   "execution_count": null,
   "metadata": {},
   "outputs": [],
   "source": [
    "def iqr(ser):\n",
    "    return round(ser.quantile(0.25), 2), round(ser.quantile(0.75), 2)  "
   ]
  },
  {
   "cell_type": "code",
   "execution_count": null,
   "metadata": {},
   "outputs": [],
   "source": [
    "def minmax(ser):\n",
    "    return round(ser.min(), 2), round(ser.max(), 2)"
   ]
  },
  {
   "cell_type": "code",
   "execution_count": null,
   "metadata": {},
   "outputs": [],
   "source": [
    "pars = ['FiO2_set', 'PEEP_set','RR_set', 'Ti_set',  'PIP', 'MAP', 'PEEP', 'MV_kg', 'MVresp', \n",
    "        'VTimand_kg', 'VTespon_pat_kg', 'VTemand_resp_kg', 'Leak', ]\n",
    "\n",
    "group_median_vg_mean = []\n",
    "group_iqr_vg_mean = []\n",
    "group_range_vg_mean = []\n",
    "group_median_no_vg_mean = []\n",
    "group_iqr_no_vg_mean = []\n",
    "group_range_no_vg_mean = []\n",
    "mw_test_mean = []\n",
    "\n",
    "for par in pars:\n",
    "    group_median_vg_mean.append(vg_mean_frame.loc[par].median())\n",
    "    group_iqr_vg_mean.append(iqr(vg_mean_frame.loc[par]))\n",
    "    group_range_vg_mean.append(minmax(vg_mean_frame.loc[par]))\n",
    "    \n",
    "for par in pars:\n",
    "    group_median_no_vg_mean.append(no_vg_mean_frame.loc[par].median())\n",
    "    group_iqr_no_vg_mean.append(iqr(no_vg_mean_frame.loc[par]))\n",
    "    group_range_no_vg_mean.append(minmax(no_vg_mean_frame.loc[par]))\n",
    "    \n",
    "    mw_test_mean.append(stats.mannwhitneyu(vg_mean_frame.loc[par].dropna(), \n",
    "                                              no_vg_mean_frame.loc[par].dropna())[1])\n",
    "\n",
    "VG_stats_mean = round(DataFrame([group_median_vg_mean, group_median_no_vg_mean, group_iqr_vg_mean, \n",
    "                     group_iqr_no_vg_mean, group_range_vg_mean, group_range_no_vg_mean]).T, 2)\n",
    "\n",
    "VG_stats_mean.columns = ['VG_mean (group median)', 'no_VG_mean (group median)',\n",
    "                         'VG_mean (group iqr)', 'no_VG_mean (group iqr)',\n",
    "                         'VG_mean (group range)', 'no_VG_mean (group range)']\n",
    "\n",
    "VG_stats_mean['p value (means)'] = mw_test_mean\n",
    "\n",
    "VG_stats_mean.index = pars\n",
    "VG_stats_mean.sort_values(by = 'p value (means)', inplace = True)"
   ]
  },
  {
   "cell_type": "code",
   "execution_count": null,
   "metadata": {},
   "outputs": [],
   "source": [
    "VG_stats_mean"
   ]
  },
  {
   "cell_type": "code",
   "execution_count": null,
   "metadata": {},
   "outputs": [],
   "source": [
    "# Target tidal volume\n",
    "vg_mean_frame.loc['VG_set_kg'].median(), iqr(vg_mean_frame.loc['VG_set_kg'])"
   ]
  },
  {
   "cell_type": "code",
   "execution_count": null,
   "metadata": {},
   "outputs": [],
   "source": [
    "# Pmax during VG\n",
    "vg_mean_frame.loc['PIP_set'].median(), iqr(vg_mean_frame.loc['PIP_set'])"
   ]
  },
  {
   "cell_type": "code",
   "execution_count": null,
   "metadata": {},
   "outputs": [],
   "source": [
    "# Set PIP during non-VG\n",
    "no_vg_mean_frame.loc['PIP_set'].median(), iqr(no_vg_mean_frame.loc['PIP_set'])"
   ]
  },
  {
   "cell_type": "markdown",
   "metadata": {},
   "source": [
    "### Inferential statistics of comparing ` group medians`  of `SDs` of ventilator parameters` between  VG and no VG groups"
   ]
  },
  {
   "cell_type": "code",
   "execution_count": null,
   "metadata": {},
   "outputs": [],
   "source": [
    "pars = ['FiO2_set', 'PEEP_set','RR_set', 'Ti_set',  'PIP', 'MAP', 'PEEP', 'MV_kg', 'MVresp', \n",
    "        'VTimand_kg', 'VTespon_pat_kg', 'VTemand_resp_kg', 'Leak', ]\n",
    "\n",
    "group_median_vg_sd = []\n",
    "group_iqr_vg_sd = []\n",
    "group_range_vg_sd = []\n",
    "group_median_no_vg_sd = []\n",
    "group_iqr_no_vg_sd = []\n",
    "group_range_no_vg_sd = []\n",
    "mw_test_sd = []\n",
    "\n",
    "for par in pars:\n",
    "    group_median_vg_sd.append(vg_sd_frame.loc[par].median())\n",
    "    group_iqr_vg_sd.append(iqr(vg_sd_frame.loc[par]))\n",
    "    group_range_vg_sd.append(minmax(vg_sd_frame.loc[par]))\n",
    "    group_median_no_vg_sd.append(no_vg_sd_frame.loc[par].median())\n",
    "    group_iqr_no_vg_sd.append(iqr(no_vg_sd_frame.loc[par]))\n",
    "    group_range_no_vg_sd.append(minmax(no_vg_sd_frame.loc[par]))\n",
    "    \n",
    "    mw_test_sd.append(stats.mannwhitneyu(vg_sd_frame.loc[par].dropna(),  no_vg_sd_frame.loc[par].dropna())[1])\n",
    "\n",
    "VG_stats_sd = round(DataFrame([group_median_vg_sd, group_median_no_vg_sd, group_iqr_vg_sd, \n",
    "                     group_iqr_no_vg_sd, group_range_vg_sd, group_range_no_vg_sd]).T,  2)\n",
    "\n",
    "VG_stats_sd.columns = ['VG_sd (group median)', 'no_VG_sd (group median)',\n",
    "                       'VG_sd (group iqr)', 'no_VG_sd (group iqr)',\n",
    "                       'VG_sd (group range)', 'no_VG_sd (group range)']\n",
    "\n",
    "VG_stats_sd['p value (SDs)'] = mw_test_sd\n",
    "\n",
    "VG_stats_sd.index = pars\n",
    "VG_stats_sd.sort_values(by = 'p value (SDs)', inplace = True)"
   ]
  },
  {
   "cell_type": "code",
   "execution_count": null,
   "metadata": {
    "scrolled": false
   },
   "outputs": [],
   "source": [
    "VG_stats_sd"
   ]
  },
  {
   "cell_type": "markdown",
   "metadata": {},
   "source": [
    "### Correction for multiple testing using false discovery rate (Benjamini-Hochberg)\n",
    "\n",
    "One good technique for controlling the false discovery rate was briefly mentioned by Simes (1986) and developed in detail by Benjamini and Hochberg (1995). Put the individual P values in order, from smallest to largest. The smallest P value has a rank of i=1, then next smallest has i=2, etc. Compare each individual P value to its Benjamini- Hochberg critical value, (i/m)Q, where i is the rank, m is the total number of tests, and Q is the false discovery rate you choose. The largest P value that has P<(i/m)Q is significant, and all of the P values smaller than it are also significant, even the ones that aren’t less than their Benjamini-Hochberg critical value."
   ]
  },
  {
   "cell_type": "code",
   "execution_count": null,
   "metadata": {},
   "outputs": [],
   "source": [
    "def fdr(ser, rate = 0.05):\n",
    "    '''\n",
    "    \n",
    "    '''\n",
    "    result = []\n",
    "    m = len(ser)\n",
    "    ser_sorted = ser.sort_values()\n",
    "    for i in range(m):\n",
    "        result.append(   round(((i+1) / m * rate), 3))\n",
    "\n",
    "    return result"
   ]
  },
  {
   "cell_type": "code",
   "execution_count": null,
   "metadata": {},
   "outputs": [],
   "source": [
    "p_values_mean = VG_stats_mean[['p value (means)']].copy()\n",
    "p_values_mean['stat'] = 'mean'\n",
    "p_values_mean.columns = ['p value', 'stat']\n",
    "p_values_sd = VG_stats_sd[['p value (SDs)']].copy()\n",
    "p_values_sd['stat'] = 'sd'\n",
    "p_values_sd.columns = ['p value', 'stat']\n",
    "p_values_combined = pd.concat([p_values_mean, p_values_sd]).sort_values('p value')\n",
    "p_values_combined = DataFrame(p_values_combined)\n",
    "p_values_combined = p_values_combined[['stat', 'p value']]"
   ]
  },
  {
   "cell_type": "code",
   "execution_count": null,
   "metadata": {},
   "outputs": [],
   "source": [
    "p_values_combined;"
   ]
  },
  {
   "cell_type": "code",
   "execution_count": null,
   "metadata": {},
   "outputs": [],
   "source": [
    "p_values_combined_fdr = fdr(p_values_combined['p value'])\n",
    "p_values_combined['fdr'] =  p_values_combined_fdr\n",
    "p_values_combined['corrected p'] = p_values_combined['p value'] * (0.05 / p_values_combined['fdr'])"
   ]
  },
  {
   "cell_type": "code",
   "execution_count": null,
   "metadata": {
    "scrolled": false
   },
   "outputs": [],
   "source": [
    "# p values < 0.023 were statistically significant\n",
    "p_values_combined"
   ]
  },
  {
   "cell_type": "code",
   "execution_count": null,
   "metadata": {},
   "outputs": [],
   "source": [
    "p_values_combined_mean = p_values_combined[p_values_combined['stat'] == 'mean']\n",
    "VG_stats_mean = VG_stats_mean.join(p_values_combined_mean)\n",
    "VG_stats_mean"
   ]
  },
  {
   "cell_type": "code",
   "execution_count": null,
   "metadata": {},
   "outputs": [],
   "source": [
    "p_values_combined_sd = p_values_combined[p_values_combined['stat'] == 'sd']\n",
    "VG_stats_sd = VG_stats_sd.join(p_values_combined_sd)\n",
    "VG_stats_sd"
   ]
  },
  {
   "cell_type": "code",
   "execution_count": null,
   "metadata": {},
   "outputs": [],
   "source": [
    "writer = pd.ExcelWriter('%s/%s' % (DIR_WRITE, 'inferential_stats.xlsx'))\n",
    "VG_stats_mean.to_excel(writer, 'VG_stats_mean')\n",
    "VG_stats_sd.to_excel(writer, 'VG_stats_sd')\n",
    "writer.save()"
   ]
  },
  {
   "cell_type": "markdown",
   "metadata": {},
   "source": [
    "## Analysing the `mean` ventilation parameters of the recordings and comparing the two groups"
   ]
  },
  {
   "cell_type": "markdown",
   "metadata": {},
   "source": [
    "### VG_set_kg"
   ]
  },
  {
   "cell_type": "code",
   "execution_count": null,
   "metadata": {},
   "outputs": [],
   "source": [
    "fig, ax = plt.subplots(figsize = (3, 4))\n",
    "dpi = 300\n",
    "filetype = 'jpg'\n",
    "xticklabels = ['VG']\n",
    "\n",
    "# Define styling for each boxplot component\n",
    "medianprops = {'color': 'black', 'linewidth': 2}\n",
    "boxprops = {'color': 'black', 'linestyle': '-'}\n",
    "whiskerprops = {'color': 'black', 'linestyle': '-'}\n",
    "capprops = {'color': 'black', 'linestyle': '-'}\n",
    "flierprops = {'color': 'black', 'marker': '.'}\n",
    "\n",
    "plt.boxplot(vg_mean_frame.loc['VG_set_kg'], \n",
    "        whis = [5, 95], showfliers = True,showmeans = True, medianprops=medianprops, boxprops=boxprops, \n",
    "        whiskerprops=whiskerprops, capprops=capprops, flierprops = flierprops)\n",
    "\n",
    "ax.set_xticklabels(xticklabels)\n",
    "ax.set_ylim(0, 12)\n",
    "ax.set_xlabel('Ventilation', size = 14)\n",
    "ax.set_ylabel('Mean set VT (mL/kg)', size = 14)\n",
    "ax.tick_params(axis='both', which='major', labelsize=14)\n",
    "plt.grid(True)\n",
    "\n",
    "fig.savefig('%s/%s.%s' % (DIR_WRITE, 'VG_set_kg', filetype),\n",
    "    dpi = dpi, facecolor='w', edgecolor='w', orientation='portrait', papertype=None, format = filetype,\n",
    "    transparent=False, bbox_inches='tight', pad_inches=0.1, frameon=True);"
   ]
  },
  {
   "cell_type": "code",
   "execution_count": null,
   "metadata": {
    "scrolled": true
   },
   "outputs": [],
   "source": [
    "fig, ax = plt.subplots(figsize = [3,4])\n",
    "\n",
    "y = vg_mean_frame.loc['VG_set_kg']\n",
    "x = 1.25 + 0.5 * np.random.random(len(y))\n",
    "\n",
    "ax.scatter(x,y, marker = 'o', color = 'black', s = 5)\n",
    "ax.set_xlim(0, 3)\n",
    "ax.set_ylim(0, 10)\n",
    "ax.set_title('', size = 16)\n",
    "ax.set_xlabel('VG', size = 14)\n",
    "ax.set_xticklabels('')\n",
    "ax.set_ylabel('set VT (mL/kg)', size = 14)\n",
    "ax.grid(True)\n",
    "ax.tick_params(axis='both', which='major', labelsize=14)\n",
    "\n",
    "fig.savefig('%s/%s.%s' % (DIR_WRITE, 'VG_set_kg_dotplot', filetype),\n",
    "    dpi = dpi, facecolor='w', edgecolor='w', orientation='portrait', papertype=None, format = filetype,\n",
    "    transparent=False, bbox_inches='tight', pad_inches=0.1, frameon=True);"
   ]
  },
  {
   "cell_type": "code",
   "execution_count": null,
   "metadata": {
    "scrolled": true
   },
   "outputs": [],
   "source": [
    "bins = np.arange(2, 9.1)\n",
    "\n",
    "cats_VG_set_kg = pd.cut(vg_mean_frame.loc['VG_set_kg'], bins = bins, right = True)\n",
    "cats_VG_set_kg.value_counts().sort_index()"
   ]
  },
  {
   "cell_type": "code",
   "execution_count": null,
   "metadata": {},
   "outputs": [],
   "source": [
    "fig, ax = plt.subplots(figsize = [6, 4])\n",
    "cats_VG_set_kg.value_counts().sort_index().plot(kind = 'bar', logy = False, \n",
    "                        title = 'VG_set_kg', color = 'black', alpha = 0.7, fontsize = 14)\n",
    "ax.set_xlabel('range (mL/kg)', size = 14)\n",
    "ax.set_ylabel('number of recordings', size = 14)\n",
    "plt.title('Set VT', fontsize = 16)\n",
    "plt.grid(True)\n",
    "\n",
    "fig.savefig('%s/%s.%s' % (DIR_WRITE, 'VG_set_kg_hist', 'jpg'),\n",
    "    dpi = 200, facecolor='w', edgecolor='w', orientation='portrait', papertype=None, format = 'jpg',\n",
    "    transparent=False, bbox_inches='tight', pad_inches=0.1, frameon=True);"
   ]
  },
  {
   "cell_type": "code",
   "execution_count": null,
   "metadata": {},
   "outputs": [],
   "source": [
    "vg_mean_frame.loc['VG_set_kg'].describe()"
   ]
  },
  {
   "cell_type": "code",
   "execution_count": null,
   "metadata": {},
   "outputs": [],
   "source": [
    "# Large set tidal volumes\n",
    "\n",
    "VG_set_over_6_VG = vg_mean_frame.loc['VG_set_kg'][vg_mean_frame.loc['VG_set_kg'] > 6].sort_values()\n",
    "VG_set_over_6_VG"
   ]
  },
  {
   "cell_type": "code",
   "execution_count": null,
   "metadata": {},
   "outputs": [],
   "source": [
    "# Low set tidal volumes\n",
    "\n",
    "VG_set_below_4_VG = vg_mean_frame.loc['VG_set_kg'][vg_mean_frame.loc['VG_set_kg'] < 4].sort_values()\n",
    "VG_set_below_4_VG"
   ]
  },
  {
   "cell_type": "markdown",
   "metadata": {},
   "source": [
    "### VTemand_resp_kg\n",
    "\n",
    "The ventilator inflations whether synchronized or not. It is actually `VTemand_kg`"
   ]
  },
  {
   "cell_type": "markdown",
   "metadata": {},
   "source": [
    "#### Comparing the mean VTemand_resp of the recordings"
   ]
  },
  {
   "cell_type": "code",
   "execution_count": null,
   "metadata": {
    "scrolled": true
   },
   "outputs": [],
   "source": [
    "fig, ax = plt.subplots(figsize = (5, 4))\n",
    "dpi = 300\n",
    "filetype = 'jpg'\n",
    "xticklabels = ['VG', 'no VG']\n",
    "\n",
    "# Define styling for each boxplot component\n",
    "medianprops = {'color': 'black', 'linewidth': 2}\n",
    "boxprops = {'color': 'black', 'linestyle': '-'}\n",
    "whiskerprops = {'color': 'black', 'linestyle': '-'}\n",
    "capprops = {'color': 'black', 'linestyle': '-'}\n",
    "flierprops = {'color': 'black', 'marker': '.'}\n",
    "\n",
    "plt.boxplot([vg_mean_frame.loc['VTemand_resp_kg'].dropna(), no_vg_mean_frame.loc['VTemand_resp_kg'].dropna()], \n",
    "        whis = [5, 95], showfliers = True,showmeans = True, medianprops=medianprops, boxprops=boxprops, \n",
    "        whiskerprops=whiskerprops, capprops=capprops, flierprops = flierprops)\n",
    "\n",
    "ax.set_xticklabels(xticklabels)\n",
    "ax.set_ylim(0, 16)\n",
    "ax.set_xlabel('Ventilation', size = 14)\n",
    "ax.set_ylabel('Mean VTemand (mL/kg)', size = 14)\n",
    "ax.tick_params(axis='both', which='major', labelsize=14)\n",
    "plt.grid(True)\n",
    "\n",
    "fig.savefig('%s/%s.%s' % (DIR_WRITE, 'VG_noVG_VTemand_resp', filetype),\n",
    "    dpi = dpi, facecolor='w', edgecolor='w', orientation='portrait', papertype=None, format = filetype,\n",
    "    transparent=False, bbox_inches='tight', pad_inches=0.1, frameon=True);"
   ]
  },
  {
   "cell_type": "code",
   "execution_count": null,
   "metadata": {
    "scrolled": false
   },
   "outputs": [],
   "source": [
    "bins = np.arange(1, 8.1)\n",
    "\n",
    "cats_VTemand_vg = pd.cut(vg_mean_frame.loc['VTemand_resp_kg'], bins = bins, right = True)\n",
    "cats_VTemand_vg.value_counts().sort_index()"
   ]
  },
  {
   "cell_type": "code",
   "execution_count": null,
   "metadata": {},
   "outputs": [],
   "source": [
    "fig, ax = plt.subplots(figsize = [6, 4])\n",
    "cats_VTemand_vg.value_counts().sort_index().plot(kind = 'bar', logy = False, \n",
    "                     color = 'black', alpha = 0.7, fontsize = 14)\n",
    "ax.set_xlabel('range (mL/kg)', size = 14)\n",
    "ax.set_ylabel('number of recordings', size = 14)\n",
    "ax.set_ylim(0, 28)\n",
    "plt.title('VTemand_resp (VG recordings)', fontsize = 16)\n",
    "plt.grid(True)\n",
    "\n",
    "fig.savefig('%s/%s.%s' % (DIR_WRITE, 'cats_VTemand_vg_hist', 'jpg'),\n",
    "    dpi = 200, facecolor='w', edgecolor='w', orientation='portrait', papertype=None, format = 'jpg',\n",
    "    transparent=False, bbox_inches='tight', pad_inches=0.1, frameon=True);"
   ]
  },
  {
   "cell_type": "code",
   "execution_count": null,
   "metadata": {},
   "outputs": [],
   "source": [
    "bins = np.arange(1, 10.1)\n",
    "\n",
    "cats_VTemand_no_vg = pd.cut(no_vg_mean_frame.loc['VTemand_resp_kg'], bins = bins, right = True)\n",
    "cats_VTemand_no_vg.value_counts().sort_index()"
   ]
  },
  {
   "cell_type": "code",
   "execution_count": null,
   "metadata": {},
   "outputs": [],
   "source": [
    "fig, ax = plt.subplots(figsize = [6, 4])\n",
    "cats_VTemand_no_vg.value_counts().sort_index().plot(kind = 'bar', logy = False, \n",
    "                        color = 'black', alpha = 0.7, fontsize = 14)\n",
    "ax.set_xlabel('range (mL/kg)', size = 14)\n",
    "ax.set_ylabel('number of recordings', size = 14)\n",
    "ax.set_ylim(0, 10)\n",
    "plt.title('VTemand_resp (non-VG recordings)', fontsize = 16)\n",
    "plt.grid(True)\n",
    "\n",
    "fig.savefig('%s/%s.%s' % (DIR_WRITE, 'cats_VTemand_vg_hist', 'jpg'),\n",
    "    dpi = 200, facecolor='w', edgecolor='w', orientation='portrait', papertype=None, format = 'jpg',\n",
    "    transparent=False, bbox_inches='tight', pad_inches=0.1, frameon=True);"
   ]
  },
  {
   "cell_type": "code",
   "execution_count": null,
   "metadata": {},
   "outputs": [],
   "source": [
    "vg_mean_frame.loc['VTemand_resp_kg'].describe()"
   ]
  },
  {
   "cell_type": "code",
   "execution_count": null,
   "metadata": {},
   "outputs": [],
   "source": [
    "no_vg_mean_frame.loc['VTemand_resp_kg'].describe()"
   ]
  },
  {
   "cell_type": "markdown",
   "metadata": {},
   "source": [
    "##### Over 6 mL/kg"
   ]
  },
  {
   "cell_type": "code",
   "execution_count": null,
   "metadata": {
    "scrolled": true
   },
   "outputs": [],
   "source": [
    "# High VTemand_resp values\n",
    "\n",
    "VT_over_6_VG = vg_mean_frame.loc['VTemand_resp_kg'][vg_mean_frame.loc['VTemand_resp_kg'] > 6].sort_values()\n",
    "VT_over_6_VG"
   ]
  },
  {
   "cell_type": "code",
   "execution_count": null,
   "metadata": {},
   "outputs": [],
   "source": [
    "len(VT_over_6_VG)"
   ]
  },
  {
   "cell_type": "code",
   "execution_count": null,
   "metadata": {},
   "outputs": [],
   "source": [
    "len(VT_over_6_VG) / len(vg_mean_frame.columns)"
   ]
  },
  {
   "cell_type": "code",
   "execution_count": null,
   "metadata": {},
   "outputs": [],
   "source": [
    "VT_over_6_no_VG = no_vg_mean_frame.loc['VTemand_resp_kg'][no_vg_mean_frame.loc['VTemand_resp_kg'] > 6].sort_values()\n",
    "VT_over_6_no_VG"
   ]
  },
  {
   "cell_type": "code",
   "execution_count": null,
   "metadata": {},
   "outputs": [],
   "source": [
    "len(VT_over_6_no_VG)"
   ]
  },
  {
   "cell_type": "markdown",
   "metadata": {},
   "source": [
    "#### Over 8 mL/kg"
   ]
  },
  {
   "cell_type": "code",
   "execution_count": null,
   "metadata": {},
   "outputs": [],
   "source": [
    "VT_over_8_no_VG = no_vg_mean_frame.loc['VTemand_resp_kg'][no_vg_mean_frame.loc['VTemand_resp_kg'] > 8].sort_values()\n",
    "VT_over_8_no_VG"
   ]
  },
  {
   "cell_type": "code",
   "execution_count": null,
   "metadata": {},
   "outputs": [],
   "source": [
    "len(VT_over_8_no_VG)"
   ]
  },
  {
   "cell_type": "code",
   "execution_count": null,
   "metadata": {},
   "outputs": [],
   "source": [
    "len(VT_over_8_no_VG) / len(no_vg_mean_frame.columns)"
   ]
  },
  {
   "cell_type": "code",
   "execution_count": null,
   "metadata": {
    "scrolled": false
   },
   "outputs": [],
   "source": [
    "no_vg_mean_frame[VT_over_8_no_VG.index]"
   ]
  },
  {
   "cell_type": "code",
   "execution_count": null,
   "metadata": {},
   "outputs": [],
   "source": [
    "no_vg_mean_frame[VT_over_8_no_VG.index].loc['PIP'].median(), no_vg_mean_frame[VT_over_8_no_VG.index].loc['PIP'].min(), \\\n",
    "no_vg_mean_frame[VT_over_8_no_VG.index].loc['PIP'].max()"
   ]
  },
  {
   "cell_type": "markdown",
   "metadata": {},
   "source": [
    "#### Below 4 mL/kg"
   ]
  },
  {
   "cell_type": "code",
   "execution_count": null,
   "metadata": {},
   "outputs": [],
   "source": [
    "VT_below_4_VG  = vg_mean_frame.loc['VTemand_resp_kg'][vg_mean_frame.loc['VTemand_resp_kg'] < 4].sort_values()\n",
    "VT_below_4_VG"
   ]
  },
  {
   "cell_type": "code",
   "execution_count": null,
   "metadata": {},
   "outputs": [],
   "source": [
    "VT_below_4_no_VG  = no_vg_mean_frame.loc['VTemand_resp_kg'][no_vg_mean_frame.loc['VTemand_resp_kg'] < 4].sort_values()\n",
    "VT_below_4_no_VG"
   ]
  },
  {
   "cell_type": "code",
   "execution_count": null,
   "metadata": {},
   "outputs": [],
   "source": [
    "no_vg_mean_frame[VT_over_8_no_VG.index].loc['PIP'].median(), no_vg_mean_frame[VT_over_8_no_VG.index].loc['PIP'].min(), \\\n",
    "no_vg_mean_frame[VT_over_8_no_VG.index].loc['PIP'].max()"
   ]
  },
  {
   "cell_type": "code",
   "execution_count": null,
   "metadata": {
    "scrolled": false
   },
   "outputs": [],
   "source": [
    "no_vg_mean_frame[VT_below_4_no_VG.index]"
   ]
  },
  {
   "cell_type": "code",
   "execution_count": null,
   "metadata": {},
   "outputs": [],
   "source": [
    "no_vg_mean_frame[VT_below_4_no_VG.index].loc['PIP']"
   ]
  },
  {
   "cell_type": "markdown",
   "metadata": {},
   "source": [
    "#### Overall how much of all VTmand_resp_kg measurement was over 6 or 8 mL/kg"
   ]
  },
  {
   "cell_type": "code",
   "execution_count": null,
   "metadata": {},
   "outputs": [],
   "source": [
    "VTemand_resp_all_VG = []\n",
    "for case in cases_simv_vg:\n",
    "    VTemand_resp_all_VG.extend(list(data_pars_measurements_vg[case]['VTemand_resp_kg']))\n",
    "VTemand_resp_all_VG = Series(VTemand_resp_all_VG)"
   ]
  },
  {
   "cell_type": "code",
   "execution_count": null,
   "metadata": {},
   "outputs": [],
   "source": [
    "VTemand_resp_all_no_VG = []\n",
    "for case in cases_simv_no_vg:\n",
    "    VTemand_resp_all_no_VG.extend(list(data_pars_measurements_no_vg[case]['VTemand_resp_kg']))\n",
    "VTemand_resp_all_no_VG = Series(VTemand_resp_all_no_VG)"
   ]
  },
  {
   "cell_type": "code",
   "execution_count": null,
   "metadata": {},
   "outputs": [],
   "source": [
    "len(VTemand_resp_all_VG), len(VTemand_resp_all_no_VG)"
   ]
  },
  {
   "cell_type": "code",
   "execution_count": null,
   "metadata": {},
   "outputs": [],
   "source": [
    "VTemand_resp_all_VG.describe()"
   ]
  },
  {
   "cell_type": "code",
   "execution_count": null,
   "metadata": {},
   "outputs": [],
   "source": [
    "VTemand_resp_all_no_VG.describe()"
   ]
  },
  {
   "cell_type": "code",
   "execution_count": null,
   "metadata": {},
   "outputs": [],
   "source": [
    "sum(VTemand_resp_all_VG > 6), sum(VTemand_resp_all_VG > 6) / len(VTemand_resp_all_VG) * 100"
   ]
  },
  {
   "cell_type": "code",
   "execution_count": null,
   "metadata": {},
   "outputs": [],
   "source": [
    "sum(VTemand_resp_all_VG > 8) / len(VTemand_resp_all_VG) * 100"
   ]
  },
  {
   "cell_type": "code",
   "execution_count": null,
   "metadata": {},
   "outputs": [],
   "source": [
    "sum(VTemand_resp_all_no_VG > 6), sum(VTemand_resp_all_no_VG > 6) / len(VTemand_resp_all_no_VG) * 100"
   ]
  },
  {
   "cell_type": "code",
   "execution_count": null,
   "metadata": {},
   "outputs": [],
   "source": [
    "sum(VTemand_resp_all_no_VG > 8) / len(VTemand_resp_all_no_VG) * 100"
   ]
  },
  {
   "cell_type": "code",
   "execution_count": null,
   "metadata": {},
   "outputs": [],
   "source": [
    "fig, ax = plt.subplots(figsize = (3, 4))\n",
    "dpi = 300\n",
    "filetype = 'jpg'\n",
    "xticklabels = ['VG', 'no VG']\n",
    "\n",
    "# Define styling for each boxplot component\n",
    "medianprops = {'color': 'black', 'linewidth': 2}\n",
    "boxprops = {'color': 'black', 'linestyle': '-'}\n",
    "whiskerprops = {'color': 'black', 'linestyle': '-'}\n",
    "capprops = {'color': 'black', 'linestyle': '-'}\n",
    "flierprops = {'color': 'black', 'marker': '.'}\n",
    "\n",
    "plt.boxplot([VTemand_resp_all_VG.dropna(), VTemand_resp_all_no_VG.dropna()], widths = 0.5, \n",
    "        whis = [5, 95], showfliers = False, showmeans = True, medianprops=medianprops, boxprops=boxprops, \n",
    "        whiskerprops=whiskerprops, capprops=capprops, flierprops = flierprops)\n",
    "\n",
    "ax.set_xticklabels(xticklabels)\n",
    "ax.set_ylim(0, 12)\n",
    "ax.set_xlabel('Ventilation', size = 14)\n",
    "ax.set_ylabel('VTemand (mL/kg)', size = 14)\n",
    "ax.tick_params(axis='both', which='major', labelsize=14)\n",
    "plt.grid(True)\n",
    "\n",
    "fig.savefig('%s/%s.%s' % (DIR_WRITE, 'VTemand_all_data', filetype),\n",
    "    dpi = dpi, facecolor='w', edgecolor='w', orientation='portrait', papertype=None, format = filetype,\n",
    "    transparent=False, bbox_inches='tight', pad_inches=0.1, frameon=True);"
   ]
  },
  {
   "cell_type": "markdown",
   "metadata": {},
   "source": [
    "#### How many percent of the individual recordings were <4 mL/kg or >6 mL/kg"
   ]
  },
  {
   "cell_type": "code",
   "execution_count": null,
   "metadata": {
    "scrolled": true
   },
   "outputs": [],
   "source": [
    "above_range_VG = {}\n",
    "\n",
    "for case in cases_simv_vg:\n",
    "    a = data_pars_measurements_vg[case]['VTemand_resp_kg']\n",
    "    above_range_VG[case] = [len(a), sum(a > 6), sum(a > 8)]\n",
    "    \n",
    "above_range_VG = DataFrame(above_range_VG).T\n",
    "above_range_VG.columns = ['data_points', 'above_6', 'above_8']\n",
    "above_range_VG['above_6_pc'] = above_range_VG['above_6'] / above_range_VG['data_points'] * 100\n",
    "above_range_VG['above_8_pc'] = above_range_VG['above_8'] / above_range_VG['data_points'] * 100\n",
    "above_range_VG.head()"
   ]
  },
  {
   "cell_type": "code",
   "execution_count": null,
   "metadata": {},
   "outputs": [],
   "source": [
    "above_range_no_VG = {}\n",
    "\n",
    "for case in cases_simv_no_vg:\n",
    "    a = data_pars_measurements_no_vg[case]['VTemand_resp_kg']\n",
    "    above_range_no_VG[case] = [len(a), sum(a > 6), sum(a > 8)]\n",
    "    \n",
    "above_range_no_VG = DataFrame(above_range_no_VG).T\n",
    "above_range_no_VG.columns = ['data_points', 'above_6', 'above_8']\n",
    "above_range_no_VG['above_6_pc'] = above_range_no_VG['above_6'] / above_range_no_VG['data_points'] * 100\n",
    "above_range_no_VG['above_8_pc'] = above_range_no_VG['above_8'] / above_range_no_VG['data_points'] * 100\n",
    "above_range_no_VG.head()"
   ]
  },
  {
   "cell_type": "code",
   "execution_count": null,
   "metadata": {},
   "outputs": [],
   "source": [
    "round(above_range_VG.describe(), 1)"
   ]
  },
  {
   "cell_type": "code",
   "execution_count": null,
   "metadata": {},
   "outputs": [],
   "source": [
    "round(above_range_no_VG.describe(), 1)"
   ]
  },
  {
   "cell_type": "code",
   "execution_count": null,
   "metadata": {},
   "outputs": [],
   "source": [
    "stats.mannwhitneyu(above_range_VG['above_6_pc'], above_range_no_VG['above_6_pc'])"
   ]
  },
  {
   "cell_type": "code",
   "execution_count": null,
   "metadata": {},
   "outputs": [],
   "source": [
    "stats.mannwhitneyu(above_range_VG['above_8_pc'], above_range_no_VG['above_8_pc'])"
   ]
  },
  {
   "cell_type": "code",
   "execution_count": null,
   "metadata": {},
   "outputs": [],
   "source": [
    "fig, ax = plt.subplots(figsize = (5, 4))\n",
    "dpi = 300\n",
    "filetype = 'jpg'\n",
    "xticklabels = ['VG', 'no VG']\n",
    "\n",
    "# Define styling for each boxplot component\n",
    "medianprops = {'color': 'black', 'linewidth': 2}\n",
    "boxprops = {'color': 'black', 'linestyle': '-'}\n",
    "whiskerprops = {'color': 'black', 'linestyle': '-'}\n",
    "capprops = {'color': 'black', 'linestyle': '-'}\n",
    "flierprops = {'color': 'black', 'marker': '.'}\n",
    "\n",
    "plt.boxplot([above_range_VG['above_6_pc'], above_range_no_VG['above_6_pc']], \n",
    "        whis = [5, 95], showfliers = True,showmeans = True, medianprops=medianprops, boxprops=boxprops, \n",
    "        whiskerprops=whiskerprops, capprops=capprops, flierprops = flierprops)\n",
    "\n",
    "ax.set_xticklabels(xticklabels)\n",
    "ax.set_ylim(-5, 110)\n",
    "ax.set_xlabel('Ventilation', size = 14)\n",
    "ax.set_ylabel('Inflations with VT > 6 mL/kg (%)', size = 14)\n",
    "ax.tick_params(axis='both', which='major', labelsize=14)\n",
    "plt.grid(True)\n",
    "\n",
    "fig.savefig('%s/%s.%s' % (DIR_WRITE, 'VG_no_VG_above_6', filetype),\n",
    "    dpi = dpi, facecolor='w', edgecolor='w', orientation='portrait', papertype=None, format = filetype,\n",
    "    transparent=False, bbox_inches='tight', pad_inches=0.1, frameon=True);"
   ]
  },
  {
   "cell_type": "code",
   "execution_count": null,
   "metadata": {},
   "outputs": [],
   "source": [
    "fig, ax = plt.subplots(figsize = (5, 4))\n",
    "dpi = 300\n",
    "filetype = 'jpg'\n",
    "xticklabels = ['VG', 'no VG']\n",
    "\n",
    "# Define styling for each boxplot component\n",
    "medianprops = {'color': 'black', 'linewidth': 2}\n",
    "boxprops = {'color': 'black', 'linestyle': '-'}\n",
    "whiskerprops = {'color': 'black', 'linestyle': '-'}\n",
    "capprops = {'color': 'black', 'linestyle': '-'}\n",
    "flierprops = {'color': 'black', 'marker': '.'}\n",
    "\n",
    "plt.boxplot([above_range_VG['above_8_pc'], above_range_no_VG['above_8_pc']], \n",
    "        whis = [5, 95], showfliers = True,showmeans = True, medianprops=medianprops, boxprops=boxprops, \n",
    "        whiskerprops=whiskerprops, capprops=capprops, flierprops = flierprops)\n",
    "\n",
    "ax.set_xticklabels(xticklabels)\n",
    "ax.set_ylim(-5, 110)\n",
    "ax.set_xlabel('Ventilation', size = 14)\n",
    "ax.set_ylabel('Inflations with VT > 6 mL/kg (%)', size = 14)\n",
    "ax.tick_params(axis='both', which='major', labelsize=14)\n",
    "plt.grid(True)\n",
    "\n",
    "fig.savefig('%s/%s.%s' % (DIR_WRITE, 'VG_no_VG_above_8', filetype),\n",
    "    dpi = dpi, facecolor='w', edgecolor='w', orientation='portrait', papertype=None, format = filetype,\n",
    "    transparent=False, bbox_inches='tight', pad_inches=0.1, frameon=True);"
   ]
  },
  {
   "cell_type": "code",
   "execution_count": null,
   "metadata": {},
   "outputs": [],
   "source": [
    "below_range_VG = {}\n",
    "\n",
    "for case in cases_simv_vg:\n",
    "    limit_vector = data_pars_measurements_vg[case]['PIP'] < data_pars_settings_vg[case]['PIP_set']\n",
    "    a = data_pars_measurements_vg[case][['VTemand_resp_kg']]\n",
    "    a_filtered =  a[limit_vector]\n",
    "    a_filtered_2 = a[~limit_vector]\n",
    "    below_range_VG[case] = [len(a), len(a_filtered), len(a_filtered_2), sum(a['VTemand_resp_kg'] < 4), \n",
    "                            sum(a['VTemand_resp_kg'] < 2), sum(a_filtered['VTemand_resp_kg'] < 4), \n",
    "                            sum(a_filtered['VTemand_resp_kg'] < 2), sum(a_filtered_2['VTemand_resp_kg'] < 4), \n",
    "                            sum(a_filtered_2['VTemand_resp_kg'] < 2)]\n",
    "    \n",
    "below_range_VG = DataFrame(below_range_VG).T\n",
    "below_range_VG.columns = ['data_points', 'data_points_filt', 'data_points_filt_2', \n",
    "                          'below_4', 'below_2', 'below_4_filt', 'below_2_filt',\n",
    "                         'below_4_filt_2', 'below_2_filt_2']\n",
    "below_range_VG['below_4_pc'] = below_range_VG['below_4'] / below_range_VG['data_points'] * 100\n",
    "below_range_VG['below_2_pc'] = below_range_VG['below_2'] / below_range_VG['data_points'] * 100\n",
    "below_range_VG['below_4_pc_filt'] = below_range_VG['below_4_filt'] / below_range_VG['data_points_filt'] * 100\n",
    "below_range_VG['below_2_pc_filt'] = below_range_VG['below_2_filt'] / below_range_VG['data_points_filt'] * 100\n",
    "below_range_VG['below_4_pc_filt_2'] = below_range_VG['below_4_filt_2'] / below_range_VG['data_points_filt_2'] * 100\n",
    "below_range_VG['below_2_pc_filt_2'] = below_range_VG['below_2_filt_2'] / below_range_VG['data_points_filt_2'] * 100\n",
    "below_range_VG.head()"
   ]
  },
  {
   "cell_type": "code",
   "execution_count": null,
   "metadata": {},
   "outputs": [],
   "source": [
    "below_range_VG[['data_points', 'data_points_filt', 'below_4_filt', \n",
    "                'below_2_filt','below_4_pc_filt', 'below_2_pc_filt',]].head()"
   ]
  },
  {
   "cell_type": "code",
   "execution_count": null,
   "metadata": {},
   "outputs": [],
   "source": [
    "below_range_no_VG = {}\n",
    "\n",
    "for case in cases_simv_no_vg:\n",
    "    a = data_pars_measurements_no_vg[case]['VTemand_resp_kg']\n",
    "    below_range_no_VG[case] = [len(a), sum(a < 4), sum(a < 2)]\n",
    "    \n",
    "below_range_no_VG = DataFrame(below_range_no_VG).T\n",
    "below_range_no_VG.columns = ['data_points', 'below_4', 'below_2',]\n",
    "below_range_no_VG['below_4_pc'] = below_range_no_VG['below_4'] / below_range_no_VG['data_points'] * 100\n",
    "below_range_no_VG['below_2_pc'] = below_range_no_VG['below_2'] / below_range_no_VG['data_points'] * 100\n",
    "below_range_no_VG.head()"
   ]
  },
  {
   "cell_type": "code",
   "execution_count": null,
   "metadata": {},
   "outputs": [],
   "source": [
    "round(below_range_VG.describe(), 1)"
   ]
  },
  {
   "cell_type": "code",
   "execution_count": null,
   "metadata": {},
   "outputs": [],
   "source": [
    "round(below_range_VG[['data_points', 'data_points_filt', 'below_4_filt', \n",
    "                      'below_2_filt','below_4_pc_filt', 'below_2_pc_filt',]].describe(), 1)"
   ]
  },
  {
   "cell_type": "code",
   "execution_count": null,
   "metadata": {},
   "outputs": [],
   "source": [
    "round(below_range_no_VG.describe(), 1)"
   ]
  },
  {
   "cell_type": "code",
   "execution_count": null,
   "metadata": {},
   "outputs": [],
   "source": [
    "stats.mannwhitneyu(below_range_VG['below_4_pc_filt'], below_range_no_VG['below_4_pc'])"
   ]
  },
  {
   "cell_type": "code",
   "execution_count": null,
   "metadata": {},
   "outputs": [],
   "source": [
    "stats.mannwhitneyu(below_range_VG['below_4_pc'], below_range_no_VG['below_4_pc'])"
   ]
  },
  {
   "cell_type": "code",
   "execution_count": null,
   "metadata": {},
   "outputs": [],
   "source": [
    "stats.mannwhitneyu(below_range_VG['below_2_pc_filt'], below_range_no_VG['below_2_pc'])"
   ]
  },
  {
   "cell_type": "code",
   "execution_count": null,
   "metadata": {},
   "outputs": [],
   "source": [
    "stats.mannwhitneyu(below_range_VG['below_2_pc'], below_range_no_VG['below_2_pc'])"
   ]
  },
  {
   "cell_type": "markdown",
   "metadata": {},
   "source": [
    "### Other ventilation parameters"
   ]
  },
  {
   "cell_type": "code",
   "execution_count": null,
   "metadata": {
    "scrolled": false
   },
   "outputs": [],
   "source": [
    "fig, ax = plt.subplots(figsize = (5, 4))\n",
    "dpi = 300\n",
    "filetype = 'jpg'\n",
    "xticklabels = ['VG', 'no VG']\n",
    "\n",
    "# Define styling for each boxplot component\n",
    "medianprops = {'color': 'black', 'linewidth': 2}\n",
    "boxprops = {'color': 'black', 'linestyle': '-'}\n",
    "whiskerprops = {'color': 'black', 'linestyle': '-'}\n",
    "capprops = {'color': 'black', 'linestyle': '-'}\n",
    "flierprops = {'color': 'black', 'marker': '.'}\n",
    "\n",
    "plt.boxplot([vg_mean_frame.loc['VTespon_pat_kg'].dropna(), no_vg_mean_frame.loc['VTespon_pat_kg'].dropna()], \n",
    "        whis = [5, 95], showfliers = True,showmeans = True, medianprops=medianprops, boxprops=boxprops, \n",
    "        whiskerprops=whiskerprops, capprops=capprops, flierprops = flierprops)\n",
    "\n",
    "ax.set_xticklabels(xticklabels)\n",
    "ax.set_ylim(0, 10)\n",
    "ax.set_xlabel('Ventilation', size = 14)\n",
    "ax.set_ylabel('Mean VTespon (mL/kg)', size = 14)\n",
    "ax.tick_params(axis='both', which='major', labelsize=14)\n",
    "plt.grid(True)\n",
    "\n",
    "fig.savefig('%s/%s.%s' % (DIR_WRITE, 'VG_noVG_VTemand_pat', filetype),\n",
    "    dpi = dpi, facecolor='w', edgecolor='w', orientation='portrait', papertype=None, format = filetype,\n",
    "    transparent=False, bbox_inches='tight', pad_inches=0.1, frameon=True);"
   ]
  },
  {
   "cell_type": "code",
   "execution_count": null,
   "metadata": {
    "scrolled": false
   },
   "outputs": [],
   "source": [
    "fig, ax = plt.subplots(figsize = (5, 4))\n",
    "dpi = 300\n",
    "filetype = 'jpg'\n",
    "xticklabels = ['VG', 'no VG']\n",
    "\n",
    "# Define styling for each boxplot component\n",
    "medianprops = {'color': 'black', 'linewidth': 2}\n",
    "boxprops = {'color': 'black', 'linestyle': '-'}\n",
    "whiskerprops = {'color': 'black', 'linestyle': '-'}\n",
    "capprops = {'color': 'black', 'linestyle': '-'}\n",
    "flierprops = {'color': 'black', 'marker': '.'}\n",
    "\n",
    "plt.boxplot([vg_mean_frame.loc['VTimand_kg'].dropna(), no_vg_mean_frame.loc['VTimand_kg'].dropna()], \n",
    "        whis = [5, 95], showfliers = True,showmeans = True, medianprops=medianprops, boxprops=boxprops, \n",
    "        whiskerprops=whiskerprops, capprops=capprops, flierprops = flierprops)\n",
    "\n",
    "ax.set_xticklabels(xticklabels)\n",
    "ax.set_ylim(0, 18)\n",
    "ax.set_xlabel('Ventilation', size = 14)\n",
    "ax.set_ylabel('Mean VTimand (mL/kg)', size = 14)\n",
    "ax.tick_params(axis='both', which='major', labelsize=14)\n",
    "plt.grid(True)\n",
    "\n",
    "fig.savefig('%s/%s.%s' % (DIR_WRITE, 'VG_noVG_VTimand', filetype),\n",
    "    dpi = dpi, facecolor='w', edgecolor='w', orientation='portrait', papertype=None, format = filetype,\n",
    "    transparent=False, bbox_inches='tight', pad_inches=0.1, frameon=True);"
   ]
  },
  {
   "cell_type": "code",
   "execution_count": null,
   "metadata": {
    "scrolled": true
   },
   "outputs": [],
   "source": [
    "fig, ax = plt.subplots(figsize = (5, 4))\n",
    "dpi = 300\n",
    "filetype = 'jpg'\n",
    "xticklabels = ['VG', 'no VG']\n",
    "\n",
    "# Define styling for each boxplot component\n",
    "medianprops = {'color': 'black', 'linewidth': 2}\n",
    "boxprops = {'color': 'black', 'linestyle': '-'}\n",
    "whiskerprops = {'color': 'black', 'linestyle': '-'}\n",
    "capprops = {'color': 'black', 'linestyle': '-'}\n",
    "flierprops = {'color': 'black', 'marker': '.'}\n",
    "\n",
    "plt.boxplot([vg_mean_frame.loc['PIP'].dropna(), no_vg_mean_frame.loc['PIP'].dropna()], \n",
    "        whis = [5, 95], showfliers = True,showmeans = True, medianprops=medianprops, boxprops=boxprops, \n",
    "        whiskerprops=whiskerprops, capprops=capprops, flierprops = flierprops)\n",
    "\n",
    "ax.set_xticklabels(xticklabels)\n",
    "ax.set_ylim(0, 40)\n",
    "ax.set_xlabel('Ventilation', size = 14)\n",
    "ax.set_ylabel('Mean PIP (cmH$_2$O)', size = 14)\n",
    "ax.tick_params(axis='both', which='major', labelsize=14)\n",
    "plt.grid(True)\n",
    "\n",
    "fig.savefig('%s/%s.%s' % (DIR_WRITE, 'VG_no_VG_PIP', filetype),\n",
    "    dpi = dpi, facecolor='w', edgecolor='w', orientation='portrait', papertype=None, format = filetype,\n",
    "    transparent=False, bbox_inches='tight', pad_inches=0.1, frameon=True);"
   ]
  },
  {
   "cell_type": "code",
   "execution_count": null,
   "metadata": {
    "scrolled": true
   },
   "outputs": [],
   "source": [
    "fig, ax = plt.subplots(figsize = (5, 4))\n",
    "dpi = 300\n",
    "filetype = 'jpg'\n",
    "xticklabels = ['VG', 'no VG']\n",
    "\n",
    "# Define styling for each boxplot component\n",
    "medianprops = {'color': 'black', 'linewidth': 2}\n",
    "boxprops = {'color': 'black', 'linestyle': '-'}\n",
    "whiskerprops = {'color': 'black', 'linestyle': '-'}\n",
    "capprops = {'color': 'black', 'linestyle': '-'}\n",
    "flierprops = {'color': 'black', 'marker': '.'}\n",
    "\n",
    "plt.boxplot([vg_mean_frame.loc['MAP'].dropna(),no_vg_mean_frame.loc['MAP'].dropna()], \n",
    "        whis = [5, 95], showfliers = True,showmeans = True, medianprops=medianprops, boxprops=boxprops, \n",
    "        whiskerprops=whiskerprops, capprops=capprops, flierprops = flierprops)\n",
    "\n",
    "ax.set_xticklabels(xticklabels)\n",
    "ax.set_ylim(0, 18)\n",
    "ax.set_xlabel('Ventilation', size = 14)\n",
    "ax.set_ylabel('Mean MAP (mbar)', size = 14)\n",
    "ax.tick_params(axis='both', which='major', labelsize=14)\n",
    "plt.grid(True)\n",
    "\n",
    "fig.savefig('%s/%s.%s' % (DIR_WRITE, 'VG_no_VG_MAP', filetype),\n",
    "    dpi = dpi, facecolor='w', edgecolor='w', orientation='portrait', papertype=None, format = filetype,\n",
    "    transparent=False, bbox_inches='tight', pad_inches=0.1, frameon=True);"
   ]
  },
  {
   "cell_type": "code",
   "execution_count": null,
   "metadata": {},
   "outputs": [],
   "source": [
    "fig, ax = plt.subplots(figsize = (5, 4))\n",
    "dpi = 300\n",
    "filetype = 'jpg'\n",
    "xticklabels = ['VG', 'no VG']\n",
    "\n",
    "# Define styling for each boxplot component\n",
    "medianprops = {'color': 'black', 'linewidth': 2}\n",
    "boxprops = {'color': 'black', 'linestyle': '-'}\n",
    "whiskerprops = {'color': 'black', 'linestyle': '-'}\n",
    "capprops = {'color': 'black', 'linestyle': '-'}\n",
    "flierprops = {'color': 'black', 'marker': '.'}\n",
    "\n",
    "plt.boxplot([vg_mean_frame.loc['RR_set'].dropna(),no_vg_mean_frame.loc['RR_set'].dropna()], \n",
    "        whis = [5, 95], showfliers = True,showmeans = True, medianprops=medianprops, boxprops=boxprops, \n",
    "        whiskerprops=whiskerprops, capprops=capprops, flierprops = flierprops)\n",
    "\n",
    "ax.set_xticklabels(xticklabels)\n",
    "ax.set_ylim(0, 70)\n",
    "ax.set_xlabel('Ventilation', size = 14)\n",
    "ax.set_ylabel('Mean RRmand (1/min)', size = 14)\n",
    "ax.tick_params(axis='both', which='major', labelsize=14)\n",
    "plt.grid(True)\n",
    "\n",
    "fig.savefig('%s/%s.%s' % (DIR_WRITE, 'VG_no_VG_RR_set', filetype),\n",
    "    dpi = dpi, facecolor='w', edgecolor='w', orientation='portrait', papertype=None, format = filetype,\n",
    "    transparent=False, bbox_inches='tight', pad_inches=0.1, frameon=True);"
   ]
  },
  {
   "cell_type": "code",
   "execution_count": null,
   "metadata": {
    "scrolled": true
   },
   "outputs": [],
   "source": [
    "fig, ax = plt.subplots(figsize = (5, 4))\n",
    "dpi = 300\n",
    "filetype = 'jpg'\n",
    "xticklabels = ['VG', 'no VG']\n",
    "\n",
    "# Define styling for each boxplot component\n",
    "medianprops = {'color': 'black', 'linewidth': 2}\n",
    "boxprops = {'color': 'black', 'linestyle': '-'}\n",
    "whiskerprops = {'color': 'black', 'linestyle': '-'}\n",
    "capprops = {'color': 'black', 'linestyle': '-'}\n",
    "flierprops = {'color': 'black', 'marker': '.'}\n",
    "\n",
    "plt.boxplot([vg_mean_frame.loc['MV_kg'].dropna(), no_vg_mean_frame.loc['MV_kg'].dropna()], \n",
    "        whis = [5, 95], showfliers = True,showmeans = True, medianprops=medianprops, boxprops=boxprops, \n",
    "        whiskerprops=whiskerprops, capprops=capprops, flierprops = flierprops)\n",
    "\n",
    "ax.set_xticklabels(xticklabels)\n",
    "ax.set_xlabel('Ventilation', size = 14)\n",
    "ax.set_ylabel('Mean MV (mL/kg)', size = 14)\n",
    "ax.tick_params(axis='both', which='major', labelsize=14)\n",
    "plt.grid(True)\n",
    "\n",
    "fig.savefig('%s/%s.%s' % (DIR_WRITE, 'VG_no_VG_MV', filetype),\n",
    "    dpi = dpi, facecolor='w', edgecolor='w', orientation='portrait', papertype=None, format = filetype,\n",
    "    transparent=False, bbox_inches='tight', pad_inches=0.1, frameon=True);"
   ]
  },
  {
   "cell_type": "code",
   "execution_count": null,
   "metadata": {
    "scrolled": true
   },
   "outputs": [],
   "source": [
    "fig, ax = plt.subplots(figsize = (5, 4))\n",
    "dpi = 300\n",
    "filetype = 'jpg'\n",
    "xticklabels = ['VG', 'no VG']\n",
    "\n",
    "# Define styling for each boxplot component\n",
    "medianprops = {'color': 'black', 'linewidth': 2}\n",
    "boxprops = {'color': 'black', 'linestyle': '-'}\n",
    "whiskerprops = {'color': 'black', 'linestyle': '-'}\n",
    "capprops = {'color': 'black', 'linestyle': '-'}\n",
    "flierprops = {'color': 'black', 'marker': '.'}\n",
    "\n",
    "plt.boxplot([vg_mean_frame.loc['MVresp'].dropna(),no_vg_mean_frame.loc['MVresp'].dropna()], \n",
    "        whis = [5, 95], showfliers = True,showmeans = True, medianprops=medianprops, boxprops=boxprops, \n",
    "        whiskerprops=whiskerprops, capprops=capprops, flierprops = flierprops)\n",
    "\n",
    "ax.set_xticklabels(xticklabels)\n",
    "ax.set_ylim(0, 100)\n",
    "ax.set_xlabel('Ventilation', size = 14)\n",
    "ax.set_ylabel('Mean MVresp (%)', size = 14)\n",
    "ax.tick_params(axis='both', which='major', labelsize=14)\n",
    "plt.grid(True)\n",
    "\n",
    "fig.savefig('%s/%s.%s' % (DIR_WRITE, 'VG_no_VG_MVresp_pc', filetype),\n",
    "    dpi = dpi, facecolor='w', edgecolor='w', orientation='portrait', papertype=None, format = filetype,\n",
    "    transparent=False, bbox_inches='tight', pad_inches=0.1, frameon=True);"
   ]
  },
  {
   "cell_type": "code",
   "execution_count": null,
   "metadata": {
    "scrolled": true
   },
   "outputs": [],
   "source": [
    "fig, ax = plt.subplots(figsize = (5, 4))\n",
    "dpi = 300\n",
    "filetype = 'jpg'\n",
    "xticklabels = ['VG', 'no VG']\n",
    "\n",
    "# Define styling for each boxplot component\n",
    "medianprops = {'color': 'black', 'linewidth': 2}\n",
    "boxprops = {'color': 'black', 'linestyle': '-'}\n",
    "whiskerprops = {'color': 'black', 'linestyle': '-'}\n",
    "capprops = {'color': 'black', 'linestyle': '-'}\n",
    "flierprops = {'color': 'black', 'marker': '.'}\n",
    "\n",
    "plt.boxplot([vg_mean_frame.loc['FiO2_set'].dropna(),no_vg_mean_frame.loc['FiO2_set'].dropna()], \n",
    "        whis = [5, 95], showfliers = True,showmeans = True, medianprops=medianprops, boxprops=boxprops, \n",
    "        whiskerprops=whiskerprops, capprops=capprops, flierprops = flierprops)\n",
    "\n",
    "ax.set_xticklabels(xticklabels)\n",
    "ax.set_ylim(0, 100)\n",
    "ax.set_xlabel('Ventilation', size = 14)\n",
    "ax.set_ylabel('Mean FiO2 (%)', size = 14)\n",
    "ax.tick_params(axis='both', which='major', labelsize=14)\n",
    "plt.grid(True)\n",
    "\n",
    "fig.savefig('%s/%s.%s' % (DIR_WRITE, 'VG_no_VG_FiO2', filetype),\n",
    "    dpi = dpi, facecolor='w', edgecolor='w', orientation='portrait', papertype=None, format = filetype,\n",
    "    transparent=False, bbox_inches='tight', pad_inches=0.1, frameon=True);"
   ]
  },
  {
   "cell_type": "code",
   "execution_count": null,
   "metadata": {
    "scrolled": true
   },
   "outputs": [],
   "source": [
    "fig, ax = plt.subplots(figsize = (5, 4))\n",
    "dpi = 300\n",
    "filetype = 'jpg'\n",
    "xticklabels = ['VG', 'no VG']\n",
    "\n",
    "# Define styling for each boxplot component\n",
    "medianprops = {'color': 'black', 'linewidth': 2}\n",
    "boxprops = {'color': 'black', 'linestyle': '-'}\n",
    "whiskerprops = {'color': 'black', 'linestyle': '-'}\n",
    "capprops = {'color': 'black', 'linestyle': '-'}\n",
    "flierprops = {'color': 'black', 'marker': '.'}\n",
    "\n",
    "plt.boxplot([vg_mean_frame.loc['Leak'].dropna(), no_vg_mean_frame.loc['Leak'].dropna()], \n",
    "        whis = [5, 95], showfliers = True,showmeans = True, medianprops=medianprops, boxprops=boxprops, \n",
    "        whiskerprops=whiskerprops, capprops=capprops, flierprops = flierprops)\n",
    "\n",
    "ax.set_xticklabels(xticklabels)\n",
    "ax.set_ylim(0, 100)\n",
    "ax.set_xlabel('Ventilation', size = 14)\n",
    "ax.set_ylabel('Mean Leak (%)', size = 14)\n",
    "ax.tick_params(axis='both', which='major', labelsize=14)\n",
    "plt.grid(True)\n",
    "\n",
    "fig.savefig('%s/%s.%s' % (DIR_WRITE, 'VG_no_VG_Leak', filetype),\n",
    "    dpi = dpi, facecolor='w', edgecolor='w', orientation='portrait', papertype=None, format = filetype,\n",
    "    transparent=False, bbox_inches='tight', pad_inches=0.1, frameon=True);"
   ]
  },
  {
   "cell_type": "markdown",
   "metadata": {},
   "source": [
    "## Analysing the `standard deviations (SD)` ventilation parameters of the recordings and comparing the two groups"
   ]
  },
  {
   "cell_type": "code",
   "execution_count": null,
   "metadata": {},
   "outputs": [],
   "source": [
    "fig, ax = plt.subplots(figsize = (5, 4))\n",
    "dpi = 300\n",
    "filetype = 'jpg'\n",
    "xticklabels = ['VG', 'no VG']\n",
    "\n",
    "# Define styling for each boxplot component\n",
    "medianprops = {'color': 'black', 'linewidth': 2}\n",
    "boxprops = {'color': 'black', 'linestyle': '-'}\n",
    "whiskerprops = {'color': 'black', 'linestyle': '-'}\n",
    "capprops = {'color': 'black', 'linestyle': '-'}\n",
    "flierprops = {'color': 'black', 'marker': '.'}\n",
    "\n",
    "plt.boxplot([vg_sd_frame.loc['VTemand_resp_kg'].dropna(), no_vg_sd_frame.loc['VTemand_resp_kg'].dropna()], \n",
    "        whis = [5, 95], showfliers = True,showmeans = True, medianprops=medianprops, boxprops=boxprops, \n",
    "        whiskerprops=whiskerprops, capprops=capprops, flierprops = flierprops)\n",
    "\n",
    "ax.set_xticklabels(xticklabels)\n",
    "ax.set_xlabel('Ventilation', size = 14)\n",
    "ax.set_ylabel('SD VTemand (mL/kg)', size = 14)\n",
    "ax.tick_params(axis='both', which='major', labelsize=14)\n",
    "plt.grid(True)\n",
    "\n",
    "fig.savefig('%s/%s.%s' % (DIR_WRITE, 'VG_noVG_VTemand_resp_sd', filetype),\n",
    "    dpi = dpi, facecolor='w', edgecolor='w', orientation='portrait', papertype=None, format = filetype,\n",
    "    transparent=False, bbox_inches='tight', pad_inches=0.1, frameon=True);"
   ]
  },
  {
   "cell_type": "code",
   "execution_count": null,
   "metadata": {},
   "outputs": [],
   "source": [
    "fig, ax = plt.subplots(figsize = (5, 4))\n",
    "dpi = 300\n",
    "filetype = 'jpg'\n",
    "xticklabels = ['VG', 'no VG']\n",
    "\n",
    "# Define styling for each boxplot component\n",
    "medianprops = {'color': 'black', 'linewidth': 2}\n",
    "boxprops = {'color': 'black', 'linestyle': '-'}\n",
    "whiskerprops = {'color': 'black', 'linestyle': '-'}\n",
    "capprops = {'color': 'black', 'linestyle': '-'}\n",
    "flierprops = {'color': 'black', 'marker': '.'}\n",
    "\n",
    "plt.boxplot([vg_sd_frame.loc['VTespon_pat_kg'].dropna(), no_vg_sd_frame.loc['VTespon_pat_kg'].dropna()], \n",
    "        whis = [5, 95], showfliers = True,showmeans = True, medianprops=medianprops, boxprops=boxprops, \n",
    "        whiskerprops=whiskerprops, capprops=capprops, flierprops = flierprops)\n",
    "\n",
    "ax.set_xticklabels(xticklabels)\n",
    "ax.set_ylim(0, 10)\n",
    "ax.set_xlabel('Ventilation', size = 14)\n",
    "ax.set_ylabel('SD VTespon (mL/kg)', size = 14)\n",
    "ax.tick_params(axis='both', which='major', labelsize=14)\n",
    "plt.grid(True)\n",
    "\n",
    "fig.savefig('%s/%s.%s' % (DIR_WRITE, 'VG_noVG_VTemand_pat_sd', filetype),\n",
    "    dpi = dpi, facecolor='w', edgecolor='w', orientation='portrait', papertype=None, format = filetype,\n",
    "    transparent=False, bbox_inches='tight', pad_inches=0.1, frameon=True);"
   ]
  },
  {
   "cell_type": "code",
   "execution_count": null,
   "metadata": {},
   "outputs": [],
   "source": [
    "fig, ax = plt.subplots(figsize = (5, 4))\n",
    "dpi = 300\n",
    "filetype = 'jpg'\n",
    "xticklabels = ['VG', 'no VG']\n",
    "\n",
    "# Define styling for each boxplot component\n",
    "medianprops = {'color': 'black', 'linewidth': 2}\n",
    "boxprops = {'color': 'black', 'linestyle': '-'}\n",
    "whiskerprops = {'color': 'black', 'linestyle': '-'}\n",
    "capprops = {'color': 'black', 'linestyle': '-'}\n",
    "flierprops = {'color': 'black', 'marker': '.'}\n",
    "\n",
    "plt.boxplot([vg_sd_frame.loc['VTimand_kg'].dropna(), no_vg_sd_frame.loc['VTimand_kg'].dropna()], \n",
    "        whis = [5, 95], showfliers = True,showmeans = True, medianprops=medianprops, boxprops=boxprops, \n",
    "        whiskerprops=whiskerprops, capprops=capprops, flierprops = flierprops)\n",
    "\n",
    "ax.set_xticklabels(xticklabels)\n",
    "ax.set_xlabel('Ventilation', size = 14)\n",
    "ax.set_ylabel('SD VTimand (mL/kg)', size = 14)\n",
    "ax.tick_params(axis='both', which='major', labelsize=14)\n",
    "plt.grid(True)\n",
    "\n",
    "fig.savefig('%s/%s.%s' % (DIR_WRITE, 'VG_noVG_VTimand_sd', filetype),\n",
    "    dpi = dpi, facecolor='w', edgecolor='w', orientation='portrait', papertype=None, format = filetype,\n",
    "    transparent=False, bbox_inches='tight', pad_inches=0.1, frameon=True);"
   ]
  },
  {
   "cell_type": "code",
   "execution_count": null,
   "metadata": {
    "scrolled": true
   },
   "outputs": [],
   "source": [
    "fig, ax = plt.subplots(figsize = (5, 4))\n",
    "dpi = 300\n",
    "filetype = 'jpg'\n",
    "xticklabels = ['VG', 'no VG']\n",
    "\n",
    "# Define styling for each boxplot component\n",
    "medianprops = {'color': 'black', 'linewidth': 2}\n",
    "boxprops = {'color': 'black', 'linestyle': '-'}\n",
    "whiskerprops = {'color': 'black', 'linestyle': '-'}\n",
    "capprops = {'color': 'black', 'linestyle': '-'}\n",
    "flierprops = {'color': 'black', 'marker': '.'}\n",
    "\n",
    "plt.boxplot([vg_sd_frame.loc['PIP'].dropna(), no_vg_sd_frame.loc['PIP'].dropna()], \n",
    "        whis = [5, 95], showfliers = True,showmeans = True, medianprops=medianprops, boxprops=boxprops, \n",
    "        whiskerprops=whiskerprops, capprops=capprops, flierprops = flierprops)\n",
    "\n",
    "ax.set_xticklabels(xticklabels)\n",
    "ax.set_xlabel('Ventilation', size = 14)\n",
    "ax.set_ylabel('SD PIP (mbar)', size = 14)\n",
    "ax.tick_params(axis='both', which='major', labelsize=14)\n",
    "plt.grid(True)\n",
    "\n",
    "fig.savefig('%s/%s.%s' % (DIR_WRITE, 'VG_no_VG_PIP_sd', filetype),\n",
    "    dpi = dpi, facecolor='w', edgecolor='w', orientation='portrait', papertype=None, format = filetype,\n",
    "    transparent=False, bbox_inches='tight', pad_inches=0.1, frameon=True);"
   ]
  },
  {
   "cell_type": "code",
   "execution_count": null,
   "metadata": {
    "scrolled": true
   },
   "outputs": [],
   "source": [
    "fig, ax = plt.subplots(figsize = (5, 4))\n",
    "dpi = 300\n",
    "filetype = 'jpg'\n",
    "xticklabels = ['VG', 'no VG']\n",
    "\n",
    "# Define styling for each boxplot component\n",
    "medianprops = {'color': 'black', 'linewidth': 2}\n",
    "boxprops = {'color': 'black', 'linestyle': '-'}\n",
    "whiskerprops = {'color': 'black', 'linestyle': '-'}\n",
    "capprops = {'color': 'black', 'linestyle': '-'}\n",
    "flierprops = {'color': 'black', 'marker': '.'}\n",
    "\n",
    "plt.boxplot([vg_sd_frame.loc['MAP'].dropna(),no_vg_sd_frame.loc['MAP'].dropna()], \n",
    "        whis = [5, 95], showfliers = True,showmeans = True, medianprops=medianprops, boxprops=boxprops, \n",
    "        whiskerprops=whiskerprops, capprops=capprops, flierprops = flierprops)\n",
    "\n",
    "ax.set_xticklabels(xticklabels)\n",
    "ax.set_xlabel('Ventilation', size = 14)\n",
    "ax.set_ylabel('SD MAP (mbar)', size = 14)\n",
    "ax.tick_params(axis='both', which='major', labelsize=14)\n",
    "plt.grid(True)\n",
    "\n",
    "fig.savefig('%s/%s.%s' % (DIR_WRITE, 'VG_no_VG_MAP_sd', filetype),\n",
    "    dpi = dpi, facecolor='w', edgecolor='w', orientation='portrait', papertype=None, format = filetype,\n",
    "    transparent=False, bbox_inches='tight', pad_inches=0.1, frameon=True);"
   ]
  },
  {
   "cell_type": "code",
   "execution_count": null,
   "metadata": {},
   "outputs": [],
   "source": [
    "fig, ax = plt.subplots(figsize = (5, 4))\n",
    "dpi = 300\n",
    "filetype = 'jpg'\n",
    "xticklabels = ['VG', 'no VG']\n",
    "\n",
    "# Define styling for each boxplot component\n",
    "medianprops = {'color': 'black', 'linewidth': 2}\n",
    "boxprops = {'color': 'black', 'linestyle': '-'}\n",
    "whiskerprops = {'color': 'black', 'linestyle': '-'}\n",
    "capprops = {'color': 'black', 'linestyle': '-'}\n",
    "flierprops = {'color': 'black', 'marker': '.'}\n",
    "\n",
    "plt.boxplot([vg_sd_frame.loc['RR_set'].dropna(),no_vg_sd_frame.loc['RR_set'].dropna()], \n",
    "        whis = [5, 95], showfliers = True,showmeans = True, medianprops=medianprops, boxprops=boxprops, \n",
    "        whiskerprops=whiskerprops, capprops=capprops, flierprops = flierprops)\n",
    "\n",
    "ax.set_xticklabels(xticklabels)\n",
    "ax.set_xlabel('Ventilation', size = 14)\n",
    "ax.set_ylabel('SD RRmand (1/min)', size = 14)\n",
    "ax.tick_params(axis='both', which='major', labelsize=14)\n",
    "plt.grid(True)\n",
    "\n",
    "fig.savefig('%s/%s.%s' % (DIR_WRITE, 'VG_no_VG_RR_set_sd', filetype),\n",
    "    dpi = dpi, facecolor='w', edgecolor='w', orientation='portrait', papertype=None, format = filetype,\n",
    "    transparent=False, bbox_inches='tight', pad_inches=0.1, frameon=True);"
   ]
  },
  {
   "cell_type": "code",
   "execution_count": null,
   "metadata": {
    "scrolled": true
   },
   "outputs": [],
   "source": [
    "fig, ax = plt.subplots(figsize = (5, 4))\n",
    "dpi = 300\n",
    "filetype = 'jpg'\n",
    "xticklabels = ['VG', 'no VG']\n",
    "\n",
    "# Define styling for each boxplot component\n",
    "medianprops = {'color': 'black', 'linewidth': 2}\n",
    "boxprops = {'color': 'black', 'linestyle': '-'}\n",
    "whiskerprops = {'color': 'black', 'linestyle': '-'}\n",
    "capprops = {'color': 'black', 'linestyle': '-'}\n",
    "flierprops = {'color': 'black', 'marker': '.'}\n",
    "\n",
    "plt.boxplot([vg_sd_frame.loc['MV_kg'].dropna(), no_vg_sd_frame.loc['MV_kg'].dropna()], \n",
    "        whis = [5, 95], showfliers = True,showmeans = True, medianprops=medianprops, boxprops=boxprops, \n",
    "        whiskerprops=whiskerprops, capprops=capprops, flierprops = flierprops)\n",
    "\n",
    "ax.set_xticklabels(xticklabels)\n",
    "ax.set_ylim(0, 1)\n",
    "ax.set_xlabel('Ventilation', size = 14)\n",
    "ax.set_ylabel('SD MV (mL/kg)', size = 14)\n",
    "ax.tick_params(axis='both', which='major', labelsize=14)\n",
    "plt.grid(True)\n",
    "\n",
    "fig.savefig('%s/%s.%s' % (DIR_WRITE, 'VG_no_VG_MV_sd', filetype),\n",
    "    dpi = dpi, facecolor='w', edgecolor='w', orientation='portrait', papertype=None, format = filetype,\n",
    "    transparent=False, bbox_inches='tight', pad_inches=0.1, frameon=True);"
   ]
  },
  {
   "cell_type": "code",
   "execution_count": null,
   "metadata": {},
   "outputs": [],
   "source": [
    "fig, ax = plt.subplots(figsize = (5, 4))\n",
    "dpi = 300\n",
    "filetype = 'jpg'\n",
    "xticklabels = ['VG', 'no VG']\n",
    "\n",
    "# Define styling for each boxplot component\n",
    "medianprops = {'color': 'black', 'linewidth': 2}\n",
    "boxprops = {'color': 'black', 'linestyle': '-'}\n",
    "whiskerprops = {'color': 'black', 'linestyle': '-'}\n",
    "capprops = {'color': 'black', 'linestyle': '-'}\n",
    "flierprops = {'color': 'black', 'marker': '.'}\n",
    "\n",
    "plt.boxplot([vg_sd_frame.loc['MVresp'].dropna(), no_vg_sd_frame.loc['MVresp'].dropna()], \n",
    "        whis = [5, 95], showfliers = True,showmeans = True, medianprops=medianprops, boxprops=boxprops, \n",
    "        whiskerprops=whiskerprops, capprops=capprops, flierprops = flierprops)\n",
    "\n",
    "ax.set_xticklabels(xticklabels)\n",
    "ax.set_ylim(0, 50)\n",
    "ax.set_xlabel('Ventilation', size = 14)\n",
    "ax.set_ylabel('SD MVresp (%)', size = 14)\n",
    "ax.tick_params(axis='both', which='major', labelsize=14)\n",
    "plt.grid(True)\n",
    "\n",
    "fig.savefig('%s/%s.%s' % (DIR_WRITE, 'VG_no_VG_MVresp_sd', filetype),\n",
    "    dpi = dpi, facecolor='w', edgecolor='w', orientation='portrait', papertype=None, format = filetype,\n",
    "    transparent=False, bbox_inches='tight', pad_inches=0.1, frameon=True);"
   ]
  },
  {
   "cell_type": "code",
   "execution_count": null,
   "metadata": {
    "scrolled": true
   },
   "outputs": [],
   "source": [
    "fig, ax = plt.subplots(figsize = (5, 4))\n",
    "dpi = 300\n",
    "filetype = 'jpg'\n",
    "xticklabels = ['VG', 'no VG']\n",
    "\n",
    "# Define styling for each boxplot component\n",
    "medianprops = {'color': 'black', 'linewidth': 2}\n",
    "boxprops = {'color': 'black', 'linestyle': '-'}\n",
    "whiskerprops = {'color': 'black', 'linestyle': '-'}\n",
    "capprops = {'color': 'black', 'linestyle': '-'}\n",
    "flierprops = {'color': 'black', 'marker': '.'}\n",
    "\n",
    "plt.boxplot([vg_sd_frame.loc['FiO2_set'].dropna(),no_vg_sd_frame.loc['FiO2_set'].dropna()], \n",
    "        whis = [5, 95], showfliers = True,showmeans = True, medianprops=medianprops, boxprops=boxprops, \n",
    "        whiskerprops=whiskerprops, capprops=capprops, flierprops = flierprops)\n",
    "\n",
    "ax.set_xticklabels(xticklabels)\n",
    "ax.set_xlabel('Ventilation', size = 14)\n",
    "ax.set_ylabel('SD FiO2 (%)', size = 14)\n",
    "ax.tick_params(axis='both', which='major', labelsize=14)\n",
    "plt.grid(True)\n",
    "\n",
    "fig.savefig('%s/%s.%s' % (DIR_WRITE, 'VG_no_VG_FiO2_sd', filetype),\n",
    "    dpi = dpi, facecolor='w', edgecolor='w', orientation='portrait', papertype=None, format = filetype,\n",
    "    transparent=False, bbox_inches='tight', pad_inches=0.1, frameon=True);"
   ]
  },
  {
   "cell_type": "code",
   "execution_count": null,
   "metadata": {
    "scrolled": false
   },
   "outputs": [],
   "source": [
    "fig, ax = plt.subplots(figsize = (5, 4))\n",
    "dpi = 300\n",
    "filetype = 'jpg'\n",
    "xticklabels = ['VG', 'no VG']\n",
    "\n",
    "# Define styling for each boxplot component\n",
    "medianprops = {'color': 'black', 'linewidth': 2}\n",
    "boxprops = {'color': 'black', 'linestyle': '-'}\n",
    "whiskerprops = {'color': 'black', 'linestyle': '-'}\n",
    "capprops = {'color': 'black', 'linestyle': '-'}\n",
    "flierprops = {'color': 'black', 'marker': '.'}\n",
    "\n",
    "plt.boxplot([vg_sd_frame.loc['Leak'].dropna(), no_vg_sd_frame.loc['Leak'].dropna()], \n",
    "        whis = [5, 95], showfliers = True,showmeans = True, medianprops=medianprops, boxprops=boxprops, \n",
    "        whiskerprops=whiskerprops, capprops=capprops, flierprops = flierprops)\n",
    "\n",
    "ax.set_xticklabels(xticklabels)\n",
    "ax.set_ylim(0, 50)\n",
    "ax.set_xlabel('Ventilation', size = 14)\n",
    "ax.set_ylabel('SD Leak (%)', size = 14)\n",
    "ax.tick_params(axis='both', which='major', labelsize=14)\n",
    "plt.grid(True)\n",
    "\n",
    "fig.savefig('%s/%s.%s' % (DIR_WRITE, 'VG_no_VG_Leak_sd', filetype),\n",
    "    dpi = dpi, facecolor='w', edgecolor='w', orientation='portrait', papertype=None, format = filetype,\n",
    "    transparent=False, bbox_inches='tight', pad_inches=0.1, frameon=True);"
   ]
  },
  {
   "cell_type": "markdown",
   "metadata": {},
   "source": [
    "### Save all curves for some parameters"
   ]
  },
  {
   "cell_type": "markdown",
   "metadata": {},
   "source": [
    "##### VTemand_resp_kg, VG_set_kg in SIMV-VG recordings"
   ]
  },
  {
   "cell_type": "code",
   "execution_count": null,
   "metadata": {},
   "outputs": [],
   "source": [
    "pars = ['VTemand_resp_kg', 'VG_set_kg']\n",
    "name = 'VTemand_VG_set'\n",
    "dim = 'mL/kg'; filetype = 'jpg'; dpi = 200\n",
    "\n",
    "for case in cases_simv_vg:\n",
    "\n",
    "    fig = plt.figure()\n",
    "    fig.set_size_inches(8, 4)\n",
    "    fig.subplots_adjust(left=None, bottom=None, right=None, top=None, \n",
    "                            wspace=None, hspace=0.1)\n",
    "    ax0 = fig.add_subplot(1, 1, 1)\n",
    "    data_pars_measurements_vg[case][pars[0]].plot()\n",
    "    data_pars_settings_vg[case][pars[1]].plot(color = 'red')\n",
    "\n",
    "    ax0.set_xlabel('Time', size = 14, color = 'black')\n",
    "    ax0.set_ylabel(dim, size = 14, color = 'black')\n",
    "    ax0.set_title(case,  size = 14, color = 'black')\n",
    "    ax0.legend(pars, fontsize = 12)\n",
    "    ax0.grid('on', linestyle='-', linewidth=0.5, color = 'gray')\n",
    "    xticks = pd.date_range(start=data_pars_measurements_vg[case].index.min(), \n",
    "                       end=data_pars_measurements_vg[case].index.max(), freq='15min')\n",
    "    # plt.xticks(xticks, xticks.strftime('%H:%M'), rotation=0, ha=\"center\")\n",
    "    ax0.tick_params(which = 'both', labelsize=14)\n",
    "            \n",
    "    fig.savefig('%s/%s/%s/%s_%s_%s.%s' % (DATA_DUMP, 'fabian_cases', case, case, 'SIMV_VG', name, filetype), dpi = dpi, \n",
    "        facecolor='w', edgecolor='w', orientation='portrait', \n",
    "        papertype=None, format = filetype, transparent=False, bbox_inches='tight',\n",
    "        pad_inches=0.1, frameon=True);\n",
    "\n",
    "    plt.close()"
   ]
  },
  {
   "cell_type": "markdown",
   "metadata": {},
   "source": [
    "##### VTemand_resp_kg,  in SIMV-noVG recordings"
   ]
  },
  {
   "cell_type": "code",
   "execution_count": null,
   "metadata": {},
   "outputs": [],
   "source": [
    "pars = ['VTemand_resp_kg']\n",
    "name = 'VTemand'\n",
    "dim = 'mL/kg'; filetype = 'jpg'; dpi = 200\n",
    "\n",
    "for case in cases_simv_no_vg:\n",
    "\n",
    "    fig = plt.figure()\n",
    "    fig.set_size_inches(8, 4)\n",
    "    fig.subplots_adjust(left=None, bottom=None, right=None, top=None, \n",
    "                            wspace=None, hspace=0.1)\n",
    "    ax0 = fig.add_subplot(1, 1, 1)\n",
    "    data_pars_measurements_no_vg[case][pars[0]].plot()\n",
    "\n",
    "    ax0.set_xlabel('Time', size = 14, color = 'black')\n",
    "    ax0.set_ylabel(dim, size = 14, color = 'black')\n",
    "    ax0.set_title(case,  size = 14, color = 'black')\n",
    "    ax0.legend(pars, fontsize = 12)\n",
    "    ax0.grid('on', linestyle='-', linewidth=0.5, color = 'gray')\n",
    "    xticks = pd.date_range(start=data_pars_measurements_no_vg[case].index.min(), \n",
    "                       end=data_pars_measurements_no_vg[case].index.max(), freq='15min')\n",
    "    # plt.xticks(xticks, xticks.strftime('%H:%M'), rotation=0, ha=\"center\")\n",
    "    ax0.tick_params(which = 'both', labelsize=14)\n",
    "            \n",
    "    fig.savefig('%s/%s/%s/%s_%s_%s.%s' % (DATA_DUMP, 'fabian_cases', case, case, 'SIMV', name, filetype), dpi = dpi, \n",
    "        facecolor='w', edgecolor='w', orientation='portrait', \n",
    "        papertype=None, format = filetype, transparent=False, bbox_inches='tight',\n",
    "        pad_inches=0.1, frameon=True);\n",
    "\n",
    "    plt.close()"
   ]
  },
  {
   "cell_type": "markdown",
   "metadata": {},
   "source": [
    "##### VTespon_pat in SIMV-VG recordings"
   ]
  },
  {
   "cell_type": "code",
   "execution_count": null,
   "metadata": {},
   "outputs": [],
   "source": [
    "pars = ['VTespon_pat_kg']\n",
    "name = 'VTespon_pat'\n",
    "dim = 'mL/kg'; filetype = 'jpg'; dpi = 200\n",
    "\n",
    "for case in cases_simv_vg:\n",
    "\n",
    "    fig = plt.figure()\n",
    "    fig.set_size_inches(8, 4)\n",
    "    fig.subplots_adjust(left=None, bottom=None, right=None, top=None, \n",
    "                            wspace=None, hspace=0.1)\n",
    "    ax0 = fig.add_subplot(1, 1, 1)\n",
    "    data_pars_measurements_vg[case][pars[0]].plot()\n",
    "\n",
    "    ax0.set_xlabel('Time', size = 14, color = 'black')\n",
    "    ax0.set_ylabel(dim, size = 14, color = 'black')\n",
    "    ax0.set_title(case,  size = 14, color = 'black')\n",
    "    ax0.legend(['VTespon_pat'], fontsize = 12)\n",
    "    ax0.grid('on', linestyle='-', linewidth=0.5, color = 'gray')\n",
    "    xticks = pd.date_range(start=data_pars_measurements_vg[case].index.min(), \n",
    "                       end=data_pars_measurements_vg[case].index.max(), freq='15min')\n",
    "    # plt.xticks(xticks, xticks.strftime('%H:%M'), rotation=0, ha=\"center\")\n",
    "    ax0.tick_params(which = 'both', labelsize=14)\n",
    "            \n",
    "    fig.savefig('%s/%s/%s/%s_%s_%s.%s' % (DATA_DUMP, 'fabian_cases', case, case, 'SIMV_VG', name, filetype), dpi = dpi, \n",
    "        facecolor='w', edgecolor='w', orientation='portrait', \n",
    "        papertype=None, format = filetype, transparent=False, bbox_inches='tight',\n",
    "        pad_inches=0.1, frameon=True);\n",
    "\n",
    "    plt.close()"
   ]
  },
  {
   "cell_type": "markdown",
   "metadata": {},
   "source": [
    "##### VTespon_pat in SIMV-no-VG recordings"
   ]
  },
  {
   "cell_type": "code",
   "execution_count": null,
   "metadata": {},
   "outputs": [],
   "source": [
    "pars = ['VTespon_pat_kg']\n",
    "name = 'VTespon_pat'\n",
    "dim = 'mL/kg'; filetype = 'jpg'; dpi = 200\n",
    "\n",
    "for case in cases_simv_no_vg:\n",
    "\n",
    "    fig = plt.figure()\n",
    "    fig.set_size_inches(8, 4)\n",
    "    fig.subplots_adjust(left=None, bottom=None, right=None, top=None, \n",
    "                            wspace=None, hspace=0.1)\n",
    "    ax0 = fig.add_subplot(1, 1, 1)\n",
    "    data_pars_measurements_no_vg[case][pars[0]].plot()\n",
    "\n",
    "    ax0.set_xlabel('Time', size = 14, color = 'black')\n",
    "    ax0.set_ylabel(dim, size = 14, color = 'black')\n",
    "    ax0.set_title(case,  size = 14, color = 'black')\n",
    "    ax0.legend(['VTespon_pat'], fontsize = 12)\n",
    "    ax0.grid('on', linestyle='-', linewidth=0.5, color = 'gray')\n",
    "    xticks = pd.date_range(start=data_pars_measurements_no_vg[case].index.min(), \n",
    "                       end=data_pars_measurements_no_vg[case].index.max(), freq='15min')\n",
    "    # plt.xticks(xticks, xticks.strftime('%H:%M'), rotation=0, ha=\"center\")\n",
    "    ax0.tick_params(which = 'both', labelsize=14)\n",
    "            \n",
    "    fig.savefig('%s/%s/%s/%s_%s_%s.%s' % (DATA_DUMP, 'fabian_cases', case, case, 'SIMV', name, filetype), dpi = dpi, \n",
    "        facecolor='w', edgecolor='w', orientation='portrait', \n",
    "        papertype=None, format = filetype, transparent=False, bbox_inches='tight',\n",
    "        pad_inches=0.1, frameon=True);\n",
    "\n",
    "    plt.close()"
   ]
  },
  {
   "cell_type": "markdown",
   "metadata": {},
   "source": [
    "##### PIP  and Pmax and alarm limits in SIMV-VG recordings"
   ]
  },
  {
   "cell_type": "code",
   "execution_count": null,
   "metadata": {},
   "outputs": [],
   "source": [
    "pars = ['PIP', 'PIP_set', 'PIP_lim_high_set', 'PIP_lim_low_set']\n",
    "name = 'PIP_with_limits'\n",
    "dim = 'cmH$_2$O'; filetype = 'jpg'; dpi = 200\n",
    "\n",
    "for case in cases_simv_vg:\n",
    "    \n",
    "    fig = plt.figure()\n",
    "    fig.set_size_inches(8, 5)\n",
    "    fig.subplots_adjust(left=None, bottom=None, right=None, top=None, \n",
    "                            wspace=None, hspace=0.1)\n",
    "    ax0 = fig.add_subplot(1, 1, 1)\n",
    "    data_pars_measurements_vg[case][pars[0]].plot()\n",
    "    data_pars_settings_vg[case][pars[1]].plot(color = 'black', linewidth = 2)\n",
    "    data_pars_settings_vg[case][pars[2]].plot(color = 'red')\n",
    "    data_pars_settings_vg[case][pars[3]].plot(color = 'red')\n",
    "\n",
    "    ax0.set_xlabel('Time', size = 14, color = 'black')\n",
    "    ax0.set_ylabel(dim, size = 14, color = 'black')\n",
    "    ax0.set_ylim(0, 50)\n",
    "    ax0.set_title(case,  size = 14, color = 'black')\n",
    "    ax0.legend(['PIP', 'Pmax', 'PIP_high_alarm', 'PIP_low_alarm'], fontsize = 12)\n",
    "    ax0.grid('on', linestyle='-', linewidth=0.5, color = 'gray')\n",
    "    xticks = pd.date_range(start=data_pars_measurements_vg[case].index.min(), \n",
    "                       end=data_pars_measurements_vg[case].index.max(), freq='15min')\n",
    "    # plt.xticks(xticks, xticks.strftime('%H:%M'), rotation=0, ha=\"center\")\n",
    "    ax0.tick_params(which = 'both', labelsize=12)\n",
    "            \n",
    "    fig.savefig('%s/%s/%s/%s_%s_%s.%s' % (DATA_DUMP, 'fabian_cases', case, case, 'SIMV-VG', name, filetype), dpi = dpi, \n",
    "        facecolor='w', edgecolor='w', orientation='portrait', \n",
    "        papertype=None, format = filetype, transparent=False, bbox_inches='tight',\n",
    "        pad_inches=0.1, frameon=True);\n",
    "\n",
    "    plt.close()"
   ]
  },
  {
   "cell_type": "markdown",
   "metadata": {},
   "source": [
    "##### PIP and alarm limits in SIMV-no-VG recordings"
   ]
  },
  {
   "cell_type": "code",
   "execution_count": null,
   "metadata": {},
   "outputs": [],
   "source": [
    "pars = ['PIP', 'PIP_lim_high_set', 'PIP_lim_low_set']\n",
    "name = 'PIP'\n",
    "dim = 'cmH$_2$O'; filetype = 'jpg'; dpi = 200\n",
    "\n",
    "for case in cases_simv_no_vg:\n",
    "    \n",
    "    fig = plt.figure()\n",
    "    fig.set_size_inches(8, 5)\n",
    "    fig.subplots_adjust(left=None, bottom=None, right=None, top=None, \n",
    "                            wspace=None, hspace=0.1)\n",
    "    ax0 = fig.add_subplot(1, 1, 1)\n",
    "    data_pars_measurements_no_vg[case][pars[0]].plot()\n",
    "    data_pars_settings_no_vg[case][pars[1]].plot(color = 'red')\n",
    "    data_pars_settings_no_vg[case][pars[2]].plot(color = 'red')\n",
    "\n",
    "    ax0.set_xlabel('Time', size = 14, color = 'black')\n",
    "    ax0.set_ylabel(dim, size = 14, color = 'black')\n",
    "    ax0.set_ylim(0, 50)\n",
    "    ax0.set_title(case,  size = 14, color = 'black')\n",
    "    ax0.legend(['PIP', 'Pmax', 'PIP_high_alarm', 'PIP_low_alarm'], fontsize = 12)\n",
    "    ax0.grid('on', linestyle='-', linewidth=0.5, color = 'gray')\n",
    "    xticks = pd.date_range(start=data_pars_measurements_no_vg[case].index.min(), \n",
    "                       end=data_pars_measurements_no_vg[case].index.max(), freq='15min')\n",
    "    # plt.xticks(xticks, xticks.strftime('%H:%M'), rotation=0, ha=\"center\")\n",
    "    ax0.tick_params(which = 'both', labelsize=12)\n",
    "            \n",
    "    fig.savefig('%s/%s/%s/%s_%s_%s.%s' % (DATA_DUMP, 'fabian_cases', case, case, 'SIMV', name, filetype), dpi = dpi, \n",
    "        facecolor='w', edgecolor='w', orientation='portrait', \n",
    "        papertype=None, format = filetype, transparent=False, bbox_inches='tight',\n",
    "        pad_inches=0.1, frameon=True);\n",
    "\n",
    "    plt.close()"
   ]
  },
  {
   "cell_type": "markdown",
   "metadata": {},
   "source": [
    "##### MV in SIMV-VG recordings"
   ]
  },
  {
   "cell_type": "code",
   "execution_count": null,
   "metadata": {},
   "outputs": [],
   "source": [
    "pars = ['MV_kg']\n",
    "name = 'MV'\n",
    "dim = 'mL/kg'; filetype = 'jpg'; dpi = 200\n",
    "\n",
    "for case in cases_simv_vg:\n",
    "    \n",
    "    fig = plt.figure()\n",
    "    fig.set_size_inches(8, 5)\n",
    "    fig.subplots_adjust(left=None, bottom=None, right=None, top=None, \n",
    "                            wspace=None, hspace=0.1)\n",
    "    ax0 = fig.add_subplot(1, 1, 1)\n",
    "    data_pars_measurements_vg[case][pars[0]].plot(color = 'blue')\n",
    "    \n",
    "    ax0.set_xlabel('Time', size = 14, color = 'black')\n",
    "    ax0.set_ylabel(dim, size = 14, color = 'black')\n",
    "    ax0.set_ylim(0, 1)\n",
    "    ax0.set_title(case,  size = 14, color = 'black')\n",
    "    ax0.legend(pars, fontsize = 12)\n",
    "    ax0.grid('on', linestyle='-', linewidth=0.5, color = 'gray')\n",
    "    xticks = pd.date_range(start=data_pars_measurements_vg[case].index.min(), \n",
    "                       end=data_pars_measurements_vg[case].index.max(), freq='15min')\n",
    "    # plt.xticks(xticks, xticks.strftime('%H:%M'), rotation=0, ha=\"center\")\n",
    "    ax0.tick_params(which = 'both', labelsize=12)\n",
    "            \n",
    "    fig.savefig('%s/%s/%s/%s_%s_%s.%s' % (DATA_DUMP, 'fabian_cases', case, case, 'SIMV-VG', name, filetype), dpi = dpi, \n",
    "        facecolor='w', edgecolor='w', orientation='portrait', \n",
    "        papertype=None, format = filetype, transparent=False, bbox_inches='tight',\n",
    "        pad_inches=0.1, frameon=True);\n",
    "\n",
    "    plt.close()"
   ]
  },
  {
   "cell_type": "markdown",
   "metadata": {},
   "source": [
    "##### MV in SIMV-no-VG recordings"
   ]
  },
  {
   "cell_type": "code",
   "execution_count": null,
   "metadata": {},
   "outputs": [],
   "source": [
    "pars = ['MV_kg']\n",
    "name = 'MV'\n",
    "dim = 'mL/kg'; filetype = 'jpg'; dpi = 200\n",
    "\n",
    "for case in cases_simv_no_vg:\n",
    "    \n",
    "    fig = plt.figure()\n",
    "    fig.set_size_inches(8, 5)\n",
    "    fig.subplots_adjust(left=None, bottom=None, right=None, top=None, \n",
    "                            wspace=None, hspace=0.1)\n",
    "    ax0 = fig.add_subplot(1, 1, 1)\n",
    "    data_pars_measurements_no_vg[case][pars[0]].plot(color = 'blue')\n",
    "    \n",
    "    ax0.set_xlabel('Time', size = 14, color = 'black')\n",
    "    ax0.set_ylabel(dim, size = 14, color = 'black')\n",
    "    ax0.set_ylim(0, 1)\n",
    "    ax0.set_title(case,  size = 14, color = 'black')\n",
    "    ax0.legend(pars, fontsize = 12)\n",
    "    ax0.grid('on', linestyle='-', linewidth=0.5, color = 'gray')\n",
    "    xticks = pd.date_range(start=data_pars_measurements_no_vg[case].index.min(), \n",
    "                       end=data_pars_measurements_no_vg[case].index.max(), freq='15min')\n",
    "    # plt.xticks(xticks, xticks.strftime('%H:%M'), rotation=0, ha=\"center\")\n",
    "    ax0.tick_params(which = 'both', labelsize=12)\n",
    "            \n",
    "    fig.savefig('%s/%s/%s/%s_%s_%s.%s' % (DATA_DUMP, 'fabian_cases', case, case, 'SIMV', name, filetype), dpi = dpi, \n",
    "        facecolor='w', edgecolor='w', orientation='portrait', \n",
    "        papertype=None, format = filetype, transparent=False, bbox_inches='tight',\n",
    "        pad_inches=0.1, frameon=True);\n",
    "\n",
    "    plt.close()"
   ]
  },
  {
   "cell_type": "markdown",
   "metadata": {},
   "source": [
    "##### MVresp (%) in SIMV-VG recordings"
   ]
  },
  {
   "cell_type": "code",
   "execution_count": null,
   "metadata": {},
   "outputs": [],
   "source": [
    "pars = ['MVresp']\n",
    "name = 'MVresp'\n",
    "dim = '%'; filetype = 'jpg'; dpi = 200\n",
    "\n",
    "for case in cases_simv_vg:\n",
    "    \n",
    "    fig = plt.figure()\n",
    "    fig.set_size_inches(8, 5)\n",
    "    fig.subplots_adjust(left=None, bottom=None, right=None, top=None, \n",
    "                            wspace=None, hspace=0.1)\n",
    "    ax0 = fig.add_subplot(1, 1, 1)\n",
    "    data_pars_measurements_vg[case][pars[0]].plot(color = 'blue')\n",
    "    \n",
    "    ax0.set_xlabel('Time', size = 14, color = 'black')\n",
    "    ax0.set_ylabel(dim, size = 14, color = 'black')\n",
    "    ax0.set_ylim(0, 105)\n",
    "    ax0.set_title(case,  size = 14, color = 'black')\n",
    "    ax0.legend(pars, fontsize = 12)\n",
    "    ax0.grid('on', linestyle='-', linewidth=0.5, color = 'gray')\n",
    "    xticks = pd.date_range(start=data_pars_measurements_vg[case].index.min(), \n",
    "                       end=data_pars_measurements_vg[case].index.max(), freq='15min')\n",
    "    # plt.xticks(xticks, xticks.strftime('%H:%M'), rotation=0, ha=\"center\")\n",
    "    ax0.tick_params(which = 'both', labelsize=12)\n",
    "            \n",
    "    fig.savefig('%s/%s/%s/%s_%s_%s.%s' % (DATA_DUMP, 'fabian_cases', case, case, 'SIMV_VG', name, filetype), dpi = dpi, \n",
    "        facecolor='w', edgecolor='w', orientation='portrait', \n",
    "        papertype=None, format = filetype, transparent=False, bbox_inches='tight',\n",
    "        pad_inches=0.1, frameon=True);\n",
    "\n",
    "    plt.close()"
   ]
  },
  {
   "cell_type": "markdown",
   "metadata": {},
   "source": [
    "##### MVresp (%) in SIMV-no-VG recordings"
   ]
  },
  {
   "cell_type": "code",
   "execution_count": null,
   "metadata": {},
   "outputs": [],
   "source": [
    "pars = ['MVresp']\n",
    "name = 'MVresp'\n",
    "dim = '%'; filetype = 'jpg'; dpi = 200\n",
    "\n",
    "for case in cases_simv_no_vg:\n",
    "    \n",
    "    fig = plt.figure()\n",
    "    fig.set_size_inches(8, 5)\n",
    "    fig.subplots_adjust(left=None, bottom=None, right=None, top=None, \n",
    "                            wspace=None, hspace=0.1)\n",
    "    ax0 = fig.add_subplot(1, 1, 1)\n",
    "    data_pars_measurements_no_vg[case][pars[0]].plot(color = 'blue')\n",
    "    \n",
    "    ax0.set_xlabel('Time', size = 14, color = 'black')\n",
    "    ax0.set_ylabel(dim, size = 14, color = 'black')\n",
    "    ax0.set_ylim(0, 105)\n",
    "    ax0.set_title(case,  size = 14, color = 'black')\n",
    "    ax0.legend(pars, fontsize = 12)\n",
    "    ax0.grid('on', linestyle='-', linewidth=0.5, color = 'gray')\n",
    "    xticks = pd.date_range(start=data_pars_measurements_no_vg[case].index.min(), \n",
    "                       end=data_pars_measurements_no_vg[case].index.max(), freq='15min')\n",
    "    # plt.xticks(xticks, xticks.strftime('%H:%M'), rotation=0, ha=\"center\")\n",
    "    ax0.tick_params(which = 'both', labelsize=12)\n",
    "            \n",
    "    fig.savefig('%s/%s/%s/%s_%s_%s.%s' % (DATA_DUMP, 'fabian_cases', case, case, 'SIMV', name, filetype), dpi = dpi, \n",
    "        facecolor='w', edgecolor='w', orientation='portrait', \n",
    "        papertype=None, format = filetype, transparent=False, bbox_inches='tight',\n",
    "        pad_inches=0.1, frameon=True);\n",
    "\n",
    "    plt.close()"
   ]
  },
  {
   "cell_type": "markdown",
   "metadata": {},
   "source": [
    "## pCO2 before and after transport"
   ]
  },
  {
   "cell_type": "code",
   "execution_count": null,
   "metadata": {},
   "outputs": [],
   "source": [
    "blood_gases_simv_vg = {case: blood_gases[case] for case in blood_gases.keys()\n",
    "                       if case in cases_simv_vg }\n",
    "len(blood_gases_simv_vg)"
   ]
  },
  {
   "cell_type": "code",
   "execution_count": null,
   "metadata": {},
   "outputs": [],
   "source": [
    "blood_gases_simv_no_vg = {case: blood_gases[case] for case in blood_gases.keys()\n",
    "                       if case in cases_simv_no_vg }\n",
    "len(blood_gases_simv_no_vg)"
   ]
  },
  {
   "cell_type": "code",
   "execution_count": null,
   "metadata": {
    "scrolled": false
   },
   "outputs": [],
   "source": [
    "CO2_before = {}\n",
    "CO2_after = {}\n",
    "for case in blood_gases_simv_vg:\n",
    "    if len(blood_gases_simv_vg[case].index) > 1:\n",
    "        CO2_before[case] = float(blood_gases_simv_vg[case].iloc[0]['pCO2'])\n",
    "        CO2_after[case] = float(blood_gases_simv_vg[case].iloc[-1]['pCO2'])\n",
    "    \n",
    "CO2_simv_vg = DataFrame([CO2_before, CO2_after]).T\n",
    "CO2_simv_vg.columns = ['before', 'after']\n",
    "CO2_simv_vg.dropna(how = 'any', inplace = True)\n",
    "CO2_simv_vg['diff'] = CO2_simv_vg['before'] - CO2_simv_vg['after']"
   ]
  },
  {
   "cell_type": "code",
   "execution_count": null,
   "metadata": {
    "scrolled": true
   },
   "outputs": [],
   "source": [
    "CO2_simv_vg.info()"
   ]
  },
  {
   "cell_type": "code",
   "execution_count": null,
   "metadata": {},
   "outputs": [],
   "source": [
    "CO2_simv_vg.head()"
   ]
  },
  {
   "cell_type": "code",
   "execution_count": null,
   "metadata": {
    "scrolled": false
   },
   "outputs": [],
   "source": [
    "CO2_before = {}\n",
    "CO2_after = {}\n",
    "for case in blood_gases_simv_no_vg:\n",
    "    if len(blood_gases_simv_no_vg[case].index) > 1:\n",
    "        CO2_before[case] = float(blood_gases_simv_no_vg[case].iloc[0]['pCO2'])\n",
    "        CO2_after[case] = float(blood_gases_simv_no_vg[case].iloc[-1]['pCO2'])\n",
    "    \n",
    "CO2_simv_no_vg = DataFrame([CO2_before, CO2_after]).T\n",
    "CO2_simv_no_vg.columns = ['before', 'after']\n",
    "CO2_simv_no_vg.dropna(how = 'any', inplace = True)\n",
    "CO2_simv_no_vg['diff'] = CO2_simv_no_vg['before'] - CO2_simv_no_vg['after']"
   ]
  },
  {
   "cell_type": "code",
   "execution_count": null,
   "metadata": {},
   "outputs": [],
   "source": [
    "CO2_simv_no_vg.info()"
   ]
  },
  {
   "cell_type": "code",
   "execution_count": null,
   "metadata": {},
   "outputs": [],
   "source": [
    "CO2_simv_no_vg.head()"
   ]
  },
  {
   "cell_type": "code",
   "execution_count": null,
   "metadata": {},
   "outputs": [],
   "source": [
    "CO2_simv_vg['after'].describe()"
   ]
  },
  {
   "cell_type": "code",
   "execution_count": null,
   "metadata": {},
   "outputs": [],
   "source": [
    "CO2_simv_no_vg['after'].describe()"
   ]
  },
  {
   "cell_type": "code",
   "execution_count": null,
   "metadata": {},
   "outputs": [],
   "source": [
    "# Arrival blood gases with < 35 mmHg (5 kPa)\n",
    "CO2_simv_vg['after'][CO2_simv_vg['after'] < 37.5] "
   ]
  },
  {
   "cell_type": "code",
   "execution_count": null,
   "metadata": {},
   "outputs": [],
   "source": [
    "# Arrival blood gases with < 35 mmHg (5 kPa)\n",
    "CO2_simv_no_vg['after'][CO2_simv_no_vg['after'] < 37.5] "
   ]
  },
  {
   "cell_type": "code",
   "execution_count": null,
   "metadata": {},
   "outputs": [],
   "source": [
    "# Arrival blood gases with < 35 mmHg (4 kPa)\n",
    "CO2_simv_vg['after'][CO2_simv_vg['after'] < 30] "
   ]
  },
  {
   "cell_type": "code",
   "execution_count": null,
   "metadata": {},
   "outputs": [],
   "source": [
    "# Arrival blood gases with < 35 mmHg (4 kPa)\n",
    "CO2_simv_no_vg['after'][CO2_simv_no_vg['after'] < 30] "
   ]
  },
  {
   "cell_type": "code",
   "execution_count": null,
   "metadata": {},
   "outputs": [],
   "source": [
    "CO2_simv_vg['diff'].describe()"
   ]
  },
  {
   "cell_type": "code",
   "execution_count": null,
   "metadata": {},
   "outputs": [],
   "source": [
    "CO2_simv_no_vg['diff'].describe()"
   ]
  },
  {
   "cell_type": "code",
   "execution_count": null,
   "metadata": {},
   "outputs": [],
   "source": [
    "blood_gases['AL000038']"
   ]
  },
  {
   "cell_type": "code",
   "execution_count": null,
   "metadata": {},
   "outputs": [],
   "source": [
    "blood_gases['AL000120']"
   ]
  },
  {
   "cell_type": "code",
   "execution_count": null,
   "metadata": {},
   "outputs": [],
   "source": [
    "for rec in VT_below_4_VG.index:\n",
    "    print(rec, blood_gases[rec].iloc[-1]['pCO2'])"
   ]
  },
  {
   "cell_type": "code",
   "execution_count": null,
   "metadata": {},
   "outputs": [],
   "source": [
    "for rec in VT_below_4_no_VG.index:\n",
    "    print(rec, blood_gases[rec].iloc[-1]['pCO2'])"
   ]
  },
  {
   "cell_type": "code",
   "execution_count": null,
   "metadata": {},
   "outputs": [],
   "source": [
    "for rec in VT_over_6_VG.index:\n",
    "    print(rec, blood_gases[rec].iloc[-1]['pCO2'])"
   ]
  },
  {
   "cell_type": "code",
   "execution_count": null,
   "metadata": {},
   "outputs": [],
   "source": [
    "for rec in VT_over_6_no_VG.index:\n",
    "    try:\n",
    "        print(rec, blood_gases[rec].iloc[-1]['pCO2'])\n",
    "    except KeyError:\n",
    "        print(rec, 'no blood gas')"
   ]
  },
  {
   "cell_type": "code",
   "execution_count": null,
   "metadata": {},
   "outputs": [],
   "source": [
    "for rec in VT_over_8_no_VG.index:\n",
    "    try:\n",
    "        print(rec, blood_gases[rec].iloc[-1]['pCO2'])\n",
    "    except KeyError:\n",
    "        print(rec, 'no blood gas')"
   ]
  },
  {
   "cell_type": "code",
   "execution_count": null,
   "metadata": {},
   "outputs": [],
   "source": [
    "stats.ttest_ind(CO2_simv_vg['after'], CO2_simv_no_vg['after'])"
   ]
  },
  {
   "cell_type": "markdown",
   "metadata": {},
   "source": [
    "## Tables and Figure for the paper"
   ]
  },
  {
   "cell_type": "markdown",
   "metadata": {},
   "source": [
    "### Table 1"
   ]
  },
  {
   "cell_type": "code",
   "execution_count": null,
   "metadata": {},
   "outputs": [],
   "source": [
    "clin_df_stats_VG_no_VG"
   ]
  },
  {
   "cell_type": "code",
   "execution_count": null,
   "metadata": {},
   "outputs": [],
   "source": [
    "writer = pd.ExcelWriter('%s/%s' % (DIR_WRITE, 'Table_1.xlsx'))\n",
    "clin_df_stats_VG_no_VG.to_excel(writer, 'clinical_details')\n",
    "writer.save()"
   ]
  },
  {
   "cell_type": "markdown",
   "metadata": {},
   "source": [
    "### Supplementary Table 1"
   ]
  },
  {
   "cell_type": "code",
   "execution_count": null,
   "metadata": {
    "scrolled": true
   },
   "outputs": [],
   "source": [
    "stats_pars_all_vg_frame_2.head()"
   ]
  },
  {
   "cell_type": "code",
   "execution_count": null,
   "metadata": {},
   "outputs": [],
   "source": [
    "column_order = ['FiO2_set', 'PIP_set', 'PIP', 'MAP',  'PEEP_set', 'PEEP', 'VG_set_kg',\n",
    "                'VTemand_kg', 'VTemand_resp_kg', 'VTespon_pat_kg', 'VTimand_kg', \n",
    "                 'RR_set',  'Ti_set', 'MV_kg', 'MVresp', 'Leak',] \n",
    "    \n",
    "\n",
    "Supplementary_Table_1 = stats_pars_all_vg_frame_2[column_order]"
   ]
  },
  {
   "cell_type": "code",
   "execution_count": null,
   "metadata": {},
   "outputs": [],
   "source": [
    "Supplementary_Table_1.head()"
   ]
  },
  {
   "cell_type": "code",
   "execution_count": null,
   "metadata": {},
   "outputs": [],
   "source": [
    "writer = pd.ExcelWriter('%s/%s' % (DIR_WRITE, 'Supplementary_Table_1.xlsx'))\n",
    "Supplementary_Table_1.to_excel(writer, 'stats_VG')\n",
    "writer.save()"
   ]
  },
  {
   "cell_type": "markdown",
   "metadata": {},
   "source": [
    "### Supplementary_Table_2"
   ]
  },
  {
   "cell_type": "code",
   "execution_count": null,
   "metadata": {
    "scrolled": true
   },
   "outputs": [],
   "source": [
    "stats_pars_all_no_vg_frame_2.head()"
   ]
  },
  {
   "cell_type": "code",
   "execution_count": null,
   "metadata": {},
   "outputs": [],
   "source": [
    "column_order = ['FiO2_set', 'PIP_set', 'PIP', 'MAP',  'PEEP_set', 'PEEP', \n",
    "                'VTemand_kg', 'VTemand_resp_kg', 'VTespon_pat_kg', 'VTimand_kg', \n",
    "                 'RR_set',  'Ti_set', 'MV_kg', 'MVresp', 'Leak',] \n",
    "    \n",
    "\n",
    "Supplementary_Table_2 = stats_pars_all_no_vg_frame_2[column_order]"
   ]
  },
  {
   "cell_type": "code",
   "execution_count": null,
   "metadata": {},
   "outputs": [],
   "source": [
    "Supplementary_Table_2.head()"
   ]
  },
  {
   "cell_type": "code",
   "execution_count": null,
   "metadata": {},
   "outputs": [],
   "source": [
    "writer = pd.ExcelWriter('%s/%s' % (DIR_WRITE, 'Supplementary_Table_2.xlsx'))\n",
    "Supplementary_Table_2.to_excel(writer, 'stats_no_VG')\n",
    "writer.save()"
   ]
  },
  {
   "cell_type": "markdown",
   "metadata": {},
   "source": [
    "### Table 2"
   ]
  },
  {
   "cell_type": "code",
   "execution_count": null,
   "metadata": {
    "scrolled": false
   },
   "outputs": [],
   "source": [
    "VG_stats_mean.sort_values('corrected p')"
   ]
  },
  {
   "cell_type": "code",
   "execution_count": null,
   "metadata": {},
   "outputs": [],
   "source": [
    "writer = pd.ExcelWriter('%s/%s' % (DIR_WRITE, 'Table_2.xlsx'))\n",
    "VG_stats_mean.sort_values('corrected p').to_excel(writer, 'VG_stats_mean')\n",
    "writer.save()"
   ]
  },
  {
   "cell_type": "markdown",
   "metadata": {},
   "source": [
    "### Table 3"
   ]
  },
  {
   "cell_type": "code",
   "execution_count": null,
   "metadata": {
    "scrolled": false
   },
   "outputs": [],
   "source": [
    "VG_stats_sd.sort_values('corrected p')"
   ]
  },
  {
   "cell_type": "code",
   "execution_count": null,
   "metadata": {},
   "outputs": [],
   "source": [
    "writer = pd.ExcelWriter('%s/%s' % (DIR_WRITE, 'Table_3.xlsx'))\n",
    "VG_stats_sd.sort_values('corrected p').to_excel(writer, 'VG_stats_sd')\n",
    "writer.save()"
   ]
  },
  {
   "cell_type": "markdown",
   "metadata": {},
   "source": [
    "### Figure 2"
   ]
  },
  {
   "cell_type": "markdown",
   "metadata": {},
   "source": [
    "#### Figure 2A"
   ]
  },
  {
   "cell_type": "code",
   "execution_count": null,
   "metadata": {},
   "outputs": [],
   "source": [
    "fig, ax = plt.subplots(figsize = (3, 4))\n",
    "dpi = 300\n",
    "filetype = 'jpg'\n",
    "xticklabels = ['VG', 'no VG']\n",
    "\n",
    "# Define styling for each boxplot component\n",
    "medianprops = {'color': 'black', 'linewidth': 2}\n",
    "boxprops = {'color': 'black', 'linestyle': '-'}\n",
    "whiskerprops = {'color': 'black', 'linestyle': '-'}\n",
    "capprops = {'color': 'black', 'linestyle': '-'}\n",
    "flierprops = {'color': 'black', 'marker': '.'}\n",
    "meanprops = {'marker':'D', 'markeredgecolor':'black', 'markerfacecolor':'black'}\n",
    "\n",
    "plt.boxplot([VTemand_resp_all_VG.dropna(), VTemand_resp_all_no_VG.dropna()], widths = 0.5, \n",
    "        whis = [5, 95], showfliers = False, showmeans = True, medianprops=medianprops, boxprops=boxprops, \n",
    "        whiskerprops=whiskerprops, capprops=capprops, flierprops = flierprops, meanprops = meanprops)\n",
    "\n",
    "ax.set_xticklabels(xticklabels)\n",
    "ax.set_ylim(0, 12)\n",
    "ax.set_xlabel('Ventilation', size = 14)\n",
    "ax.set_ylabel('VTe (mL/kg)', size = 14)\n",
    "ax.tick_params(axis='both', which='major', labelsize=14)\n",
    "\n",
    "fig.savefig('%s/%s.%s' % (DIR_WRITE, 'Figure_2A', filetype),\n",
    "    dpi = dpi, facecolor='w', edgecolor='w', orientation='portrait', papertype=None, format = filetype,\n",
    "    transparent=False, bbox_inches='tight', pad_inches=0.1, frameon=True);"
   ]
  },
  {
   "cell_type": "markdown",
   "metadata": {},
   "source": [
    "#### Figure 2B"
   ]
  },
  {
   "cell_type": "code",
   "execution_count": null,
   "metadata": {},
   "outputs": [],
   "source": [
    "fig, ax = plt.subplots(figsize = (3, 4))\n",
    "dpi = 300\n",
    "filetype = 'jpg'\n",
    "xticklabels = ['VG', 'no VG']\n",
    "\n",
    "# Define styling for each boxplot component\n",
    "medianprops = {'color': 'black', 'linewidth': 2}\n",
    "boxprops = {'color': 'black', 'linestyle': '-'}\n",
    "whiskerprops = {'color': 'black', 'linestyle': '-'}\n",
    "capprops = {'color': 'black', 'linestyle': '-'}\n",
    "flierprops = {'color': 'black', 'marker': '.'}\n",
    "meanprops = {'marker':'D', 'markeredgecolor':'black', 'markerfacecolor':'black'}\n",
    "\n",
    "plt.boxplot([above_range_VG['above_6_pc'], above_range_no_VG['above_6_pc']], widths = 0.5, \n",
    "        whis = [5, 95], showfliers = True,showmeans = True, medianprops=medianprops, boxprops=boxprops, \n",
    "        whiskerprops=whiskerprops, capprops=capprops, flierprops = flierprops, meanprops = meanprops)\n",
    "\n",
    "ax.set_xticklabels(xticklabels)\n",
    "ax.set_ylim(-5, 110)\n",
    "ax.set_xlabel('Ventilation', size = 14)\n",
    "ax.set_ylabel('VTe > 6 mL/kg (%)', size = 14)\n",
    "ax.tick_params(axis='both', which='major', labelsize=14)\n",
    "\n",
    "fig.savefig('%s/%s.%s' % (DIR_WRITE, 'Figure_2B', filetype),\n",
    "    dpi = dpi, facecolor='w', edgecolor='w', orientation='portrait', papertype=None, format = filetype,\n",
    "    transparent=False, bbox_inches='tight', pad_inches=0.1, frameon=True);"
   ]
  },
  {
   "cell_type": "markdown",
   "metadata": {},
   "source": [
    "#### Figure 2C"
   ]
  },
  {
   "cell_type": "code",
   "execution_count": null,
   "metadata": {},
   "outputs": [],
   "source": [
    "fig, ax = plt.subplots(figsize = (3, 4))\n",
    "dpi = 300\n",
    "filetype = 'jpg'\n",
    "xticklabels = ['VG', 'no VG']\n",
    "\n",
    "# Define styling for each boxplot component\n",
    "medianprops = {'color': 'black', 'linewidth': 2}\n",
    "boxprops = {'color': 'black', 'linestyle': '-'}\n",
    "whiskerprops = {'color': 'black', 'linestyle': '-'}\n",
    "capprops = {'color': 'black', 'linestyle': '-'}\n",
    "flierprops = {'color': 'black', 'marker': '.'}\n",
    "meanprops = {'marker':'D', 'markeredgecolor':'black', 'markerfacecolor':'black'}\n",
    "\n",
    "plt.boxplot([above_range_VG['above_8_pc'], above_range_no_VG['above_8_pc']], widths = 0.5, \n",
    "        whis = [5, 95], showfliers = True,showmeans = True, medianprops=medianprops, boxprops=boxprops, \n",
    "        whiskerprops=whiskerprops, capprops=capprops, flierprops = flierprops, meanprops = meanprops)\n",
    "\n",
    "ax.set_xticklabels(xticklabels)\n",
    "ax.set_ylim(-5, 110)\n",
    "ax.set_xlabel('Ventilation', size = 14)\n",
    "ax.set_ylabel('VTe > 8 mL/kg (%)', size = 14)\n",
    "ax.tick_params(axis='both', which='major', labelsize=14)\n",
    "\n",
    "fig.savefig('%s/%s.%s' % (DIR_WRITE, 'Figure_2C', filetype),\n",
    "    dpi = dpi, facecolor='w', edgecolor='w', orientation='portrait', papertype=None, format = filetype,\n",
    "    transparent=False, bbox_inches='tight', pad_inches=0.1, frameon=True);"
   ]
  },
  {
   "cell_type": "markdown",
   "metadata": {},
   "source": [
    "#### Figure 2 combined"
   ]
  },
  {
   "cell_type": "code",
   "execution_count": null,
   "metadata": {},
   "outputs": [],
   "source": [
    "dpi = 300\n",
    "filetype = 'jpg'\n",
    "xticklabels = ['VG', 'no VG']\n",
    "\n",
    "fig, ax = plt.subplots(1,3, figsize = (12, 4))\n",
    "fig.subplots_adjust(left=None, bottom=None, right=None, top=None, hspace=0, wspace=0.5)\n",
    "\n",
    "# Define styling for each boxplot component\n",
    "medianprops = {'color': 'black', 'linewidth': 2}\n",
    "boxprops = {'color': 'black', 'linestyle': '-'}\n",
    "whiskerprops = {'color': 'black', 'linestyle': '-'}\n",
    "capprops = {'color': 'black', 'linestyle': '-'}\n",
    "flierprops = {'color': 'black', 'marker': '.'}\n",
    "meanprops = {'marker':'D', 'markeredgecolor':'black', 'markerfacecolor':'black'}\n",
    "\n",
    "# Figure 2A\n",
    "ax[0].boxplot([VTemand_resp_all_VG.dropna(), VTemand_resp_all_no_VG.dropna()], widths = 0.5, \n",
    "    whis = [5, 95], showfliers = False, showmeans = True, medianprops=medianprops, boxprops=boxprops, \n",
    "    whiskerprops=whiskerprops, capprops=capprops, flierprops = flierprops, meanprops = meanprops)\n",
    "\n",
    "ax[0].set_xticklabels(xticklabels)\n",
    "ax[0].set_ylim(0, 14)\n",
    "ax[0].set_xlabel('Ventilation', size = 14)\n",
    "ax[0].set_ylabel('VTemand (mL/kg)', size = 14)\n",
    "ax[0].tick_params(axis='both', which='major', labelsize=14)\n",
    "# ax[0].grid(True)\n",
    "\n",
    "# Figure 2B\n",
    "ax[1].boxplot([above_range_VG['above_6_pc'], above_range_no_VG['above_6_pc']], widths = 0.5, \n",
    "        whis = [5, 95], showfliers = True, showmeans = True, medianprops=medianprops, boxprops=boxprops, \n",
    "        whiskerprops=whiskerprops, capprops=capprops, flierprops = flierprops, meanprops = meanprops)\n",
    "\n",
    "ax[1].set_xticklabels(xticklabels)\n",
    "ax[1].set_ylim(-5, 140)\n",
    "ax[1].set_xlabel('Ventilation', size = 14)\n",
    "ax[1].set_ylabel('VTemand > 6 mL/kg (%)', size = 14)\n",
    "ax[1].tick_params(axis='both', which='major', labelsize=14)\n",
    "# ax[1].grid(True)\n",
    "\n",
    "# Figure 2C\n",
    "ax[2].boxplot([above_range_VG['above_8_pc'], above_range_no_VG['above_8_pc']], widths = 0.5, \n",
    "        whis = [5, 95], showfliers = True,showmeans = True, medianprops=medianprops, boxprops=boxprops, \n",
    "        whiskerprops=whiskerprops, capprops=capprops, flierprops = flierprops, meanprops = meanprops)\n",
    "\n",
    "ax[2].set_xticklabels(xticklabels)\n",
    "ax[2].set_ylim(-5, 140)\n",
    "ax[2].set_xlabel('Ventilation', size = 14)\n",
    "ax[2].set_ylabel('VTemand > 8 mL/kg (%)', size = 14)\n",
    "ax[2].tick_params(axis='both', which='major', labelsize=14)\n",
    "# ax[2].grid(True)\n",
    "\n",
    "fig.text(0.06, 0.96, 'A', fontsize = 14); fig.text(0.34, 0.96, 'B', fontsize = 14)\n",
    "fig.text(0.64, 0.96, 'C', fontsize = 14)\n",
    "\n",
    "fig.text(0.14, 0.57, 'n=106,765', fontsize = 12); fig.text(0.24, 0.75, 'n=56,032', fontsize = 12)\n",
    "fig.text(0.44, 0.72, 'n=45', fontsize = 12); fig.text(0.54, 0.72, 'n=32', fontsize = 12)\n",
    "fig.text(0.73, 0.42, 'n=45', fontsize = 12); fig.text(0.83, 0.72, 'n=32', fontsize = 12)\n",
    "\n",
    "\n",
    "fig.text(0.48, 0.83, 'p<0.0001', fontsize = 12); fig.text(0.76, 0.83, 'p<0.0001', fontsize = 12)\n",
    "\n",
    "fig.savefig('%s/%s.%s' % (DIR_WRITE, 'Figure_2', filetype),\n",
    "    dpi = dpi, facecolor='w', edgecolor='w', orientation='portrait', papertype=None, format = filetype,\n",
    "    transparent=False, bbox_inches='tight', pad_inches=0.1, frameon=True);"
   ]
  },
  {
   "cell_type": "code",
   "execution_count": null,
   "metadata": {},
   "outputs": [],
   "source": [
    "dpi = 400\n",
    "filetype = 'tiff'\n",
    "xticklabels = ['VG', 'no VG']\n",
    "\n",
    "fig, ax = plt.subplots(1,3, figsize = (12, 4))\n",
    "fig.subplots_adjust(left=None, bottom=None, right=None, top=None, hspace=0, wspace=0.5)\n",
    "\n",
    "# Define styling for each boxplot component\n",
    "medianprops = {'color': 'black', 'linewidth': 2}\n",
    "boxprops = {'color': 'black', 'linestyle': '-'}\n",
    "whiskerprops = {'color': 'black', 'linestyle': '-'}\n",
    "capprops = {'color': 'black', 'linestyle': '-'}\n",
    "flierprops = {'color': 'black', 'marker': '.'}\n",
    "meanprops = {'marker':'D', 'markeredgecolor':'black', 'markerfacecolor':'black'}\n",
    "\n",
    "# Figure 2A\n",
    "ax[0].boxplot([VTemand_resp_all_VG.dropna(), VTemand_resp_all_no_VG.dropna()], widths = 0.5, \n",
    "    whis = [5, 95], showfliers = False, showmeans = True, medianprops=medianprops, boxprops=boxprops, \n",
    "    whiskerprops=whiskerprops, capprops=capprops, flierprops = flierprops, meanprops = meanprops)\n",
    "\n",
    "ax[0].set_xticklabels(xticklabels)\n",
    "ax[0].set_ylim(0, 14)\n",
    "ax[0].set_xlabel('Ventilation', size = 14)\n",
    "ax[0].set_ylabel('VTemand (mL/kg)', size = 14)\n",
    "ax[0].tick_params(axis='both', which='major', labelsize=14)\n",
    "# ax[0].grid(True)\n",
    "\n",
    "# Figure 2B\n",
    "ax[1].boxplot([above_range_VG['above_6_pc'], above_range_no_VG['above_6_pc']], widths = 0.5, \n",
    "        whis = [5, 95], showfliers = True, showmeans = True, medianprops=medianprops, boxprops=boxprops, \n",
    "        whiskerprops=whiskerprops, capprops=capprops, flierprops = flierprops, meanprops = meanprops)\n",
    "\n",
    "ax[1].set_xticklabels(xticklabels)\n",
    "ax[1].set_ylim(-5, 140)\n",
    "ax[1].set_xlabel('Ventilation', size = 14)\n",
    "ax[1].set_ylabel('VTemand > 6 mL/kg (%)', size = 14)\n",
    "ax[1].tick_params(axis='both', which='major', labelsize=14)\n",
    "# ax[1].grid(True)\n",
    "\n",
    "# Figure 2C\n",
    "ax[2].boxplot([above_range_VG['above_8_pc'], above_range_no_VG['above_8_pc']], widths = 0.5, \n",
    "        whis = [5, 95], showfliers = True,showmeans = True, medianprops=medianprops, boxprops=boxprops, \n",
    "        whiskerprops=whiskerprops, capprops=capprops, flierprops = flierprops, meanprops = meanprops)\n",
    "\n",
    "ax[2].set_xticklabels(xticklabels)\n",
    "ax[2].set_ylim(-5, 140)\n",
    "ax[2].set_xlabel('Ventilation', size = 14)\n",
    "ax[2].set_ylabel('VTemand > 8 mL/kg (%)', size = 14)\n",
    "ax[2].tick_params(axis='both', which='major', labelsize=14)\n",
    "# ax[2].grid(True)\n",
    "\n",
    "fig.text(0.06, 0.96, 'A', fontsize = 14); fig.text(0.34, 0.96, 'B', fontsize = 14)\n",
    "fig.text(0.64, 0.96, 'C', fontsize = 14)\n",
    "\n",
    "fig.text(0.14, 0.57, 'n=106,765', fontsize = 12); fig.text(0.24, 0.75, 'n=56,032', fontsize = 12)\n",
    "fig.text(0.44, 0.72, 'n=45', fontsize = 12); fig.text(0.54, 0.72, 'n=32', fontsize = 12)\n",
    "fig.text(0.73, 0.42, 'n=45', fontsize = 12); fig.text(0.83, 0.72, 'n=32', fontsize = 12)\n",
    "\n",
    "\n",
    "fig.text(0.48, 0.83, 'p<0.0001', fontsize = 12); fig.text(0.76, 0.83, 'p<0.0001', fontsize = 12)\n",
    "\n",
    "fig.savefig('%s/%s.%s' % (DIR_WRITE, 'Figure_2', filetype),\n",
    "    dpi = dpi, facecolor='w', edgecolor='w', orientation='portrait', papertype=None, format = filetype,\n",
    "    transparent=False, bbox_inches='tight', pad_inches=0.1, frameon=True);"
   ]
  },
  {
   "cell_type": "markdown",
   "metadata": {},
   "source": [
    "### Supplementary Figure 1"
   ]
  },
  {
   "cell_type": "markdown",
   "metadata": {},
   "source": [
    "#### Supplementary Figure 1A"
   ]
  },
  {
   "cell_type": "code",
   "execution_count": null,
   "metadata": {},
   "outputs": [],
   "source": [
    "pars = ['VTemand_resp_kg']\n",
    "name = 'VTemand'\n",
    "dim = 'mL/kg'; filetype = 'jpg'; dpi = 200\n",
    "\n",
    "for case in ['AL000126']:\n",
    "\n",
    "    fig = plt.figure()\n",
    "    fig.set_size_inches(8, 4)\n",
    "    fig.subplots_adjust(left=None, bottom=None, right=None, top=None, \n",
    "                            wspace=None, hspace=0.1)\n",
    "    ax0 = fig.add_subplot(1, 1, 1)\n",
    "    data_pars_measurements_no_vg[case][pars[0]].plot()\n",
    "\n",
    "    ax0.set_xlabel('Time', size = 14, color = 'black')\n",
    "    ax0.set_ylabel(dim, size = 14, color = 'black')\n",
    "    ax0.set_title('',  size = 14, color = 'black')\n",
    "    ax0.legend(['VTe'], fontsize = 12)\n",
    "    ax0.grid('on', linestyle='-', linewidth=0.5, color = 'gray')\n",
    "    xticks = pd.date_range(start=data_pars_measurements_no_vg[case].index.min(), \n",
    "                       end=data_pars_measurements_no_vg[case].index.max(), freq='15min')\n",
    "    ax0.tick_params(which = 'both', labelsize=14)\n",
    "            \n",
    "    fig.savefig('%s/%s.%s' % (DIR_WRITE, 'Supplementary_Figure_1A', filetype), dpi = dpi, \n",
    "        facecolor='w', edgecolor='w', orientation='portrait', \n",
    "        papertype=None, format = filetype, transparent=False, bbox_inches='tight',\n",
    "        pad_inches=0.1, frameon=True);"
   ]
  },
  {
   "cell_type": "markdown",
   "metadata": {},
   "source": [
    "#### FigureSupplementary Figure 1B"
   ]
  },
  {
   "cell_type": "code",
   "execution_count": null,
   "metadata": {},
   "outputs": [],
   "source": [
    "pars = ['PIP', 'PIP_set', ]\n",
    "pars_2 = ['PIP', 'PIP set']\n",
    "\n",
    "dim = 'cmH$_2$O'; filetype = 'jpg'; dpi = 200\n",
    "\n",
    "for case in ['AL000126']:\n",
    "    \n",
    "    fig = plt.figure()\n",
    "    fig.set_size_inches(8, 3)\n",
    "    fig.subplots_adjust(left=None, bottom=None, right=None, top=None, \n",
    "                            wspace=None, hspace=0.1)\n",
    "    ax0 = fig.add_subplot(1, 1, 1)\n",
    "    data_pars_measurements_no_vg[case][pars[0]].plot(color = 'red')\n",
    "    data_pars_settings_no_vg[case][pars[1]].plot(color = 'black', linewidth = 2)\n",
    "    \n",
    "    ax0.set_xlabel('Time', size = 14, color = 'black')\n",
    "    ax0.set_ylabel(dim, size = 14, color = 'black')\n",
    "    ax0.set_ylim(0, 30)\n",
    "    ax0.set_title('',  size = 14, color = 'black')\n",
    "    ax0.legend(pars, fontsize = 12)\n",
    "    ax0.grid('on', linestyle='-', linewidth=0.5, color = 'gray')\n",
    "    xticks = pd.date_range(start=data_pars_measurements_no_vg[case].index.min(), \n",
    "                       end=data_pars_measurements_no_vg[case].index.max(), freq='15min')\n",
    "    ax0.tick_params(which = 'both', labelsize=14)\n",
    "            \n",
    "    fig.savefig('%s/%s.%s' % (DIR_WRITE, 'Supplementary_Figure_1B', filetype), dpi = dpi, \n",
    "        facecolor='w', edgecolor='w', orientation='portrait', \n",
    "        papertype=None, format = filetype, transparent=False, bbox_inches='tight',\n",
    "        pad_inches=0.1, frameon=True);"
   ]
  },
  {
   "cell_type": "markdown",
   "metadata": {},
   "source": [
    "#### Supplementary Figure 1 combined"
   ]
  },
  {
   "cell_type": "code",
   "execution_count": null,
   "metadata": {},
   "outputs": [],
   "source": [
    "dpi = 300\n",
    "filetype = 'jpg'\n",
    "\n",
    "fig, ax = plt.subplots(2, 1, figsize = [8,8])\n",
    "fig.subplots_adjust(left=None, bottom=None, right=None, top=None,  wspace=None, hspace=0.1)\n",
    "\n",
    "# Supplementary Figure 1A\n",
    "data_pars_measurements_no_vg['AL000126']['VTemand_resp_kg'].plot(ax = ax[0],)\n",
    "ax[0].get_xaxis().set_visible(False)\n",
    "#plt.xaxis('off')\n",
    "\n",
    "ax[0].set_ylabel('(mL/kg)', size = 14, color = 'black')\n",
    "ax[0].set_title('',  size = 14, color = 'black')\n",
    "ax[0].legend(['VTemand'], fontsize = 14, loc = 4)\n",
    "ax[0].grid(True, linestyle='-', linewidth=0.5, color = 'gray')\n",
    "ax[0].tick_params(which = 'both', labelsize=14)\n",
    "\n",
    "# Supplementary Figure 1B\n",
    "data_pars_measurements_no_vg['AL000126']['PIP'].plot(ax = ax[1], color = 'red',)\n",
    "data_pars_settings_no_vg['AL000126']['PIP_set'].plot(ax = ax[1], color = 'black', linewidth = 2)\n",
    "ax[1].set_xlabel('Time', size = 14, color = 'black')\n",
    "ax[1].set_ylabel('cmH$_2$O', size = 14, color = 'black')\n",
    "ax[1].set_ylim(0, 30)\n",
    "ax[1].set_title('',  size = 14, color = 'black')\n",
    "ax[1].legend(['PIP', 'PIPset'], fontsize = 14)\n",
    "ax[1].grid(True, linestyle='-', linewidth=0.5, color = 'gray')\n",
    "ax[1].tick_params(which = 'both', labelsize=14)\n",
    "            \n",
    "fig.savefig('%s/%s.%s' % (DIR_WRITE, 'Supplementary_Figure_1', filetype), dpi = dpi, \n",
    "        facecolor='w', edgecolor='w', orientation='portrait', \n",
    "        papertype=None, format = filetype, transparent=False, bbox_inches='tight',\n",
    "        pad_inches=0.1, frameon=True);"
   ]
  },
  {
   "cell_type": "code",
   "execution_count": null,
   "metadata": {},
   "outputs": [],
   "source": [
    "dpi = 400\n",
    "filetype = 'tiff'\n",
    "\n",
    "fig, ax = plt.subplots(2, 1, figsize = [6,6])\n",
    "fig.subplots_adjust(left=None, bottom=None, right=None, top=None,  wspace=None, hspace=0.1)\n",
    "\n",
    "# Supplementary Figure 1A\n",
    "data_pars_measurements_no_vg['AL000126']['VTemand_resp_kg'].plot(ax = ax[0],)\n",
    "ax[0].get_xaxis().set_visible(False)\n",
    "#plt.xaxis('off')\n",
    "\n",
    "ax[0].set_ylabel('(mL/kg)', size = 14, color = 'black')\n",
    "ax[0].set_title('',  size = 14, color = 'black')\n",
    "ax[0].legend(['VTemand'], fontsize = 14, loc = 4)\n",
    "ax[0].grid(True, linestyle='-', linewidth=0.5, color = 'gray')\n",
    "ax[0].tick_params(which = 'both', labelsize=14)\n",
    "\n",
    "# Supplementary Figure 1B\n",
    "data_pars_measurements_no_vg['AL000126']['PIP'].plot(ax = ax[1], color = 'red',)\n",
    "data_pars_settings_no_vg['AL000126']['PIP_set'].plot(ax = ax[1], color = 'black', linewidth = 2)\n",
    "ax[1].set_xlabel('Time', size = 14, color = 'black')\n",
    "ax[1].set_ylabel('cmH$_2$O', size = 14, color = 'black')\n",
    "ax[1].set_ylim(0, 30)\n",
    "ax[1].set_title('',  size = 14, color = 'black')\n",
    "ax[1].legend(['PIP', 'PIPset'], fontsize = 14)\n",
    "ax[1].grid(True, linestyle='-', linewidth=0.5, color = 'gray')\n",
    "ax[1].tick_params(which = 'both', labelsize=14)\n",
    "            \n",
    "fig.savefig('%s/%s.%s' % (DIR_WRITE, 'Supplementary_Figure_1', filetype), dpi = dpi, \n",
    "        facecolor='w', edgecolor='w', orientation='portrait', \n",
    "        papertype=None, format = filetype, transparent=False, bbox_inches='tight',\n",
    "        pad_inches=0.1, frameon=True);"
   ]
  }
 ],
 "metadata": {
  "anaconda-cloud": {},
  "kernelspec": {
   "display_name": "Python 3",
   "language": "python",
   "name": "python3"
  },
  "language_info": {
   "codemirror_mode": {
    "name": "ipython",
    "version": 3
   },
   "file_extension": ".py",
   "mimetype": "text/x-python",
   "name": "python",
   "nbconvert_exporter": "python",
   "pygments_lexer": "ipython3",
   "version": "3.7.1"
  }
 },
 "nbformat": 4,
 "nbformat_minor": 2
}
