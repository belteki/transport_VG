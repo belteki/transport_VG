{
 "cells": [
  {
   "cell_type": "markdown",
   "metadata": {},
   "source": [
    "![alt text](./Cerny_logo_1.jpg)"
   ]
  },
  {
   "cell_type": "markdown",
   "metadata": {},
   "source": [
    "# Analysis of Cerny ventilation recordings\n",
    "\n",
    "The data processed and analysed in this Notebook were collected by the **Neonatal Emergency and Transport Service of the Peter Cerny Foundation**, Budapest, Hungary\n",
    "\n",
    "**Author: Dr Gusztav Belteki**\n",
    "\n",
    "\n",
    "## Analysis of mechanically ventilated cases\n",
    "\n",
    "Explorative data analysis of **145 ventilated cases** among recordings `AL000001 - AL000300`. \n",
    "\n",
    "- It calculates statistics on clinical details of ventilated cases and exports them as Excel files and as graphs. \n",
    "- It identifies ventilator modes, recordings with multiple ventilation modes and in those, the dominant ventilator mode; exports Excel files and graphs of these. \n",
    "- It calculates descriptive statistics on various ventilator parameters in the individual recordings and writes them to Excel files in different format (grouping).\n",
    "- It produces time series graphs on various ventilator parameters and exports them.\n",
    "\n",
    "Imported: \n",
    "\n",
    "- data_pars_measurements_ventilated_1_300.pickle,  \n",
    "- data_pars_settings_ventilated_1_300.pickle, \n",
    "- data_pars_alarms_ventilated_1_300.pickle, \n",
    "- vent_modes_ventilated_1_300.pickle, \n",
    "- clin_df_pickle_1_300.pickle, \n",
    "- Fabian_parameters.xlsx\n",
    "\n",
    "Exported: \n",
    "\n",
    "- Excel files and graphs about clinical data and ventilator modes \n",
    "- Time series graphs on ventilator parameters \n",
    "- **vent_modes_ventilated_1_300_plus.pickle** (additional data about multiple ventilator modes and dominant modes in in the DataFrame"
   ]
  },
  {
   "cell_type": "markdown",
   "metadata": {},
   "source": [
    "### Importing the necessary libraries and setting options"
   ]
  },
  {
   "cell_type": "code",
   "execution_count": null,
   "metadata": {},
   "outputs": [],
   "source": [
    "import IPython\n",
    "import pandas as pd\n",
    "import numpy as np\n",
    "import scipy as sp\n",
    "import matplotlib\n",
    "import matplotlib.pyplot as plt\n",
    "import matplotlib.dates as dates\n",
    "import seaborn as sns\n",
    "import sklearn as sk\n",
    "\n",
    "import os\n",
    "import sys\n",
    "import re\n",
    "import pickle\n",
    "\n",
    "from scipy import stats\n",
    "from pandas import Series, DataFrame\n",
    "from datetime import datetime, timedelta\n",
    "\n",
    "%matplotlib inline\n",
    "matplotlib.style.use('classic')\n",
    "matplotlib.rcParams['figure.facecolor'] = 'w'\n",
    "\n",
    "pd.set_option('display.max_rows', 100)\n",
    "pd.set_option('display.max_columns', 100)\n",
    "# pd.set_option('mode.chained_assignment', None) "
   ]
  },
  {
   "cell_type": "code",
   "execution_count": null,
   "metadata": {},
   "outputs": [],
   "source": [
    "print(\"Python version: {}\".format(sys.version))\n",
    "print(\"pandas version: {}\".format(pd.__version__))\n",
    "print(\"matplotlib version: {}\".format(matplotlib.__version__))\n",
    "print(\"NumPy version: {}\".format(np.__version__))\n",
    "print(\"SciPy version: {}\".format(sp.__version__))\n",
    "print(\"IPython version: {}\".format(IPython.__version__))\n",
    "print(\"scikit-learn version: {}\".format(sk.__version__))"
   ]
  },
  {
   "cell_type": "markdown",
   "metadata": {},
   "source": [
    "### List and set the working directory and the directory to write out data"
   ]
  },
  {
   "cell_type": "code",
   "execution_count": null,
   "metadata": {},
   "outputs": [],
   "source": [
    "# Topic of the Notebook which will also be the name of the subfolder containing results\n",
    "TOPIC = 'fabian'\n",
    "\n",
    "# Name of the external hard drive\n",
    "DRIVE = 'GUSZTI'\n",
    "\n",
    "# Directory containing clinical and blood gas data\n",
    "CWD = '/Users/guszti/ventilation_fabian'\n",
    "\n",
    "# Directory on external drive to read the ventilation data from\n",
    "DIR_READ = '/Volumes/%s/Fabian/fabian_data' % DRIVE\n",
    "\n",
    "DIR_WRITE = '%s/%s/%s' % (CWD, 'Analyses', 'analysis_ventilated_1_300')\n",
    "if not os.path.isdir(DIR_WRITE):\n",
    "    os.makedirs(DIR_WRITE)\n",
    "\n",
    "# Images and raw data will be written on an external hard drive\n",
    "if not os.path.isdir('/Volumes/%s/data_dump/%s' % (DRIVE, TOPIC)):\n",
    "    os.makedirs('/Volumes/%s/data_dump/%s' % (DRIVE, TOPIC))\n",
    "DATA_DUMP = '/Volumes/%s/data_dump/%s' % (DRIVE, TOPIC)"
   ]
  },
  {
   "cell_type": "code",
   "execution_count": null,
   "metadata": {},
   "outputs": [],
   "source": [
    "os.chdir(CWD)\n",
    "os.getcwd()"
   ]
  },
  {
   "cell_type": "code",
   "execution_count": null,
   "metadata": {},
   "outputs": [],
   "source": [
    "DIR_READ"
   ]
  },
  {
   "cell_type": "code",
   "execution_count": null,
   "metadata": {},
   "outputs": [],
   "source": [
    "DIR_WRITE"
   ]
  },
  {
   "cell_type": "code",
   "execution_count": null,
   "metadata": {},
   "outputs": [],
   "source": [
    "DATA_DUMP"
   ]
  },
  {
   "cell_type": "markdown",
   "metadata": {},
   "source": [
    "### Import ventilator and clinical data from pickle archives"
   ]
  },
  {
   "cell_type": "code",
   "execution_count": null,
   "metadata": {},
   "outputs": [],
   "source": [
    "# Import ventilator parameters, settings and alarms\n",
    "\n",
    "with open('%s/%s.pickle' % (DATA_DUMP, 'data_pars_measurements_ventilated_1_300'), 'rb') as handle:\n",
    "    data_pars_measurements_ventilated = pickle.load(handle)\n",
    "    \n",
    "with open('%s/%s.pickle' % (DATA_DUMP, 'data_pars_settings_ventilated_1_300'), 'rb') as handle:\n",
    "    data_pars_settings_ventilated = pickle.load(handle)\n",
    "    \n",
    "with open('%s/%s.pickle' % (DATA_DUMP, 'data_pars_alarms_ventilated_1_300'), 'rb') as handle:\n",
    "    data_pars_alarms_ventilated = pickle.load(handle)"
   ]
  },
  {
   "cell_type": "code",
   "execution_count": null,
   "metadata": {},
   "outputs": [],
   "source": [
    "# Import DataFrame with ventilation modes\n",
    "\n",
    "with open('%s/%s.pickle' % (DATA_DUMP, 'vent_modes_ventilated_1_300'), 'rb') as handle:\n",
    "    vent_modes_ventilated = pickle.load(handle)"
   ]
  },
  {
   "cell_type": "code",
   "execution_count": null,
   "metadata": {},
   "outputs": [],
   "source": [
    "# Import clinical data\n",
    "\n",
    "with open('%s/%s.pickle' % (DATA_DUMP, 'clin_df_1_300'), 'rb') as handle:\n",
    "    clin_df = pickle.load(handle)"
   ]
  },
  {
   "cell_type": "code",
   "execution_count": null,
   "metadata": {},
   "outputs": [],
   "source": [
    "len(data_pars_measurements_ventilated)"
   ]
  },
  {
   "cell_type": "code",
   "execution_count": null,
   "metadata": {},
   "outputs": [],
   "source": [
    "cases = sorted(data_pars_measurements_ventilated.keys())"
   ]
  },
  {
   "cell_type": "markdown",
   "metadata": {},
   "source": [
    "### Import table for interpreting ventilator parameters"
   ]
  },
  {
   "cell_type": "code",
   "execution_count": null,
   "metadata": {},
   "outputs": [],
   "source": [
    "par_key_table = pd.read_excel('Fabian_parameters.xlsx')\n",
    "par_key_table;"
   ]
  },
  {
   "cell_type": "markdown",
   "metadata": {},
   "source": [
    "## Statistics on clinical details of these cases"
   ]
  },
  {
   "cell_type": "code",
   "execution_count": null,
   "metadata": {},
   "outputs": [],
   "source": [
    "len(clin_df)"
   ]
  },
  {
   "cell_type": "code",
   "execution_count": null,
   "metadata": {},
   "outputs": [],
   "source": [
    "clin_df_ventilation = clin_df.loc[vent_modes_ventilated.index]"
   ]
  },
  {
   "cell_type": "code",
   "execution_count": null,
   "metadata": {},
   "outputs": [],
   "source": [
    "clin_df_ventilation.head(2)"
   ]
  },
  {
   "cell_type": "code",
   "execution_count": null,
   "metadata": {},
   "outputs": [],
   "source": [
    "clin_df_ventilation.info()"
   ]
  },
  {
   "cell_type": "code",
   "execution_count": null,
   "metadata": {},
   "outputs": [],
   "source": [
    "clin_df_ventilation_stats = round(clin_df_ventilation.describe(), 2)\n",
    "clin_df_ventilation_stats"
   ]
  },
  {
   "cell_type": "code",
   "execution_count": null,
   "metadata": {},
   "outputs": [],
   "source": [
    "writer = pd.ExcelWriter('%s/%s' % (DIR_WRITE, 'clinical_data_ventilated_1_300.xlsx'))\n",
    "clin_df_ventilation.to_excel(writer, 'ventilated_cases')\n",
    "clin_df_ventilation_stats.to_excel(writer, 'stats')\n",
    "writer.save()"
   ]
  },
  {
   "cell_type": "code",
   "execution_count": null,
   "metadata": {},
   "outputs": [],
   "source": [
    "fig, ax = plt.subplots(figsize = (6, 4))\n",
    "dpi = 300\n",
    "filetype = 'jpg'\n",
    "xticklabels = ['gestational age', 'corrected gestational age']\n",
    "\n",
    "# Define styling for each boxplot component\n",
    "medianprops = {'color': 'black', 'linewidth': 2}\n",
    "boxprops = {'color': 'black', 'linestyle': '-'}\n",
    "whiskerprops = {'color': 'black', 'linestyle': '-'}\n",
    "capprops = {'color': 'black', 'linestyle': '-'}\n",
    "flierprops = {'color': 'black', 'marker': '.'}\n",
    "\n",
    "plt.boxplot([clin_df_ventilation['Gestational Age (weeks)'] ,\n",
    "             clin_df_ventilation['Corrected gestational Age (weeks)']],\n",
    "        whis = [5, 95], showfliers = True,showmeans = True, medianprops=medianprops, boxprops=boxprops, \n",
    "        whiskerprops=whiskerprops, capprops=capprops, flierprops = flierprops)\n",
    "\n",
    "ax.set_ylabel('weeks', size = 14)\n",
    "ax.tick_params(axis='both', which='major', labelsize=14)\n",
    "ax.set_xticklabels(xticklabels)\n",
    "plt.grid(True)\n",
    "\n",
    "fig.savefig('%s/%s.%s' % (DIR_WRITE, 'ventilated_gest_age_1_300', filetype),\n",
    "    dpi = dpi, facecolor='w', edgecolor='w', orientation='portrait', papertype=None, format = filetype,\n",
    "    transparent=False, bbox_inches='tight', pad_inches=0.1, frameon=True);"
   ]
  },
  {
   "cell_type": "code",
   "execution_count": null,
   "metadata": {},
   "outputs": [],
   "source": [
    "fig, ax = plt.subplots(figsize = (6, 4))\n",
    "dpi = 300\n",
    "filetype = 'jpg'\n",
    "xticklabels = ['birth weight', 'actual weight']\n",
    "\n",
    "# Define styling for each boxplot component\n",
    "medianprops = {'color': 'black', 'linewidth': 2}\n",
    "boxprops = {'color': 'black', 'linestyle': '-'}\n",
    "whiskerprops = {'color': 'black', 'linestyle': '-'}\n",
    "capprops = {'color': 'black', 'linestyle': '-'}\n",
    "flierprops = {'color': 'black', 'marker': '.'}\n",
    "\n",
    "plt.boxplot([clin_df_ventilation['Birth Weight'], clin_df_ventilation['Weight']],\n",
    "        whis = [5, 95], showfliers = True,showmeans = True, medianprops=medianprops, boxprops=boxprops, \n",
    "        whiskerprops=whiskerprops, capprops=capprops, flierprops = flierprops)\n",
    "\n",
    "ax.set_xticklabels(xticklabels)\n",
    "ax.set_ylim(0, 5500)\n",
    "ax.set_ylabel('grams', size = 14)\n",
    "ax.tick_params(axis='both', which='major', labelsize=14)\n",
    "plt.grid(True)\n",
    "\n",
    "fig.savefig('%s/%s.%s' % (DIR_WRITE, 'ventilated_weight_1_300', filetype),\n",
    "    dpi = dpi, facecolor='w', edgecolor='w', orientation='portrait', papertype=None, format = filetype,\n",
    "    transparent=False, bbox_inches='tight', pad_inches=0.1, frameon=True);"
   ]
  },
  {
   "cell_type": "code",
   "execution_count": null,
   "metadata": {},
   "outputs": [],
   "source": [
    "fig, ax = plt.subplots(figsize = (3, 4))\n",
    "dpi = 300\n",
    "filetype = 'jpg'\n",
    "xticklabels = ['recording duration']\n",
    "\n",
    "# Define styling for each boxplot component\n",
    "medianprops = {'color': 'black', 'linewidth': 2}\n",
    "boxprops = {'color': 'black', 'linestyle': '-'}\n",
    "whiskerprops = {'color': 'black', 'linestyle': '-'}\n",
    "capprops = {'color': 'black', 'linestyle': '-'}\n",
    "flierprops = {'color': 'black', 'marker': '.'}\n",
    "\n",
    "plt.boxplot(clin_df_ventilation['Duration'] / (60 * 1E+9), \n",
    "        whis = [5, 95], showfliers = True,showmeans = True, medianprops=medianprops, boxprops=boxprops, \n",
    "        whiskerprops=whiskerprops, capprops=capprops, flierprops = flierprops)\n",
    "\n",
    "ax.set_xticklabels(xticklabels)\n",
    "ax.set_ylabel('minutes', size = 14)\n",
    "ax.tick_params(axis='both', which='major', labelsize=14)\n",
    "plt.grid(True)\n",
    "\n",
    "fig.savefig('%s/%s.%s' % (DIR_WRITE, 'ventilation_duration_1_300', filetype),\n",
    "    dpi = dpi, facecolor='w', edgecolor='w', orientation='portrait', papertype=None, format = filetype,\n",
    "    transparent=False, bbox_inches='tight', pad_inches=0.1, frameon=True);"
   ]
  },
  {
   "cell_type": "markdown",
   "metadata": {},
   "source": [
    "## How many cases with the different ventilation modes"
   ]
  },
  {
   "cell_type": "markdown",
   "metadata": {},
   "source": [
    "### Which recordings had more than one ventilation modes"
   ]
  },
  {
   "cell_type": "code",
   "execution_count": null,
   "metadata": {},
   "outputs": [],
   "source": [
    "multiple_mode = [case for case in cases if\n",
    "        (vent_modes_ventilated.loc[case][['IPPV', 'PSV', 'SIMV', 'SIMVPSV', 'SIPPV']] != 0).sum() > 1]"
   ]
  },
  {
   "cell_type": "code",
   "execution_count": null,
   "metadata": {},
   "outputs": [],
   "source": [
    "len(multiple_mode)"
   ]
  },
  {
   "cell_type": "code",
   "execution_count": null,
   "metadata": {},
   "outputs": [],
   "source": [
    "vent_modes_ventilated['multiple_mode'] = np.where(vent_modes_ventilated.index.isin(multiple_mode), 'Yes', 'No')"
   ]
  },
  {
   "cell_type": "code",
   "execution_count": null,
   "metadata": {},
   "outputs": [],
   "source": [
    "vent_modes_ventilated.head()"
   ]
  },
  {
   "cell_type": "code",
   "execution_count": null,
   "metadata": {
    "scrolled": false
   },
   "outputs": [],
   "source": [
    "vent_modes_ventilated.loc[multiple_mode]"
   ]
  },
  {
   "cell_type": "code",
   "execution_count": null,
   "metadata": {},
   "outputs": [],
   "source": [
    "def autolabel(rects):\n",
    "    \"\"\"\n",
    "    Attach a text label above each bar displaying its height\n",
    "    \"\"\"\n",
    "    for rect in rects:\n",
    "        height = rect.get_height()\n",
    "        ax.text(rect.get_x() + rect.get_width()/2., 1.05*height,\n",
    "                '%d' % int(height), ha='center', va='bottom', size = 14)"
   ]
  },
  {
   "cell_type": "markdown",
   "metadata": {},
   "source": [
    "### Considering all modes used during recordings"
   ]
  },
  {
   "cell_type": "code",
   "execution_count": null,
   "metadata": {},
   "outputs": [],
   "source": [
    "print('SIMV:', sum(vent_modes_ventilated['SIMV'] > 0))\n",
    "print('SIPPV:', sum(vent_modes_ventilated['SIPPV'] > 0))\n",
    "print('SIMVPSV:', sum(vent_modes_ventilated['SIMVPSV'] > 0))\n",
    "print('PSV:', sum(vent_modes_ventilated['PSV'] > 0))\n",
    "print('IPPV:', sum(vent_modes_ventilated['IPPV'] > 0))\n",
    "print('VG_on:', sum(vent_modes_ventilated['VG_on'] > 0))\n",
    "print('total', len(vent_modes_ventilated))"
   ]
  },
  {
   "cell_type": "code",
   "execution_count": null,
   "metadata": {
    "scrolled": false
   },
   "outputs": [],
   "source": [
    "dpi = 300\n",
    "filetype = 'jpg'\n",
    "labels = ['SIMV', 'SIPPV', 'SIMV-PSV', 'IPPV', 'PSV']\n",
    "xticks = np.arange(len(labels))\n",
    "width = 0.6\n",
    "\n",
    "fig, ax = plt.subplots(figsize = [6,4])\n",
    "rects = plt.bar(xticks, [sum(vent_modes_ventilated['SIMV'] > 0), sum(vent_modes_ventilated['SIPPV'] > 0), \n",
    "                         sum(vent_modes_ventilated['SIMVPSV'] > 0), sum(vent_modes_ventilated['IPPV'] > 0),\n",
    "                         sum(vent_modes_ventilated['PSV'] > 0)], \n",
    "                        width=width, color='black', alpha  = 0.75, align = 'center')\n",
    "\n",
    "ax.set_xlabel('ventilation mode', size = 14)\n",
    "ax.set_xticks(xticks)\n",
    "ax.set_xticklabels(labels, size = 14, rotation = 0)\n",
    "ax.set_ylabel('number of cases', size = 14)\n",
    "ax.set_ylim(0, 130)\n",
    "ax.grid(True)\n",
    "\n",
    "autolabel(rects)\n",
    "\n",
    "fig.savefig('%s/%s.%s' % (DIR_WRITE, 'vent_modes_ventilated_1_300', filetype),\n",
    "    dpi = dpi, facecolor='w', edgecolor='w', orientation='portrait', papertype=None, format = filetype,\n",
    "    transparent=False, bbox_inches='tight', pad_inches=0.1, frameon=True);"
   ]
  },
  {
   "cell_type": "markdown",
   "metadata": {},
   "source": [
    "### Considering only the predominant ventilation modes"
   ]
  },
  {
   "cell_type": "code",
   "execution_count": null,
   "metadata": {},
   "outputs": [],
   "source": [
    "vent_modes_ventilated['dominant_mode'] = \\\n",
    "    vent_modes_ventilated[['IPPV', 'PSV', 'SIMV', 'SIMVPSV', 'SIPPV']].idxmax(axis = 1)"
   ]
  },
  {
   "cell_type": "code",
   "execution_count": null,
   "metadata": {},
   "outputs": [],
   "source": [
    "vent_modes_ventilated.head()"
   ]
  },
  {
   "cell_type": "code",
   "execution_count": null,
   "metadata": {},
   "outputs": [],
   "source": [
    "vent_modes_ventilated['dominant_mode'].value_counts()"
   ]
  },
  {
   "cell_type": "code",
   "execution_count": null,
   "metadata": {},
   "outputs": [],
   "source": [
    "dpi = 300\n",
    "filetype = 'jpg'\n",
    "xticks = np.arange(len(vent_modes_ventilated['dominant_mode'].value_counts()))\n",
    "fig, ax = plt.subplots(figsize = [6,4])\n",
    "\n",
    "vent_modes_ventilated['dominant_mode'].value_counts().plot(kind = 'bar', ax = ax, color='black', \n",
    "                                                           alpha  = 0.75, rot= 'horizontal')\n",
    "ax.set_xticklabels(labels, size = 14, rotation = 0)\n",
    "ax.set_xlabel('ventilation mode', size = 14)\n",
    "ax.set_ylabel('number of cases', size = 14)\n",
    "ax.set_ylim(0, 130)\n",
    "ax.grid(True)\n",
    "\n",
    "fig.savefig('%s/%s.%s' % (DIR_WRITE, 'vent_modes_ventilated_dominant_mode_1_300', filetype),\n",
    "    dpi = dpi, facecolor='w', edgecolor='w', orientation='portrait', papertype=None, format = filetype,\n",
    "    transparent=False, bbox_inches='tight', pad_inches=0.1, frameon=True);"
   ]
  },
  {
   "cell_type": "markdown",
   "metadata": {},
   "source": [
    "### Considering only the recordings with a single ventilator mode"
   ]
  },
  {
   "cell_type": "code",
   "execution_count": null,
   "metadata": {},
   "outputs": [],
   "source": [
    "sum(vent_modes_ventilated['multiple_mode'] == 'No')"
   ]
  },
  {
   "cell_type": "code",
   "execution_count": null,
   "metadata": {},
   "outputs": [],
   "source": [
    "only_mode = vent_modes_ventilated[vent_modes_ventilated['multiple_mode'] == 'No']['dominant_mode'].value_counts()\n",
    "only_mode"
   ]
  },
  {
   "cell_type": "code",
   "execution_count": null,
   "metadata": {},
   "outputs": [],
   "source": [
    "dpi = 300\n",
    "filetype = 'jpg'\n",
    "xticks = np.arange(len(only_mode))\n",
    "fig, ax = plt.subplots(figsize = [6,4])\n",
    "\n",
    "only_mode.plot(kind = 'bar', ax = ax, color='black', alpha  = 0.75, rot= 'horizontal')\n",
    "\n",
    "ax.set_xticklabels(labels, size = 14, rotation = 0)\n",
    "ax.set_xlabel('ventilation mode', size = 14)\n",
    "ax.set_ylabel('number of cases', size = 14)\n",
    "ax.set_ylim(0, 100)\n",
    "ax.grid(True)\n",
    "\n",
    "fig.savefig('%s/%s.%s' % (DIR_WRITE, 'vent_modes_ventilated_only_mode_1_300', filetype),\n",
    "    dpi = dpi, facecolor='w', edgecolor='w', orientation='portrait', papertype=None, format = filetype,\n",
    "    transparent=False, bbox_inches='tight', pad_inches=0.1, frameon=True);"
   ]
  },
  {
   "cell_type": "markdown",
   "metadata": {},
   "source": [
    "### How many recordings had VG ventilation and for how long"
   ]
  },
  {
   "cell_type": "code",
   "execution_count": null,
   "metadata": {},
   "outputs": [],
   "source": [
    "# How many nan values\n",
    "sum(vent_modes_ventilated['VG_on'].isnull())"
   ]
  },
  {
   "cell_type": "code",
   "execution_count": null,
   "metadata": {},
   "outputs": [],
   "source": [
    "# has some VG ventilationa\n",
    "sum(vent_modes_ventilated['VG_on'] > 0)"
   ]
  },
  {
   "cell_type": "code",
   "execution_count": null,
   "metadata": {},
   "outputs": [],
   "source": [
    "# has no VG ventilation\n",
    "len(vent_modes_ventilated) - sum(vent_modes_ventilated['VG_on'] > 0)"
   ]
  },
  {
   "cell_type": "code",
   "execution_count": null,
   "metadata": {},
   "outputs": [],
   "source": [
    "has_VG = vent_modes_ventilated[vent_modes_ventilated['VG_on'] > 0]"
   ]
  },
  {
   "cell_type": "code",
   "execution_count": null,
   "metadata": {},
   "outputs": [],
   "source": [
    "# VG was on throughout the whole recording \n",
    "only_VG = has_VG[has_VG['VG_on'] == has_VG['total']]\n",
    "len(only_VG)"
   ]
  },
  {
   "cell_type": "code",
   "execution_count": null,
   "metadata": {},
   "outputs": [],
   "source": [
    "only_VG['dominant_mode'].value_counts()"
   ]
  },
  {
   "cell_type": "markdown",
   "metadata": {},
   "source": [
    "#### Save extended file about ventilation modes to pickle archive"
   ]
  },
  {
   "cell_type": "code",
   "execution_count": null,
   "metadata": {},
   "outputs": [],
   "source": [
    "with open('%s/%s.pickle' % (DATA_DUMP, 'vent_modes_ventilated_1_300_plus'), 'wb') as handle:\n",
    "    pickle.dump(vent_modes_ventilated, handle, protocol=pickle.HIGHEST_PROTOCOL)"
   ]
  },
  {
   "cell_type": "markdown",
   "metadata": {},
   "source": [
    "### Resample the data to calculate 1-minute means"
   ]
  },
  {
   "cell_type": "code",
   "execution_count": null,
   "metadata": {},
   "outputs": [],
   "source": [
    "data_pars_measurements_ventilated_1min_mean = {}\n",
    "data_pars_settings_ventilated_1min_mean = {}\n",
    "\n",
    "for case in cases:\n",
    "    data_pars_measurements_ventilated_1min_mean[case] = \\\n",
    "        data_pars_measurements_ventilated[case].resample('1min').mean()\n",
    "    data_pars_settings_ventilated_1min_mean[case] = \\\n",
    "        data_pars_settings_ventilated[case].resample('1min').mean()"
   ]
  },
  {
   "cell_type": "markdown",
   "metadata": {},
   "source": [
    "# Statistics on ventilatory parameters of these cases"
   ]
  },
  {
   "cell_type": "markdown",
   "metadata": {},
   "source": [
    "## Descriptive statistics on `measured ventilator parameters`"
   ]
  },
  {
   "cell_type": "markdown",
   "metadata": {},
   "source": [
    "### Statistics on individual cases"
   ]
  },
  {
   "cell_type": "code",
   "execution_count": null,
   "metadata": {},
   "outputs": [],
   "source": [
    "stats_pars_measurements_ventilated = {} \n",
    "\n",
    "for case in cases:\n",
    "    stats_pars_measurements_ventilated[case] = \\\n",
    "        round(data_pars_measurements_ventilated[case].describe(percentiles = \n",
    "                                                    (0.05, 0.25, 0.5, 0.75, 0.95)), 2)\n",
    "    stats_pars_measurements_ventilated[case].index = ['data_points', 'mean', 'SD', 'min', '5pc', \n",
    "                                                      '25pc', 'median', '75pc', '95pc', 'max']"
   ]
  },
  {
   "cell_type": "code",
   "execution_count": null,
   "metadata": {},
   "outputs": [],
   "source": [
    "stats_pars_measurements_ventilated['AL000008']"
   ]
  },
  {
   "cell_type": "code",
   "execution_count": null,
   "metadata": {},
   "outputs": [],
   "source": [
    "# Create table with statistics for all cases and all relevant parameters\n",
    "stats_pars_measurements_ventilated_all = pd.concat(stats_pars_measurements_ventilated, axis = 1).T"
   ]
  },
  {
   "cell_type": "code",
   "execution_count": null,
   "metadata": {},
   "outputs": [],
   "source": [
    "# Remove measured parameters not given in case of mechanical ventilation\n",
    "stats_pars_measurements_ventilated_all.dropna(how = 'all', subset = ['mean', 'SD', 'min', '5pc', \n",
    "                                '25pc', 'median', '75pc', '95pc', 'max'], axis = 0, inplace = True)"
   ]
  },
  {
   "cell_type": "code",
   "execution_count": null,
   "metadata": {},
   "outputs": [],
   "source": [
    "stats_pars_measurements_ventilated_all.info()"
   ]
  },
  {
   "cell_type": "code",
   "execution_count": null,
   "metadata": {},
   "outputs": [],
   "source": [
    "stats_pars_measurements_ventilated_all.head()"
   ]
  },
  {
   "cell_type": "code",
   "execution_count": null,
   "metadata": {},
   "outputs": [],
   "source": [
    "stats_pars_measurements_ventilated_all.loc['AL000003']"
   ]
  },
  {
   "cell_type": "code",
   "execution_count": null,
   "metadata": {
    "scrolled": true
   },
   "outputs": [],
   "source": [
    "stats_pars_measurements_ventilated_all.swaplevel(0,1).loc['VTemand_resp_kg'].head()"
   ]
  },
  {
   "cell_type": "markdown",
   "metadata": {},
   "source": [
    "### Statistics on individual parameters"
   ]
  },
  {
   "cell_type": "code",
   "execution_count": null,
   "metadata": {},
   "outputs": [],
   "source": [
    "# selected individual parameters\n",
    "parameters = ['C20_C', 'Cdyn', 'FiO2', 'Leak', 'MAP',  'MV_kg', 'MVresp', 'PEEP', 'PIP','R', 'RR', \n",
    "              'Trigger', 'VTemand_kg', 'VTespon_pat_kg', 'VTemand_resp_kg',  'VTimand_kg']\n",
    "\n",
    "stats_pars_measurements_ventilated_2 = {}\n",
    "\n",
    "for parameter in parameters:\n",
    "    stats_pars_measurements_ventilated_2[parameter] = \\\n",
    "        stats_pars_measurements_ventilated_all.swaplevel(0,1).loc[parameter].sort_values('mean', ascending = False)"
   ]
  },
  {
   "cell_type": "code",
   "execution_count": null,
   "metadata": {
    "scrolled": false
   },
   "outputs": [],
   "source": [
    "stats_pars_measurements_ventilated_2['VTemand_resp_kg'].head()"
   ]
  },
  {
   "cell_type": "code",
   "execution_count": null,
   "metadata": {},
   "outputs": [],
   "source": [
    "# Unstack table to create table for all parameters with different configuration\n",
    "stats_pars_measurements_ventilated_all_2 = stats_pars_measurements_ventilated_all.unstack()"
   ]
  },
  {
   "cell_type": "code",
   "execution_count": null,
   "metadata": {},
   "outputs": [],
   "source": [
    "stats_pars_measurements_ventilated_all_2.info()"
   ]
  },
  {
   "cell_type": "code",
   "execution_count": null,
   "metadata": {},
   "outputs": [],
   "source": [
    "stats_pars_measurements_ventilated_all_2.head()"
   ]
  },
  {
   "cell_type": "code",
   "execution_count": null,
   "metadata": {
    "scrolled": false
   },
   "outputs": [],
   "source": [
    "stats_pars_measurements_ventilated_all_2['mean'].head()"
   ]
  },
  {
   "cell_type": "markdown",
   "metadata": {},
   "source": [
    "### Export statistics to a multisheet Excel file and pickle archive"
   ]
  },
  {
   "cell_type": "code",
   "execution_count": null,
   "metadata": {},
   "outputs": [],
   "source": [
    "# Save statistics into Excel file\n",
    "writer = pd.ExcelWriter('%s/%s' % (DIR_WRITE, 'stats_pars_measurements_ventilated_1_300.xlsx'))\n",
    "for case in cases:\n",
    "    stats_pars_measurements_ventilated[case].to_excel(writer, case)\n",
    "writer.save()"
   ]
  },
  {
   "cell_type": "code",
   "execution_count": null,
   "metadata": {},
   "outputs": [],
   "source": [
    "# Save statistics into Excel file\n",
    "writer = pd.ExcelWriter('%s/%s' % (DIR_WRITE, 'stats_pars_measurements_ventilated_1_300_2.xlsx'))\n",
    "for parameter in parameters:\n",
    "    stats_pars_measurements_ventilated_2[parameter].to_excel(writer, parameter)\n",
    "writer.save()"
   ]
  },
  {
   "cell_type": "code",
   "execution_count": null,
   "metadata": {},
   "outputs": [],
   "source": [
    "# Save statistics into Excel file\n",
    "writer = pd.ExcelWriter('%s/%s' % (DIR_WRITE, 'stats_pars_measurements_ventilated_all_1_300.xlsx'))\n",
    "stats_pars_measurements_ventilated_all.to_excel(writer, 'stats_all_1')\n",
    "stats_pars_measurements_ventilated_all_2.to_excel(writer, 'stats_all_2')\n",
    "writer.save()"
   ]
  },
  {
   "cell_type": "markdown",
   "metadata": {},
   "source": [
    "### Group statistics"
   ]
  },
  {
   "cell_type": "code",
   "execution_count": null,
   "metadata": {},
   "outputs": [],
   "source": [
    "# Create short alias for variable name\n",
    "a = stats_pars_measurements_ventilated_all_2"
   ]
  },
  {
   "cell_type": "code",
   "execution_count": null,
   "metadata": {},
   "outputs": [],
   "source": [
    "# How many data points for the various parameters in each recording\n",
    "a['data_points'].head()"
   ]
  },
  {
   "cell_type": "code",
   "execution_count": null,
   "metadata": {},
   "outputs": [],
   "source": [
    "# Some parameters are only present in case of SIMV: VTemand, VTespon, MVresp\n",
    "# Some parameters are only present in case of PSV: Ti_PSV\n",
    "\n",
    "a['data_points'].info()"
   ]
  },
  {
   "cell_type": "code",
   "execution_count": null,
   "metadata": {},
   "outputs": [],
   "source": [
    "a['mean'].describe()"
   ]
  },
  {
   "cell_type": "code",
   "execution_count": null,
   "metadata": {},
   "outputs": [],
   "source": [
    "a['median'].describe()"
   ]
  },
  {
   "cell_type": "code",
   "execution_count": null,
   "metadata": {},
   "outputs": [],
   "source": [
    "percentiles = [0.001, 0.01, 0.05, 0.25, 0.5, 0.75, 0.95, 0.99, 0.999]\n",
    "\n",
    "# Save statistics into Excel file\n",
    "writer = pd.ExcelWriter('%s/%s' % (DIR_WRITE, 'stats_pars_measurements_ventilated_group_1_300.xlsx'))\n",
    "stats_pars_measurements_ventilated_all_2['mean'].describe(percentiles = percentiles).to_excel(writer, 'mean')\n",
    "stats_pars_measurements_ventilated_all_2['median'].describe(percentiles = percentiles).to_excel(writer, 'median')\n",
    "writer.save()"
   ]
  },
  {
   "cell_type": "markdown",
   "metadata": {},
   "source": [
    "## Descriptive statistics on `ventilator settings`"
   ]
  },
  {
   "cell_type": "markdown",
   "metadata": {},
   "source": [
    "### Statistics on individual cases"
   ]
  },
  {
   "cell_type": "code",
   "execution_count": null,
   "metadata": {},
   "outputs": [],
   "source": [
    "stats_pars_settings_ventilated = {} \n",
    "for case in cases:\n",
    "    stats_pars_settings_ventilated[case] = \\\n",
    "        round(data_pars_settings_ventilated[case].describe(percentiles = (0.05, 0.25, 0.5, 0.75, 0.95)), 2)\n",
    "    stats_pars_settings_ventilated[case].index = ['data_points', 'mean', 'SD', 'min', '5pc', \n",
    "                                     '25pc', 'median', '75pc', '95pc', 'max']"
   ]
  },
  {
   "cell_type": "code",
   "execution_count": null,
   "metadata": {},
   "outputs": [],
   "source": [
    "stats_pars_settings_ventilated['AL000008']"
   ]
  },
  {
   "cell_type": "code",
   "execution_count": null,
   "metadata": {},
   "outputs": [],
   "source": [
    "# Create table with statistics for all cases and all relevant parameters\n",
    "stats_pars_settings_ventilated_all = pd.concat(stats_pars_settings_ventilated, axis = 1).T"
   ]
  },
  {
   "cell_type": "code",
   "execution_count": null,
   "metadata": {},
   "outputs": [],
   "source": [
    "# Remove measured parameters not given in case of mechanical ventilation\n",
    "stats_pars_settings_ventilated_all.dropna(how = 'all', subset = ['mean', 'SD', 'min', '5pc', \n",
    "                                '25pc', 'median', '75pc', '95pc', 'max'], axis = 0, inplace = True)"
   ]
  },
  {
   "cell_type": "code",
   "execution_count": null,
   "metadata": {},
   "outputs": [],
   "source": [
    "stats_pars_settings_ventilated_all.info()"
   ]
  },
  {
   "cell_type": "code",
   "execution_count": null,
   "metadata": {},
   "outputs": [],
   "source": [
    "stats_pars_settings_ventilated_all.head()"
   ]
  },
  {
   "cell_type": "code",
   "execution_count": null,
   "metadata": {},
   "outputs": [],
   "source": [
    "stats_pars_settings_ventilated_all.loc['AL000007']"
   ]
  },
  {
   "cell_type": "markdown",
   "metadata": {},
   "source": [
    "### Statistics on individual settings"
   ]
  },
  {
   "cell_type": "code",
   "execution_count": null,
   "metadata": {},
   "outputs": [],
   "source": [
    "# selected ventilator settings\n",
    "parameters = ['FiO2_set', 'Flow_exp_set', 'Flow_insp_set', 'IE_E_set', 'IE_I_set',\n",
    "       'MV_lim_high_set', 'MV_lim_high_set_kg', 'MV_lim_low_set',\n",
    "       'MV_lim_low_set_kg', 'PEEP_set', 'PIP_lim_high_set', 'PIP_lim_low_set',\n",
    "       'PIP_set', 'PIP_set_PSV', 'RR_set', 'Te_set', 'Term_criteria_PSV_set',\n",
    "       'Ti_set', 'Trigger_sens_set', 'VG_set', 'VG_set_kg']\n",
    "\n",
    "stats_pars_settings_ventilated_2 = {}\n",
    "\n",
    "for parameter in parameters:\n",
    "    stats_pars_settings_ventilated_2[parameter] = \\\n",
    "        stats_pars_settings_ventilated_all.swaplevel(0,1).loc[parameter].sort_values('mean', ascending = False)"
   ]
  },
  {
   "cell_type": "code",
   "execution_count": null,
   "metadata": {
    "scrolled": false
   },
   "outputs": [],
   "source": [
    "stats_pars_settings_ventilated_2['Ti_set'].head()"
   ]
  },
  {
   "cell_type": "code",
   "execution_count": null,
   "metadata": {},
   "outputs": [],
   "source": [
    "# Unstack table to create table for all settings with different configuration\n",
    "stats_pars_settings_ventilated_all_2 = stats_pars_settings_ventilated_all.unstack()"
   ]
  },
  {
   "cell_type": "code",
   "execution_count": null,
   "metadata": {},
   "outputs": [],
   "source": [
    "stats_pars_settings_ventilated_all_2.info()"
   ]
  },
  {
   "cell_type": "code",
   "execution_count": null,
   "metadata": {},
   "outputs": [],
   "source": [
    "stats_pars_settings_ventilated_all_2.head(10)"
   ]
  },
  {
   "cell_type": "code",
   "execution_count": null,
   "metadata": {
    "scrolled": false
   },
   "outputs": [],
   "source": [
    "stats_pars_settings_ventilated_all_2['mean'].head(10)"
   ]
  },
  {
   "cell_type": "markdown",
   "metadata": {},
   "source": [
    "### Export statistics to a multisheet Excel file and pickle archive"
   ]
  },
  {
   "cell_type": "code",
   "execution_count": null,
   "metadata": {},
   "outputs": [],
   "source": [
    "# Save statistics into Excel file\n",
    "writer = pd.ExcelWriter('%s/%s' % (DIR_WRITE, 'stats_pars_settings_ventilated_1_300.xlsx'))\n",
    "for case in cases:\n",
    "    stats_pars_settings_ventilated[case].to_excel(writer, case)\n",
    "writer.save()"
   ]
  },
  {
   "cell_type": "code",
   "execution_count": null,
   "metadata": {},
   "outputs": [],
   "source": [
    "# Save statistics into Excel file\n",
    "writer = pd.ExcelWriter('%s/%s' % (DIR_WRITE, 'stats_pars_settings_ventilated_1_300_2.xlsx'))\n",
    "for parameter in parameters:\n",
    "    stats_pars_settings_ventilated_2[parameter].to_excel(writer, parameter)\n",
    "writer.save()"
   ]
  },
  {
   "cell_type": "code",
   "execution_count": null,
   "metadata": {},
   "outputs": [],
   "source": [
    "# Save statistics into Excel file\n",
    "writer = pd.ExcelWriter('%s/%s' % (DIR_WRITE, 'stats_pars_settings_ventilated_all_1_300.xlsx'))\n",
    "stats_pars_settings_ventilated_all.to_excel(writer, 'stats_all_1')\n",
    "stats_pars_settings_ventilated_all_2.to_excel(writer, 'stats_all_2')\n",
    "writer.save()"
   ]
  },
  {
   "cell_type": "markdown",
   "metadata": {},
   "source": [
    "### Group statistics"
   ]
  },
  {
   "cell_type": "code",
   "execution_count": null,
   "metadata": {},
   "outputs": [],
   "source": [
    "# Create short alias for variable name\n",
    "a = stats_pars_settings_ventilated_all_2"
   ]
  },
  {
   "cell_type": "code",
   "execution_count": null,
   "metadata": {},
   "outputs": [],
   "source": [
    "# How many data points for the various parameters in each recording\n",
    "a['data_points'].head()"
   ]
  },
  {
   "cell_type": "code",
   "execution_count": null,
   "metadata": {
    "scrolled": false
   },
   "outputs": [],
   "source": [
    "# Some parameters are only present in case of VG ventilation: VG_set\n",
    "# Some parameters are only present in case of PSV: PIP_set_PSV, Term_criteria_PSV_set\n",
    "# MV limits, Apnea time were not always set\n",
    "# Trigger sensitivity was not always set (no flow sensor / not synchronized??)\n",
    "\n",
    "a['data_points'].info()"
   ]
  },
  {
   "cell_type": "code",
   "execution_count": null,
   "metadata": {},
   "outputs": [],
   "source": [
    "a['mean'].describe()"
   ]
  },
  {
   "cell_type": "code",
   "execution_count": null,
   "metadata": {},
   "outputs": [],
   "source": [
    "a['median'].describe()"
   ]
  },
  {
   "cell_type": "code",
   "execution_count": null,
   "metadata": {},
   "outputs": [],
   "source": [
    "percentiles = [0.001, 0.01, 0.05, 0.25, 0.5, 0.75, 0.95, 0.99, 0.999]\n",
    "\n",
    "# Save statistics into Excel file\n",
    "writer = pd.ExcelWriter('%s/%s' % (DIR_WRITE, 'stats_pars_settings_ventilated_group_1_300.xlsx'))\n",
    "stats_pars_settings_ventilated_all_2['mean'].describe(percentiles = percentiles).to_excel(writer, 'mean')\n",
    "stats_pars_settings_ventilated_all_2['median'].describe(percentiles = percentiles).to_excel(writer, 'median')\n",
    "writer.save()"
   ]
  },
  {
   "cell_type": "markdown",
   "metadata": {},
   "source": [
    "### Statistics on categorical settings"
   ]
  },
  {
   "cell_type": "code",
   "execution_count": null,
   "metadata": {},
   "outputs": [],
   "source": [
    "parameters_2 = ['Flow_sensor_state', 'Measuring_unit_pressure_set', \n",
    "        'Oxy_sensor_state', 'Patient_range', 'Powerstate',\n",
    "       'Pressure_rise_control',  'Trigger_mode', 'VG_state', 'Ventilation_stopped',\n",
    "       'Ventilator_mode', 'Ventilator_range']"
   ]
  },
  {
   "cell_type": "code",
   "execution_count": null,
   "metadata": {},
   "outputs": [],
   "source": [
    "data_pars_settings_ventilated_combined_cat = pd.concat(data_pars_settings_ventilated, sort = True)[parameters_2]"
   ]
  },
  {
   "cell_type": "code",
   "execution_count": null,
   "metadata": {},
   "outputs": [],
   "source": [
    "data_pars_settings_ventilated_combined_cat.head()"
   ]
  },
  {
   "cell_type": "code",
   "execution_count": null,
   "metadata": {},
   "outputs": [],
   "source": [
    "data_pars_settings_ventilated_combined_cat.describe()"
   ]
  },
  {
   "cell_type": "markdown",
   "metadata": {},
   "source": [
    "- Measuring_unit_pressure_set: always `cmH2O`\n",
    "- Patient_range: always neonatal\n",
    "- Pressure_rise_control: always I-flow\n",
    "- Trigger_mode: always Volumetrigger\n",
    "- Ventilator_range: always Neonatal\n"
   ]
  },
  {
   "cell_type": "code",
   "execution_count": null,
   "metadata": {},
   "outputs": [],
   "source": [
    "data_pars_settings_ventilated_combined_cat.isnull().sum()"
   ]
  },
  {
   "cell_type": "code",
   "execution_count": null,
   "metadata": {},
   "outputs": [],
   "source": [
    "data_pars_settings_ventilated_combined_cat['Powerstate'].value_counts()"
   ]
  },
  {
   "cell_type": "code",
   "execution_count": null,
   "metadata": {},
   "outputs": [],
   "source": [
    "data_pars_settings_ventilated_combined_cat['Ventilation_stopped'].value_counts()"
   ]
  },
  {
   "cell_type": "code",
   "execution_count": null,
   "metadata": {},
   "outputs": [],
   "source": [
    "data_pars_settings_ventilated_combined_cat['Ventilator_mode'].value_counts()"
   ]
  },
  {
   "cell_type": "code",
   "execution_count": null,
   "metadata": {},
   "outputs": [],
   "source": [
    "# Create alias for long name\n",
    "c = data_pars_settings_ventilated_combined_cat"
   ]
  },
  {
   "cell_type": "code",
   "execution_count": null,
   "metadata": {},
   "outputs": [],
   "source": [
    "# Save statistics into Excel file\n",
    "writer = pd.ExcelWriter('%s/%s' % (DIR_WRITE, 'stat_pars_settings_ventilated_combined_cat_1_300.xlsx'))\n",
    "data_pars_settings_ventilated_combined_cat.describe().to_excel(writer, 'categorical vars')\n",
    "writer.save()"
   ]
  },
  {
   "cell_type": "markdown",
   "metadata": {},
   "source": [
    "## Descriptive statistics on `ventilator alarms`"
   ]
  },
  {
   "cell_type": "code",
   "execution_count": null,
   "metadata": {},
   "outputs": [],
   "source": [
    "data_pars_settings_ventilated_alarms_all = pd.concat(data_pars_alarms_ventilated, sort = True)\n",
    "data_pars_settings_ventilated_alarms_all.fillna(0, inplace = True)"
   ]
  },
  {
   "cell_type": "code",
   "execution_count": null,
   "metadata": {},
   "outputs": [],
   "source": [
    "len(data_pars_settings_ventilated_alarms_all)"
   ]
  },
  {
   "cell_type": "code",
   "execution_count": null,
   "metadata": {
    "scrolled": false
   },
   "outputs": [],
   "source": [
    "data_pars_settings_ventilated_alarms_all.head()"
   ]
  },
  {
   "cell_type": "code",
   "execution_count": null,
   "metadata": {
    "scrolled": true
   },
   "outputs": [],
   "source": [
    "data_pars_settings_ventilated_alarms_all['Alarm_susp'].value_counts()"
   ]
  },
  {
   "cell_type": "code",
   "execution_count": null,
   "metadata": {},
   "outputs": [],
   "source": [
    "for col in data_pars_settings_ventilated_alarms_all:\n",
    "    print(col, '\\n', data_pars_settings_ventilated_alarms_all[col].value_counts(), '\\n')"
   ]
  },
  {
   "cell_type": "code",
   "execution_count": null,
   "metadata": {},
   "outputs": [],
   "source": [
    "data_pars_settings_ventilated_alarms_all.sum() / len(data_pars_settings_ventilated_alarms_all) * 100"
   ]
  },
  {
   "cell_type": "code",
   "execution_count": null,
   "metadata": {},
   "outputs": [],
   "source": [
    "data_pars_settings_ventilated_alarms_all.reset_index(level = 1, inplace = True)\n",
    "grouped = data_pars_settings_ventilated_alarms_all.groupby(data_pars_settings_ventilated_alarms_all.index)"
   ]
  },
  {
   "cell_type": "code",
   "execution_count": null,
   "metadata": {},
   "outputs": [],
   "source": [
    "alarm_counts = grouped.sum()\n",
    "alarm_counts.head()"
   ]
  },
  {
   "cell_type": "code",
   "execution_count": null,
   "metadata": {},
   "outputs": [],
   "source": [
    "alarm_pc = grouped.sum().div(grouped.size(), axis = 0) * 100\n",
    "alarm_pc.head()"
   ]
  },
  {
   "cell_type": "code",
   "execution_count": null,
   "metadata": {},
   "outputs": [],
   "source": [
    "# Save statistics into Excel file\n",
    "writer = pd.ExcelWriter('%s/%s' % (DIR_WRITE, 'alarm_stats_ventilated_1_300.xlsx'))\n",
    "alarm_counts.to_excel(writer, 'alarm_counts')\n",
    "alarm_pc.to_excel(writer, 'alarm_pc')\n",
    "writer.save()"
   ]
  },
  {
   "cell_type": "markdown",
   "metadata": {},
   "source": [
    "## Write relevant graphs about all recordings to the DATA_DUMP folder"
   ]
  },
  {
   "cell_type": "markdown",
   "metadata": {},
   "source": [
    "### Graphs for ventilator recordings"
   ]
  },
  {
   "cell_type": "markdown",
   "metadata": {},
   "source": [
    "#### Tidal volume of mandatory inflations"
   ]
  },
  {
   "cell_type": "code",
   "execution_count": null,
   "metadata": {
    "scrolled": false
   },
   "outputs": [],
   "source": [
    "%%time\n",
    "\n",
    "par = 'VTemand_kg'\n",
    "dim = 'mL/kg'; filetype = 'jpg'; dpi = 200\n",
    "\n",
    "for case in cases:\n",
    "    # print('Saving %s' % case)\n",
    "    fig = plt.figure()\n",
    "    fig.set_size_inches(8, 4)\n",
    "    fig.subplots_adjust(left=None, bottom=None, right=None, top=None, \n",
    "                            wspace=None, hspace=0.1)\n",
    "    ax = fig.add_subplot(1, 1, 1)\n",
    "    data_pars_measurements_ventilated[case][par].plot(ax = ax, label = par)\n",
    "    ax.set_xlabel('Time', size = 14, color = 'black')\n",
    "    ax.set_ylabel(dim, size = 14, color = 'black')\n",
    "    # ax.set_ylim(0, 10)\n",
    "    ax.set_title(case,  size = 14, color = 'black')\n",
    "    ax.legend()\n",
    "    ax.grid('on', linestyle='-', linewidth=0.5, color = 'gray')\n",
    "    xticks = pd.date_range(start = data_pars_measurements_ventilated[case].index.min(), \n",
    "                       end = data_pars_measurements_ventilated[case].index.max(), freq='15min')\n",
    "    #ax.set_xticks(xticks)\n",
    "    ax.tick_params(which = 'both', labelsize=12)\n",
    "            \n",
    "    fig.savefig('%s/%s/%s/%s_%s.%s' % (DATA_DUMP, 'fabian_cases', case, case, par, filetype), dpi = dpi, \n",
    "        facecolor='w', edgecolor='w', orientation='portrait', \n",
    "        papertype=None, format = filetype, transparent=False, bbox_inches='tight',\n",
    "        pad_inches=0.1, frameon=True);\n",
    "\n",
    "    plt.close()"
   ]
  },
  {
   "cell_type": "markdown",
   "metadata": {},
   "source": [
    "#### Inspiratory and expiratory mandatory tidal volume"
   ]
  },
  {
   "cell_type": "code",
   "execution_count": null,
   "metadata": {
    "scrolled": false
   },
   "outputs": [],
   "source": [
    "%%time\n",
    "\n",
    "pars = ['VTimand_kg', 'VTemand_kg']\n",
    "name = 'VTimand_emand'\n",
    "dim = 'mL/kg'; filetype = 'jpg'; dpi = 200\n",
    "\n",
    "for case in cases:\n",
    "    # print('Saving %s' % case)\n",
    "    fig = plt.figure()\n",
    "    fig.set_size_inches(8, 4)\n",
    "    fig.subplots_adjust(left=None, bottom=None, right=None, top=None, \n",
    "                            wspace=None, hspace=0.1)\n",
    "    ax = fig.add_subplot(1, 1, 1)\n",
    "    data_pars_measurements_ventilated[case][pars[0]].plot(ax = ax, label = pars[0])\n",
    "    data_pars_measurements_ventilated[case][pars[1]].plot(ax = ax, label = pars[1])\n",
    "    ax.set_xlabel('Time', size = 14, color = 'black')\n",
    "    ax.set_ylabel(dim, size = 14, color = 'black')\n",
    "    # ax.set_ylim(0, 10)\n",
    "    ax.set_title(case,  size = 14, color = 'black')\n",
    "    ax.legend()\n",
    "    ax.grid('on', linestyle='-', linewidth=0.5, color = 'gray')\n",
    "    xticks = pd.date_range(start = data_pars_measurements_ventilated[case].index.min(), \n",
    "                       end = data_pars_measurements_ventilated[case].index.max(), freq='15min')\n",
    "    #ax.set_xticks(xticks)\n",
    "    ax.tick_params(which = 'both', labelsize=12)\n",
    "            \n",
    "    fig.savefig('%s/%s/%s/%s_%s.%s' % (DATA_DUMP, 'fabian_cases', case, case, name, filetype), dpi = dpi, \n",
    "        facecolor='w', edgecolor='w', orientation='portrait', \n",
    "        papertype=None, format = filetype, transparent=False, bbox_inches='tight',\n",
    "        pad_inches=0.1, frameon=True);\n",
    "\n",
    "    plt.close()"
   ]
  },
  {
   "cell_type": "markdown",
   "metadata": {},
   "source": [
    "#### Minute volume"
   ]
  },
  {
   "cell_type": "code",
   "execution_count": null,
   "metadata": {
    "scrolled": false
   },
   "outputs": [],
   "source": [
    "%%time\n",
    "\n",
    "par = 'MV_kg'\n",
    "dim = 'mL/kg/min'; filetype = 'jpg'; dpi = 200\n",
    "\n",
    "for case in cases:\n",
    "    # print('Saving %s' % case)\n",
    "    fig = plt.figure()\n",
    "    fig.set_size_inches(8, 4)\n",
    "    fig.subplots_adjust(left=None, bottom=None, right=None, top=None, \n",
    "                            wspace=None, hspace=0.1)\n",
    "    ax = fig.add_subplot(1, 1, 1)\n",
    "    data_pars_measurements_ventilated[case][par].plot(ax = ax, label = par)\n",
    "    ax.set_xlabel('Time', size = 14, color = 'black')\n",
    "    ax.set_ylabel(dim, size = 14, color = 'black')\n",
    "    ax.set_title(case,  size = 14, color = 'black')\n",
    "    ax.legend()\n",
    "    ax.grid('on', linestyle='-', linewidth=0.5, color = 'gray')\n",
    "    xticks = pd.date_range(start = data_pars_measurements_ventilated[case].index.min(), \n",
    "                       end = data_pars_measurements_ventilated[case].index.max(), freq='15min')\n",
    "    #ax.set_xticks(xticks)\n",
    "    ax.tick_params(which = 'both', labelsize=12)\n",
    "            \n",
    "    fig.savefig('%s/%s/%s/%s_%s.%s' % (DATA_DUMP, 'fabian_cases', case, case, par, filetype), dpi = dpi, \n",
    "        facecolor='w', edgecolor='w', orientation='portrait', \n",
    "        papertype=None, format = filetype, transparent=False, bbox_inches='tight',\n",
    "        pad_inches=0.1, frameon=True);\n",
    "\n",
    "    plt.close()"
   ]
  },
  {
   "cell_type": "markdown",
   "metadata": {},
   "source": [
    "#### Pressures (PIP, MAP and PEEP)"
   ]
  },
  {
   "cell_type": "code",
   "execution_count": null,
   "metadata": {
    "scrolled": false
   },
   "outputs": [],
   "source": [
    "%%time\n",
    "\n",
    "pars = ['PIP', 'MAP', 'PEEP']\n",
    "name = 'pressures'\n",
    "dim = 'cmH2O'; filetype = 'jpg'; dpi = 200\n",
    "\n",
    "for case in cases:\n",
    "    # print('Saving %s' % case)\n",
    "    fig = plt.figure()\n",
    "    fig.set_size_inches(8, 4)\n",
    "    fig.subplots_adjust(left=None, bottom=None, right=None, top=None, \n",
    "                            wspace=None, hspace=0.1)\n",
    "    ax = fig.add_subplot(1, 1, 1)\n",
    "    data_pars_measurements_ventilated[case][pars[0]].plot()\n",
    "    data_pars_measurements_ventilated[case][pars[1]].plot(color = 'black', linewidth = 2)\n",
    "    data_pars_measurements_ventilated[case][pars[2]].plot(color = 'red')\n",
    "    \n",
    "    ax.set_xlabel('Time', size = 14, color = 'black')\n",
    "    ax.set_ylabel(dim, size = 14, color = 'black')\n",
    "    ax.set_title(case,  size = 14, color = 'black')\n",
    "    ax.legend()\n",
    "    ax.grid('on', linestyle='-', linewidth=0.5, color = 'gray')\n",
    "    xticks = pd.date_range(start = data_pars_measurements_ventilated[case].index.min(), \n",
    "                       end = data_pars_measurements_ventilated[case].index.max(), freq='15min')\n",
    "    #ax.set_xticks(xticks)\n",
    "    ax.tick_params(which = 'both', labelsize=12)\n",
    "            \n",
    "    fig.savefig('%s/%s/%s/%s_%s.%s' % (DATA_DUMP, 'fabian_cases', case, case, name, filetype), dpi = dpi, \n",
    "        facecolor='w', edgecolor='w', orientation='portrait', \n",
    "        papertype=None, format = filetype, transparent=False, bbox_inches='tight',\n",
    "        pad_inches=0.1, frameon=True);\n",
    "\n",
    "    plt.close()"
   ]
  },
  {
   "cell_type": "markdown",
   "metadata": {},
   "source": [
    "#### Backup respiratory rate"
   ]
  },
  {
   "cell_type": "code",
   "execution_count": null,
   "metadata": {
    "scrolled": false
   },
   "outputs": [],
   "source": [
    "%%time\n",
    "\n",
    "par = 'RR_set'\n",
    "dim = '1/min'; filetype = 'jpg'; dpi = 200\n",
    "\n",
    "for case in cases:\n",
    "    # print('Saving %s' % case)\n",
    "    fig = plt.figure()\n",
    "    fig.set_size_inches(8, 4)\n",
    "    fig.subplots_adjust(left=None, bottom=None, right=None, top=None, \n",
    "                            wspace=None, hspace=0.1)\n",
    "    ax = fig.add_subplot(1, 1, 1)\n",
    "    data_pars_settings_ventilated[case][par].plot(ax = ax, label = par)\n",
    "    ax.set_xlabel('Time', size = 14, color = 'black')\n",
    "    ax.set_ylabel(dim, size = 14, color = 'black')\n",
    "    ax.set_ylim(0, 70)\n",
    "    ax.set_title(case,  size = 14, color = 'black')\n",
    "    ax.legend()\n",
    "    ax.grid('on', linestyle='-', linewidth=0.5, color = 'gray')\n",
    "    xticks = pd.date_range(start = data_pars_measurements_ventilated[case].index.min(), \n",
    "                       end = data_pars_measurements_ventilated[case].index.max(), freq='15min')\n",
    "    #ax.set_xticks(xticks)\n",
    "    ax.tick_params(which = 'both', labelsize=12)\n",
    "            \n",
    "    fig.savefig('%s/%s/%s/%s_%s.%s' % (DATA_DUMP, 'fabian_cases', case, case, par, filetype), dpi = dpi, \n",
    "        facecolor='w', edgecolor='w', orientation='portrait', \n",
    "        papertype=None, format = filetype, transparent=False, bbox_inches='tight',\n",
    "        pad_inches=0.1, frameon=True);\n",
    "\n",
    "    plt.close()"
   ]
  },
  {
   "cell_type": "markdown",
   "metadata": {},
   "source": [
    "#### Actual rate and backup rate for those recordings that have SIPPV and/or SIMPSV parts"
   ]
  },
  {
   "cell_type": "code",
   "execution_count": null,
   "metadata": {
    "scrolled": false
   },
   "outputs": [],
   "source": [
    "%%time\n",
    "\n",
    "pars = ['RR', 'RR_set']\n",
    "name = 'rates'\n",
    "dim = '1/min'; filetype = 'jpg'; dpi = 200\n",
    "\n",
    "for case in cases:\n",
    "    if vent_modes_ventilated.loc[case]['SIPPV'] > 0 or vent_modes_ventilated.loc[case]['SIMVPSV'] > 0:\n",
    "        # print('Saving %s' % case)\n",
    "        fig = plt.figure()\n",
    "        fig.set_size_inches(8, 4)\n",
    "        fig.subplots_adjust(left=None, bottom=None, right=None, top=None, \n",
    "                            wspace=None, hspace=0.1)\n",
    "        ax = fig.add_subplot(1, 1, 1)\n",
    "        data_pars_measurements_ventilated[case][pars[0]].plot(ax = ax, label = pars[0])\n",
    "        data_pars_settings_ventilated[case][pars[1]].plot(ax = ax, label = pars[1])\n",
    "        ax.set_xlabel('Time', size = 14, color = 'black')\n",
    "        ax.set_ylabel(dim, size = 14, color = 'black')\n",
    "        #ax.set_ylim(0, 70)\n",
    "        ax.set_title(case,  size = 14, color = 'black')\n",
    "        ax.legend()\n",
    "        ax.grid('on', linestyle='-', linewidth=0.5, color = 'gray')\n",
    "        xticks = pd.date_range(start = data_pars_measurements_ventilated[case].index.min(), \n",
    "                       end = data_pars_measurements_ventilated[case].index.max(), freq='15min')\n",
    "        #ax.set_xticks(xticks)\n",
    "        ax.tick_params(which = 'both', labelsize=12)\n",
    "            \n",
    "        fig.savefig('%s/%s/%s/%s_%s.%s' % (DATA_DUMP, 'fabian_cases', case, case, name, filetype), dpi = dpi, \n",
    "                facecolor='w', edgecolor='w', orientation='portrait', \n",
    "                papertype=None, format = filetype, transparent=False, bbox_inches='tight',\n",
    "                pad_inches=0.1, frameon=True);\n",
    "\n",
    "        plt.close();\n",
    "    "
   ]
  },
  {
   "cell_type": "markdown",
   "metadata": {},
   "source": [
    "#### FiO2"
   ]
  },
  {
   "cell_type": "code",
   "execution_count": null,
   "metadata": {},
   "outputs": [],
   "source": [
    "%%time\n",
    "\n",
    "par = 'FiO2_set'\n",
    "dim = '%'; filetype = 'jpg'; dpi = 200\n",
    "\n",
    "for case in cases:\n",
    "    # print('Saving %s' % case)\n",
    "    fig = plt.figure()\n",
    "    fig.set_size_inches(8, 4)\n",
    "    fig.subplots_adjust(left=None, bottom=None, right=None, top=None, \n",
    "                            wspace=None, hspace=0.1)\n",
    "    ax = fig.add_subplot(1, 1, 1)\n",
    "    data_pars_settings_ventilated[case][par].plot(ax = ax, label = par)\n",
    "    ax.set_xlabel('Time', size = 14, color = 'black')\n",
    "    ax.set_ylabel(dim, size = 14, color = 'black')\n",
    "    ax.set_ylim(0, 100)\n",
    "    ax.set_title(case,  size = 14, color = 'black')\n",
    "    ax.legend('FiO2')\n",
    "    ax.grid('on', linestyle='-', linewidth=0.5, color = 'gray')\n",
    "    xticks = pd.date_range(start = data_pars_measurements_ventilated[case].index.min(), \n",
    "                       end = data_pars_measurements_ventilated[case].index.max(), freq='15min')\n",
    "    #ax.set_xticks(xticks)\n",
    "    ax.tick_params(which = 'both', labelsize=12)\n",
    "            \n",
    "    fig.savefig('%s/%s/%s/%s_%s.%s' % (DATA_DUMP, 'fabian_cases', case, case, par, filetype), dpi = dpi, \n",
    "        facecolor='w', edgecolor='w', orientation='portrait', \n",
    "        papertype=None, format = filetype, transparent=False, bbox_inches='tight',\n",
    "        pad_inches=0.1, frameon=True);\n",
    "\n",
    "    plt.close()"
   ]
  },
  {
   "cell_type": "markdown",
   "metadata": {},
   "source": [
    "#### Leak"
   ]
  },
  {
   "cell_type": "code",
   "execution_count": null,
   "metadata": {},
   "outputs": [],
   "source": [
    "%%time\n",
    "\n",
    "par = 'Leak'\n",
    "dim = '%'; filetype = 'jpg'; dpi = 200\n",
    "\n",
    "for case in cases:\n",
    "    # print('Saving %s' % case)\n",
    "    fig = plt.figure()\n",
    "    fig.set_size_inches(8, 4)\n",
    "    fig.subplots_adjust(left=None, bottom=None, right=None, top=None, \n",
    "                            wspace=None, hspace=0.1)\n",
    "    ax = fig.add_subplot(1, 1, 1)\n",
    "    data_pars_measurements_ventilated[case][par].plot(ax = ax, label = par)\n",
    "    ax.set_xlabel('Time', size = 14, color = 'black')\n",
    "    ax.set_ylabel(dim, size = 14, color = 'black')\n",
    "    ax.set_ylim(-5, 100)\n",
    "    ax.set_title(case,  size = 14, color = 'black')\n",
    "    ax.legend()\n",
    "    ax.grid('on', linestyle='-', linewidth=0.5, color = 'gray')\n",
    "    xticks = pd.date_range(start = data_pars_measurements_ventilated[case].index.min(), \n",
    "                       end = data_pars_measurements_ventilated[case].index.max(), freq='15min')\n",
    "    #ax.set_xticks(xticks)\n",
    "    ax.tick_params(which = 'both', labelsize=12)\n",
    "            \n",
    "    fig.savefig('%s/%s/%s/%s_%s.%s' % (DATA_DUMP, 'fabian_cases', case, case, par, filetype), dpi = dpi, \n",
    "        facecolor='w', edgecolor='w', orientation='portrait', \n",
    "        papertype=None, format = filetype, transparent=False, bbox_inches='tight',\n",
    "        pad_inches=0.1, frameon=True);\n",
    "\n",
    "    plt.close()"
   ]
  }
 ],
 "metadata": {
  "anaconda-cloud": {},
  "kernelspec": {
   "display_name": "Python 3",
   "language": "python",
   "name": "python3"
  },
  "language_info": {
   "codemirror_mode": {
    "name": "ipython",
    "version": 3
   },
   "file_extension": ".py",
   "mimetype": "text/x-python",
   "name": "python",
   "nbconvert_exporter": "python",
   "pygments_lexer": "ipython3",
   "version": "3.7.1"
  }
 },
 "nbformat": 4,
 "nbformat_minor": 2
}
